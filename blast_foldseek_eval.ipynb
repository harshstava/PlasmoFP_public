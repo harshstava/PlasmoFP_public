{
 "cells": [
  {
   "cell_type": "code",
   "execution_count": 3,
   "metadata": {},
   "outputs": [
    {
     "name": "stderr",
     "output_type": "stream",
     "text": [
      "/opt/anaconda3/lib/python3.9/site-packages/scipy/__init__.py:146: UserWarning: A NumPy version >=1.16.5 and <1.23.0 is required for this version of SciPy (detected version 1.23.5\n",
      "  warnings.warn(f\"A NumPy version >={np_minversion} and <{np_maxversion}\"\n"
     ]
    }
   ],
   "source": [
    "import ast\n",
    "import math\n",
    "import pickle\n",
    "import random\n",
    "import json\n",
    "import warnings\n",
    "from collections import Counter, deque\n",
    "\n",
    "import numpy as np\n",
    "import pandas as pd\n",
    "import torch\n",
    "import torch.nn as nn\n",
    "import torch.nn.functional as F\n",
    "import torch.optim as optim\n",
    "from torch.optim.lr_scheduler import ReduceLROnPlateau\n",
    "from torch.utils.data import DataLoader, TensorDataset\n",
    "import networkx as nx\n",
    "import matplotlib.pyplot as plt\n",
    "import seaborn as sns\n",
    "from tqdm import tqdm\n",
    "from scipy.stats import median_abs_deviation\n",
    "from sklearn.metrics import auc\n",
    "\n",
    "from sklearn.exceptions import UndefinedMetricWarning\n",
    "from sklearn.metrics import (\n",
    "    accuracy_score, average_precision_score, f1_score,\n",
    "    precision_score, recall_score, roc_auc_score, classification_report,\n",
    "    precision_recall_curve\n",
    ")\n",
    "from sklearn.preprocessing import MultiLabelBinarizer, StandardScaler\n",
    "\n",
    "from iterstrat.ml_stratifiers import (\n",
    "    MultilabelStratifiedKFold, MultilabelStratifiedShuffleSplit\n",
    ")\n"
   ]
  },
  {
   "cell_type": "code",
   "execution_count": 30,
   "metadata": {},
   "outputs": [],
   "source": [
    "ia_df = pd.read_csv(r'IA_all.tsv', sep='\\t', header=None)\n",
    "ia_df.columns = ['GO', 'IA']\n",
    "\n",
    "ic_dict = dict(zip(ia_df['GO'], ia_df['IA']))"
   ]
  },
  {
   "cell_type": "code",
   "execution_count": 5,
   "metadata": {},
   "outputs": [],
   "source": [
    "import os \n",
    "os.chdir('..')"
   ]
  },
  {
   "cell_type": "code",
   "execution_count": 6,
   "metadata": {},
   "outputs": [],
   "source": [
    "def process_GO_data(file_path):\n",
    "    \"\"\"\n",
    "    Processes GO data by reading a TSV file, parsing the 'Propagated GO terms filtered' column,\n",
    "    removing entries with empty GO terms, and updating the embeddings.\n",
    "\n",
    "    Parameters:\n",
    "    - file_path: str, path to the TSV file containing GO data.\n",
    "\n",
    "    Returns:\n",
    "    - GO_df: pd.DataFrame, the processed GO DataFrame.\n",
    "    - GO_list: list, list of 'Propagated GO terms filtered' for each entry.\n",
    "    - GO_annotated: list, list of 'Raw GO terms' for each entry.\n",
    "    \"\"\"\n",
    "    GO_df = pd.read_csv(file_path, sep='\\t')\n",
    "    GO_df['Raw propagated GO terms'] = GO_df['Raw propagated GO terms'].apply(ast.literal_eval)\n",
    "    GO_df = GO_df.reset_index(drop=True)\n",
    "    indices_to_remove = GO_df[GO_df['Raw propagated GO terms'].apply(lambda x: len(x) == 0)].index\n",
    "    GO_df = GO_df[GO_df['Raw propagated GO terms'].apply(lambda x: len(x) != 0)]\n",
    "    GO_df = GO_df.reset_index(drop=True)  # Reset index after removal\n",
    "    GO_list = GO_df['Raw propagated GO terms'].tolist()\n",
    "    GO_annotated = GO_df['Raw GO terms'].tolist()\n",
    "    \n",
    "    return GO_df, GO_list, GO_annotated"
   ]
  },
  {
   "cell_type": "code",
   "execution_count": 9,
   "metadata": {},
   "outputs": [],
   "source": [
    "plasmodium_MF_df, plasmodium_MF_GO_list, plasmodium_MF_GO_annotated = process_GO_data( r'processed_data_90_30/Plasmodium_MA_function.tsv')\n",
    "plasmodium_CC_df, plasmodium_CC_GO_list, plasmodium_CC_GO_annotated = process_GO_data( r'processed_data_90_30/Plasmodium_MA_component.tsv')\n",
    "plasmodium_BP_df, plasmodium_BP_GO_list, plasmodium_BP_GO_annotated = process_GO_data( r'processed_data_90_30/Plasmodium_MA_process.tsv')\n",
    "\n",
    "test_MF_df, test_MF_GO_list, test_MF_GO_annotated = process_GO_data( r'processed_data_90_30/function_test.tsv')\n",
    "test_CC_df, test_CC_GO_list, test_CC_GO_annotated = process_GO_data( r'processed_data_90_30/component_test.tsv')\n",
    "test_BP_df, test_BP_GO_list, test_BP_GO_annotated = process_GO_data( r'processed_data_90_30/process_test.tsv')"
   ]
  },
  {
   "cell_type": "code",
   "execution_count": 34,
   "metadata": {},
   "outputs": [],
   "source": [
    "test_MF_df_dict = {test_MF_df['Entry'][i]: test_MF_GO_list[i] for i in range(len(test_MF_df))}\n",
    "test_CC_df_dict = {test_CC_df['Entry'][i]: test_CC_GO_list[i] for i in range(len(test_CC_df))}\n",
    "test_BP_df_dict = {test_BP_df['Entry'][i]: test_BP_GO_list[i] for i in range(len(test_BP_df))}\n",
    "\n",
    "plasmodium_MF_df_dict = {plasmodium_MF_df['Entry'][i]: plasmodium_MF_GO_list[i] for i in range(len(plasmodium_MF_df))}\n",
    "plasmodium_CC_df_dict = {plasmodium_CC_df['Entry'][i]: plasmodium_CC_GO_list[i] for i in range(len(plasmodium_CC_df))}\n",
    "plasmodium_BP_df_dict = {plasmodium_BP_df['Entry'][i]: plasmodium_BP_GO_list[i] for i in range(len(plasmodium_BP_df))}\n",
    "\n",
    "#convert to sets \n",
    "plasmodium_MF_df_dict = {k: set(v) for k, v in plasmodium_MF_df_dict.items()}\n",
    "plasmodium_CC_df_dict = {k: set(v) for k, v in plasmodium_CC_df_dict.items()}\n",
    "plasmodium_BP_df_dict = {k: set(v) for k, v in plasmodium_BP_df_dict.items()}\n",
    "\n",
    "test_MF_df_dict = {k: set(v) for k, v in test_MF_df_dict.items()}\n",
    "test_CC_df_dict = {k: set(v) for k, v in test_CC_df_dict.items()}\n",
    "test_BP_df_dict = {k: set(v) for k, v in test_BP_df_dict.items()}"
   ]
  },
  {
   "cell_type": "code",
   "execution_count": 20,
   "metadata": {},
   "outputs": [],
   "source": [
    "blast_function_on_train = pickle.load(open('blast_results/blast_function_test_on_train_pred_annots_dict.pkl', 'rb'))\n",
    "blast_component_on_train = pickle.load(open('blast_results/blast_component_test_on_train_pred_annots_dict.pkl', 'rb'))\n",
    "blast_process_on_train = pickle.load(open('blast_results/blast_process_test_on_train_pred_annots_dict.pkl', 'rb'))\n",
    "\n",
    "blast_function_on_swissprot = pickle.load(open('blast_results/blast_function_test_on_swissprot_pred_annots_dict.pkl', 'rb'))\n",
    "blast_component_on_swissprot = pickle.load(open('blast_results/blast_component_test_on_swissprot_pred_annots_dict.pkl', 'rb'))\n",
    "blast_process_on_swissprot = pickle.load(open('blast_results/blast_process_test_on_swissprot_pred_annots_dict.pkl', 'rb'))\n",
    "\n",
    "blast_plasmodium_function_on_swissprot = pickle.load(open('blast_results/blast_function_pf_on_swissprot_pred_annots_dict.pkl', 'rb'))\n",
    "blast_plasmodium_component_on_swissprot = pickle.load(open('blast_results/blast_component_pf_on_swissprot_pred_annots_dict.pkl', 'rb'))\n",
    "blast_plasmodium_process_on_swissprot = pickle.load(open('blast_results/blast_process_pf_on_swissprot_pred_annots_dict.pkl', 'rb'))"
   ]
  },
  {
   "cell_type": "code",
   "execution_count": 25,
   "metadata": {},
   "outputs": [],
   "source": [
    "foldseek_function_on_train = pickle.load(open('foldseek_results/foldseek_function_on_train_pred_annots_dict.pkl', 'rb'))\n",
    "foldseek_component_on_train = pickle.load(open('foldseek_results/foldseek_component_on_train_pred_annots_dict.pkl', 'rb'))\n",
    "foldseek_process_on_train = pickle.load(open('foldseek_results/foldseek_process_on_train_pred_annots_dict.pkl', 'rb'))\n",
    "\n",
    "foldseek_function_on_swissprot = pickle.load(open('foldseek_results/foldseek_function_on_swissprot_pred_annots_dict.pkl', 'rb'))\n",
    "foldseek_component_on_swissprot = pickle.load(open('foldseek_results/foldseek_component_on_swissprot_pred_annots_dict.pkl', 'rb'))\n",
    "foldseek_process_on_swissprot = pickle.load(open('foldseek_results/foldseek_process_on_swissprot_pred_annots_dict.pkl', 'rb'))\n",
    "\n",
    "foldseek_plasmodium_function_on_swissprot = pickle.load(open('foldseek_results/foldseek_function_pf_on_swissprot_pred_annots_dict.pkl', 'rb'))\n",
    "foldseek_plasmodium_component_on_swissprot = pickle.load(open('foldseek_results/foldseek_component_pf_on_swissprot_pred_annots_dict.pkl', 'rb'))\n",
    "foldseek_plasmodium_process_on_swissprot = pickle.load(open('foldseek_results/foldseek_process_pf_on_swissprot_pred_annots_dict.pkl', 'rb'))"
   ]
  },
  {
   "cell_type": "code",
   "execution_count": 26,
   "metadata": {},
   "outputs": [],
   "source": [
    "def evaluate_annotations(ic_dict, real_annots_dict, pred_annots_dict):\n",
    "    \"\"\"\n",
    "    Evaluates precision, recall, F1-score, remaining uncertainty (ru),\n",
    "    and misinformation (mi) using sets of GO terms.\n",
    "    \"\"\"\n",
    "    total = 0\n",
    "    p_sum = 0.0\n",
    "    r_sum = 0.0\n",
    "    p_total = 0\n",
    "    ru = 0.0\n",
    "    mi = 0.0\n",
    "    fps = []\n",
    "    fns = []\n",
    "    tp_global, fp_global, fn_global = 0, 0, 0\n",
    "\n",
    "    common_entries = set(real_annots_dict.keys()).intersection(pred_annots_dict.keys())\n",
    "\n",
    "    for entry in common_entries:\n",
    "        real_annots = real_annots_dict[entry]\n",
    "        pred_annots = pred_annots_dict[entry]  # Now correctly treated as a set\n",
    "\n",
    "        tp = real_annots.intersection(pred_annots)\n",
    "        fp = pred_annots - tp\n",
    "        fn = real_annots - tp\n",
    "\n",
    "        tp_global += len(tp)\n",
    "        fp_global += len(fp)\n",
    "        fn_global += len(fn)\n",
    "\n",
    "        for go_id in fp:\n",
    "            if go_id in ic_dict:\n",
    "                mi += ic_dict[go_id]  # No need to multiply by score since it's a set\n",
    "\n",
    "        for go_id in fn:\n",
    "            if go_id in ic_dict:\n",
    "                ru += ic_dict[go_id]\n",
    "\n",
    "        fps.append(fp)\n",
    "        fns.append(fn)\n",
    "        total += 1\n",
    "\n",
    "        recall = len(tp) / (len(tp) + len(fn)) if (len(tp) + len(fn)) > 0 else 0\n",
    "        precision = len(tp) / (len(tp) + len(fp)) if (len(tp) + len(fp)) > 0 else 0\n",
    "\n",
    "        r_sum += recall\n",
    "        if len(pred_annots) > 0:\n",
    "            p_total += 1\n",
    "            p_sum += precision\n",
    "\n",
    "    r = r_sum / total if total > 0 else 0\n",
    "    p = p_sum / p_total if p_total > 0 else 0\n",
    "\n",
    "    p_micro = tp_global / (tp_global + fp_global) if (tp_global + fp_global) > 0 else 0\n",
    "    r_micro = tp_global / (tp_global + fn_global) if (tp_global + fn_global) > 0 else 0\n",
    "\n",
    "    f = 2 * p * r / (p + r) if (p + r) > 0 else 0\n",
    "    f_micro = 2 * p_micro * r_micro / (p_micro + r_micro) if (p_micro + r_micro) > 0 else 0\n",
    "\n",
    "    ru /= total\n",
    "    mi /= total\n",
    "\n",
    "    s = math.sqrt(ru * ru + mi * mi)\n",
    "\n",
    "    return f, p, r, s, ru, mi, f_micro, p_micro, r_micro, tp_global, fp_global, fn_global\n",
    "\n",
    "def _calculate_metrics_at_threshold(ic_dict, real_annots_dict, pred_annots_dict_with_scores, threshold):\n",
    "    \"\"\"\n",
    "    Helper function to calculate metrics at a specific threshold.\n",
    "    Only predictions with a score >= threshold are kept.\n",
    "    \"\"\"\n",
    "    # Keep only GO terms with scores >= threshold\n",
    "    filtered_pred_annots_dict = {\n",
    "        entry: {go_id for go_id, score in go_scores.items() if score >= threshold}\n",
    "        for entry, go_scores in pred_annots_dict_with_scores.items()\n",
    "    }\n",
    "\n",
    "    # Evaluate annotations using the filtered predictions\n",
    "    f, p, r, s, ru, mi, f_micro, p_micro, r_micro, tp_global, fp_global, fn_global = \\\n",
    "        evaluate_annotations(ic_dict, real_annots_dict, filtered_pred_annots_dict)\n",
    "\n",
    "    # Calculate coverage\n",
    "    cov = len([1 for preds in filtered_pred_annots_dict.values() if len(preds) > 0]) / len(real_annots_dict)\n",
    "\n",
    "    return {\n",
    "        'n': threshold,  # Store the current threshold\n",
    "        'tp': tp_global,\n",
    "        'fp': fp_global,\n",
    "        'fn': fn_global,\n",
    "        'pr': p,\n",
    "        'rc': r,\n",
    "        'cov': cov,\n",
    "        'mi': mi,\n",
    "        'ru': ru,\n",
    "        'f': f,\n",
    "        's': s,\n",
    "        'pr_micro': p_micro,\n",
    "        'rc_micro': r_micro,\n",
    "        'f_micro': f_micro,\n",
    "        'cov_max': cov\n",
    "    }\n",
    "\n",
    "\n",
    "def threshold_performance_metrics(ic_dict, real_annots_dict, pred_annots_dict_with_scores, threshold_range=None, set_threshold=None):\n",
    "    \"\"\"\n",
    "    Calculates S-min and F-max over a range of thresholds or at a set threshold.\n",
    "    \"\"\"\n",
    "    if threshold_range is None and set_threshold is None:\n",
    "        raise ValueError(\"Either threshold_range or set_threshold must be provided.\")\n",
    "\n",
    "    smin = float('inf')\n",
    "    fmax = 0\n",
    "    best_threshold_s = None\n",
    "    best_threshold_f = None\n",
    "    s_at_fmax = None\n",
    "    results = []\n",
    "\n",
    "    if set_threshold is not None:\n",
    "        # Calculate metrics for the set threshold only\n",
    "        result = _calculate_metrics_at_threshold(ic_dict, real_annots_dict, pred_annots_dict_with_scores, set_threshold)\n",
    "        results.append(result)\n",
    "    else:\n",
    "        # Iterate over the threshold range and calculate metrics\n",
    "        for threshold in tqdm(threshold_range, desc='Calculating Smin & Fmax'):\n",
    "            result = _calculate_metrics_at_threshold(ic_dict, real_annots_dict, pred_annots_dict_with_scores, threshold)\n",
    "            results.append(result)\n",
    "\n",
    "            if result['s'] < smin:\n",
    "                smin = result['s']\n",
    "                best_threshold_s = threshold\n",
    "            if result['f'] > fmax:\n",
    "                fmax = result['f']\n",
    "                best_threshold_f = threshold\n",
    "                s_at_fmax = result['s']\n",
    "\n",
    "    results_df = pd.DataFrame(results)\n",
    "\n",
    "    print(f\"F-max @ Best Threshold ({best_threshold_f}): {fmax}\")\n",
    "    print(f\"S-min @ Best Threshold ({best_threshold_s}): {smin}\")\n",
    "    print(f\"S-min @ F-max Threshold ({best_threshold_f}): {s_at_fmax}\")\n",
    "\n",
    "    return smin, fmax, best_threshold_s, best_threshold_f, s_at_fmax, results_df\n",
    "\n",
    "\n",
    "def calculate_aupr_micro(real_annots_dict, pred_annots_dict_with_scores):\n",
    "    \"\"\"\n",
    "    Calculate AUPR Micro for the entire dataset.\n",
    "    \"\"\"\n",
    "    # Flatten the ground truth and predicted scores into lists\n",
    "    y_true_flat = []\n",
    "    y_scores_flat = []\n",
    "\n",
    "    for entry, go_scores in pred_annots_dict_with_scores.items():\n",
    "        real_annots = real_annots_dict.get(entry, set())\n",
    "        \n",
    "        for go_id, score in go_scores.items():\n",
    "            y_true_flat.append(1 if go_id in real_annots else 0)\n",
    "            y_scores_flat.append(score)\n",
    "\n",
    "    # Calculate precision-recall curve and AUPR micro\n",
    "    precision, recall, _ = precision_recall_curve(y_true_flat, y_scores_flat)\n",
    "    return auc(recall, precision)\n",
    "\n"
   ]
  },
  {
   "cell_type": "code",
   "execution_count": 27,
   "metadata": {},
   "outputs": [],
   "source": [
    "threshold_range = np.arange(0.01, 1.00, 0.01).astype(np.float32)\n"
   ]
  },
  {
   "cell_type": "markdown",
   "metadata": {},
   "source": [
    "#BLAST"
   ]
  },
  {
   "cell_type": "code",
   "execution_count": 35,
   "metadata": {},
   "outputs": [
    {
     "name": "stderr",
     "output_type": "stream",
     "text": [
      "Calculating Smin & Fmax: 100%|██████████| 99/99 [04:48<00:00,  2.91s/it]\n"
     ]
    },
    {
     "name": "stdout",
     "output_type": "stream",
     "text": [
      "F-max @ Best Threshold (0.9900000095367432): 0.6858464271163891\n",
      "S-min @ Best Threshold (0.9900000095367432): 6.280941047277003\n",
      "S-min @ F-max Threshold (0.9900000095367432): 6.280941047277003\n",
      "AUPR Micro: 0.7866795704822008\n"
     ]
    }
   ],
   "source": [
    "blast_func_test_on_train_smin, blast_func_test_on_train_fmax, blast_func_test_on_train_best_threshold_s, blast_func_test_on_train_best_threshold_f, blast_func_test_on_train_s_at_fmax, blast_func_test_on_train_results_df = threshold_performance_metrics(\n",
    "    ic_dict=ic_dict,\n",
    "    real_annots_dict=test_MF_df_dict,\n",
    "    pred_annots_dict_with_scores=blast_function_on_train,\n",
    "    threshold_range=threshold_range\n",
    ")\n",
    "print(f\"AUPR Micro: {calculate_aupr_micro(test_MF_df_dict, blast_function_on_train)}\")"
   ]
  },
  {
   "cell_type": "code",
   "execution_count": 38,
   "metadata": {},
   "outputs": [],
   "source": [
    "#save blast_func_test_on_train_results_df\n",
    "blast_func_test_on_train_results_df.to_csv('baseline models/blast_results/blast_func_test_on_train_fmax_smin_df.csv', index=False)"
   ]
  },
  {
   "cell_type": "code",
   "execution_count": 45,
   "metadata": {},
   "outputs": [
    {
     "name": "stderr",
     "output_type": "stream",
     "text": [
      "Calculating Smin & Fmax: 100%|██████████| 99/99 [05:24<00:00,  3.28s/it]\n"
     ]
    },
    {
     "name": "stdout",
     "output_type": "stream",
     "text": [
      "F-max @ Best Threshold (0.9900000095367432): 0.6961835777412881\n",
      "S-min @ Best Threshold (0.9900000095367432): 6.9090238953397\n",
      "S-min @ F-max Threshold (0.9900000095367432): 6.9090238953397\n",
      "AUPR Micro: 0.753624132171876\n"
     ]
    },
    {
     "name": "stderr",
     "output_type": "stream",
     "text": [
      "Calculating Smin & Fmax: 100%|██████████| 99/99 [01:30<00:00,  1.09it/s]\n"
     ]
    },
    {
     "name": "stdout",
     "output_type": "stream",
     "text": [
      "F-max @ Best Threshold (0.9900000095367432): 0.7218816715715645\n",
      "S-min @ Best Threshold (0.9900000095367432): 2.1367866810710554\n",
      "S-min @ F-max Threshold (0.9900000095367432): 2.1367866810710554\n",
      "AUPR Micro: 0.7900266491781599\n"
     ]
    },
    {
     "name": "stderr",
     "output_type": "stream",
     "text": [
      "Calculating Smin & Fmax: 100%|██████████| 99/99 [04:19<00:00,  2.62s/it]\n"
     ]
    },
    {
     "name": "stdout",
     "output_type": "stream",
     "text": [
      "F-max @ Best Threshold (0.9900000095367432): 0.598541236591428\n",
      "S-min @ Best Threshold (0.9900000095367432): 11.452622432349974\n",
      "S-min @ F-max Threshold (0.9900000095367432): 11.452622432349974\n",
      "AUPR Micro: 0.6847284791780713\n"
     ]
    },
    {
     "name": "stderr",
     "output_type": "stream",
     "text": [
      "Calculating Smin & Fmax: 100%|██████████| 99/99 [10:23<00:00,  6.30s/it]\n"
     ]
    },
    {
     "name": "stdout",
     "output_type": "stream",
     "text": [
      "F-max @ Best Threshold (0.9900000095367432): 0.5186763590505143\n",
      "S-min @ Best Threshold (0.9900000095367432): 31.50684534579625\n",
      "S-min @ F-max Threshold (0.9900000095367432): 31.50684534579625\n",
      "AUPR Micro: 0.5228277628542191\n"
     ]
    },
    {
     "name": "stderr",
     "output_type": "stream",
     "text": [
      "Calculating Smin & Fmax: 100%|██████████| 99/99 [02:14<00:00,  1.36s/it]\n"
     ]
    },
    {
     "name": "stdout",
     "output_type": "stream",
     "text": [
      "F-max @ Best Threshold (0.9900000095367432): 0.5902444074626783\n",
      "S-min @ Best Threshold (0.9900000095367432): 6.974960289964934\n",
      "S-min @ F-max Threshold (0.9900000095367432): 6.974960289964934\n",
      "AUPR Micro: 0.601654432870621\n"
     ]
    }
   ],
   "source": [
    "blast_process_test_on_train_smin, blast_process_test_on_train_fmax, blast_process_test_on_train_best_threshold_s, blast_process_test_on_train_best_threshold_f, blast_process_test_on_train_s_at_fmax, blast_process_test_on_train_results_df = threshold_performance_metrics(\n",
    "    ic_dict=ic_dict,\n",
    "    real_annots_dict=test_BP_df_dict,\n",
    "    pred_annots_dict_with_scores=blast_process_on_train,\n",
    "    threshold_range=threshold_range\n",
    ")\n",
    "print(f\"AUPR Micro: {calculate_aupr_micro(test_BP_df_dict, blast_process_on_train)}\")\n",
    "blast_component_test_on_train_smin, blast_component_test_on_train_fmax, blast_component_test_on_train_best_threshold_s, blast_component_test_on_train_best_threshold_f, blast_component_test_on_train_s_at_fmax, blast_component_test_on_train_results_df = threshold_performance_metrics(\n",
    "    ic_dict=ic_dict,\n",
    "    real_annots_dict=test_CC_df_dict,\n",
    "    pred_annots_dict_with_scores=blast_component_on_train,\n",
    "    threshold_range=threshold_range\n",
    ")\n",
    "print(f\"AUPR Micro: {calculate_aupr_micro(test_CC_df_dict, blast_component_on_train)}\")\n",
    "blast_func_test_on_swissprot_smin, blast_func_test_on_swissprot_fmax, blast_func_test_on_swissprot_best_threshold_s, blast_func_test_on_swissprot_best_threshold_f, blast_func_test_on_swissprot_s_at_fmax, blast_func_test_on_swissprot_results_df = threshold_performance_metrics(\n",
    "    ic_dict=ic_dict,\n",
    "    real_annots_dict=test_MF_df_dict,\n",
    "    pred_annots_dict_with_scores=blast_function_on_swissprot,\n",
    "    threshold_range=threshold_range\n",
    ")\n",
    "print(f\"AUPR Micro: {calculate_aupr_micro(test_MF_df_dict, blast_function_on_swissprot)}\")\n",
    "\n",
    "blast_process_test_on_swissprot_smin, blast_process_test_on_swissprot_fmax, blast_process_test_on_swissprot_best_threshold_s, blast_process_test_on_swissprot_best_threshold_f, blast_process_test_on_swissprot_s_at_fmax, blast_process_test_on_swissprot_results_df = threshold_performance_metrics(\n",
    "    ic_dict=ic_dict,\n",
    "    real_annots_dict=test_BP_df_dict,\n",
    "    pred_annots_dict_with_scores=blast_process_on_swissprot,\n",
    "    threshold_range=threshold_range\n",
    ")\n",
    "print(f\"AUPR Micro: {calculate_aupr_micro(test_BP_df_dict, blast_process_on_swissprot)}\")\n",
    "blast_component_test_on_swissprot_smin, blast_component_test_on_swissprot_fmax, blast_component_test_on_swissprot_best_threshold_s, blast_component_test_on_swissprot_best_threshold_f, blast_component_test_on_swissprot_s_at_fmax, blast_component_test_on_swissprot_results_df = threshold_performance_metrics(\n",
    "    ic_dict=ic_dict,\n",
    "    real_annots_dict=test_CC_df_dict,\n",
    "    pred_annots_dict_with_scores=blast_component_on_swissprot,\n",
    "    threshold_range=threshold_range\n",
    ")\n",
    "print(f\"AUPR Micro: {calculate_aupr_micro(test_CC_df_dict, blast_component_on_swissprot)}\")"
   ]
  },
  {
   "cell_type": "code",
   "execution_count": 46,
   "metadata": {},
   "outputs": [],
   "source": [
    "#save dfs \n",
    "blast_func_test_on_swissprot_results_df.to_csv('baseline models/blast_results/blast_func_test_on_swissprot_fmax_smin_df.csv', index=False)\n",
    "blast_process_test_on_swissprot_results_df.to_csv('baseline models/blast_results/blast_process_test_on_swissprot_fmax_smin_df.csv', index=False)\n",
    "blast_component_test_on_swissprot_results_df.to_csv('baseline models/blast_results/blast_component_test_on_swissprot_fmax_smin_df.csv', index=False)\n",
    "blast_process_test_on_train_results_df.to_csv('baseline models/blast_results/blast_process_test_on_train_fmax_smin_df.csv', index=False)\n",
    "blast_component_test_on_train_results_df.to_csv('baseline models/blast_results/blast_component_test_on_train_fmax_smin_df.csv', index=False)"
   ]
  },
  {
   "cell_type": "markdown",
   "metadata": {},
   "source": [
    "plasmodium"
   ]
  },
  {
   "cell_type": "code",
   "execution_count": 41,
   "metadata": {},
   "outputs": [
    {
     "name": "stderr",
     "output_type": "stream",
     "text": [
      "Calculating Smin & Fmax: 100%|██████████| 99/99 [00:11<00:00,  8.79it/s]\n"
     ]
    },
    {
     "name": "stdout",
     "output_type": "stream",
     "text": [
      "F-max @ Best Threshold (0.9900000095367432): 0.5948729642193064\n",
      "S-min @ Best Threshold (0.9900000095367432): 10.712260957990571\n",
      "S-min @ F-max Threshold (0.9900000095367432): 10.712260957990571\n",
      "AUPR Micro: 0.6961778204890277\n"
     ]
    },
    {
     "name": "stderr",
     "output_type": "stream",
     "text": [
      "Calculating Smin & Fmax: 100%|██████████| 99/99 [00:32<00:00,  3.09it/s]\n"
     ]
    },
    {
     "name": "stdout",
     "output_type": "stream",
     "text": [
      "F-max @ Best Threshold (0.9900000095367432): 0.5134676228319336\n",
      "S-min @ Best Threshold (0.9900000095367432): 24.594680429941278\n",
      "S-min @ F-max Threshold (0.9900000095367432): 24.594680429941278\n",
      "AUPR Micro: 0.5563032589912397\n"
     ]
    },
    {
     "name": "stderr",
     "output_type": "stream",
     "text": [
      "Calculating Smin & Fmax: 100%|██████████| 99/99 [00:06<00:00, 15.40it/s]"
     ]
    },
    {
     "name": "stdout",
     "output_type": "stream",
     "text": [
      "F-max @ Best Threshold (0.9300000071525574): 0.5559618222408098\n",
      "S-min @ Best Threshold (0.9900000095367432): 6.493964649252618\n",
      "S-min @ F-max Threshold (0.9300000071525574): 13.073187048030315\n"
     ]
    },
    {
     "name": "stderr",
     "output_type": "stream",
     "text": [
      "\n"
     ]
    }
   ],
   "source": [
    "blast_plasmodium_func_on_swissprot_smin, blast_plasmodium_func_on_swissprot_fmax, blast_plasmodium_func_on_swissprot_best_threshold_s, blast_plasmodium_func_on_swissprot_best_threshold_f, blast_plasmodium_func_on_swissprot_s_at_fmax, blast_plasmodium_func_on_swissprot_results_df = threshold_performance_metrics(\n",
    "    ic_dict=ic_dict,\n",
    "    real_annots_dict=plasmodium_MF_df_dict,\n",
    "    pred_annots_dict_with_scores=blast_plasmodium_function_on_swissprot,\n",
    "    threshold_range=threshold_range\n",
    ")\n",
    "print(f\"AUPR Micro: {calculate_aupr_micro(plasmodium_MF_df_dict, blast_plasmodium_function_on_swissprot)}\")\n",
    "\n",
    "blast_plasmodium_process_on_swissprot_smin, blast_plasmodium_process_on_swissprot_fmax, blast_plasmodium_process_on_swissprot_best_threshold_s, blast_plasmodium_process_on_swissprot_best_threshold_f, blast_plasmodium_process_on_swissprot_s_at_fmax, blast_plasmodium_process_on_swissprot_results_df = threshold_performance_metrics(\n",
    "    ic_dict=ic_dict,\n",
    "    real_annots_dict=plasmodium_BP_df_dict,\n",
    "    pred_annots_dict_with_scores=blast_plasmodium_process_on_swissprot,\n",
    "    threshold_range=threshold_range\n",
    ")\n",
    "print(f\"AUPR Micro: {calculate_aupr_micro(plasmodium_BP_df_dict, blast_plasmodium_process_on_swissprot)}\")\n",
    "\n",
    "blast_plasmodium_component_on_swissprot_smin, blast_plasmodium_component_on_swissprot_fmax, blast_plasmodium_component_on_swissprot_best_threshold_s, blast_plasmodium_component_on_swissprot_best_threshold_f, blast_plasmodium_component_on_swissprot_s_at_fmax, blast_plasmodium_component_on_swissprot_results_df = threshold_performance_metrics(\n",
    "    ic_dict=ic_dict,\n",
    "    real_annots_dict=plasmodium_CC_df_dict,\n",
    "    pred_annots_dict_with_scores=blast_plasmodium_component_on_swissprot,\n",
    "    threshold_range=threshold_range\n",
    ")"
   ]
  },
  {
   "cell_type": "code",
   "execution_count": 42,
   "metadata": {},
   "outputs": [],
   "source": [
    "#save dfs\n",
    "blast_plasmodium_func_on_swissprot_results_df.to_csv('baseline models/blast_results/blast_plasmodium_func_on_swissprot_fmax_smin_df.csv', index=False)\n",
    "blast_plasmodium_process_on_swissprot_results_df.to_csv('baseline models/blast_results/blast_plasmodium_process_on_swissprot_fmax_smin_df.csv', index=False)\n",
    "blast_plasmodium_component_on_swissprot_results_df.to_csv('baseline models/blast_results/blast_plasmodium_component_on_swissprot_fmax_smin_df.csv', index=False)"
   ]
  },
  {
   "cell_type": "markdown",
   "metadata": {},
   "source": [
    "# Foldseek"
   ]
  },
  {
   "cell_type": "markdown",
   "metadata": {},
   "source": [
    "plasmodium"
   ]
  },
  {
   "cell_type": "code",
   "execution_count": 43,
   "metadata": {},
   "outputs": [
    {
     "name": "stderr",
     "output_type": "stream",
     "text": [
      "Calculating Smin & Fmax: 100%|██████████| 99/99 [00:31<00:00,  3.18it/s]\n"
     ]
    },
    {
     "name": "stdout",
     "output_type": "stream",
     "text": [
      "F-max @ Best Threshold (0.9900000095367432): 0.4866229268602174\n",
      "S-min @ Best Threshold (0.9900000095367432): 15.568842784653118\n",
      "S-min @ F-max Threshold (0.9900000095367432): 15.568842784653118\n",
      "AUPR Micro: 0.5476459602352697\n"
     ]
    },
    {
     "name": "stderr",
     "output_type": "stream",
     "text": [
      "Calculating Smin & Fmax: 100%|██████████| 99/99 [02:07<00:00,  1.29s/it]\n"
     ]
    },
    {
     "name": "stdout",
     "output_type": "stream",
     "text": [
      "F-max @ Best Threshold (0.9800000190734863): 0.3976062910496501\n",
      "S-min @ Best Threshold (0.9900000095367432): 40.230700432573585\n",
      "S-min @ F-max Threshold (0.9800000190734863): 51.914073272113704\n",
      "AUPR Micro: 0.3475218193278338\n"
     ]
    },
    {
     "name": "stderr",
     "output_type": "stream",
     "text": [
      "Calculating Smin & Fmax: 100%|██████████| 99/99 [00:17<00:00,  5.50it/s]"
     ]
    },
    {
     "name": "stdout",
     "output_type": "stream",
     "text": [
      "F-max @ Best Threshold (0.9700000286102295): 0.5346706180359273\n",
      "S-min @ Best Threshold (0.9900000095367432): 8.480191253889489\n",
      "S-min @ F-max Threshold (0.9700000286102295): 12.671456936545338\n"
     ]
    },
    {
     "name": "stderr",
     "output_type": "stream",
     "text": [
      "\n"
     ]
    }
   ],
   "source": [
    "foldseek_plasmodium_func_on_swissprot_smin, foldseek_plasmodium_func_on_swissprot_fmax, foldseek_plasmodium_func_on_swissprot_best_threshold_s, foldseek_plasmodium_func_on_swissprot_best_threshold_f, foldseek_plasmodium_func_on_swissprot_s_at_fmax, foldseek_plasmodium_func_on_swissprot_results_df = threshold_performance_metrics(\n",
    "    ic_dict=ic_dict,\n",
    "    real_annots_dict=plasmodium_MF_df_dict,\n",
    "    pred_annots_dict_with_scores=foldseek_plasmodium_function_on_swissprot,\n",
    "    threshold_range=threshold_range\n",
    ")\n",
    "print(f\"AUPR Micro: {calculate_aupr_micro(plasmodium_MF_df_dict, foldseek_plasmodium_function_on_swissprot)}\")\n",
    "\n",
    "foldseek_plasmodium_process_on_swissprot_smin, foldseek_plasmodium_process_on_swissprot_fmax, foldseek_plasmodium_process_on_swissprot_best_threshold_s, foldseek_plasmodium_process_on_swissprot_best_threshold_f, foldseek_plasmodium_process_on_swissprot_s_at_fmax, foldseek_plasmodium_process_on_swissprot_results_df = threshold_performance_metrics(\n",
    "    ic_dict=ic_dict,\n",
    "    real_annots_dict=plasmodium_BP_df_dict,\n",
    "    pred_annots_dict_with_scores=foldseek_plasmodium_process_on_swissprot,\n",
    "    threshold_range=threshold_range\n",
    ")\n",
    "print(f\"AUPR Micro: {calculate_aupr_micro(plasmodium_BP_df_dict, foldseek_plasmodium_process_on_swissprot)}\")\n",
    "\n",
    "foldseek_plasmodium_component_on_swissprot_smin, foldseek_plasmodium_component_on_swissprot_fmax, foldseek_plasmodium_component_on_swissprot_best_threshold_s, foldseek_plasmodium_component_on_swissprot_best_threshold_f, foldseek_plasmodium_component_on_swissprot_s_at_fmax, foldseek_plasmodium_component_on_swissprot_results_df = threshold_performance_metrics(\n",
    "    ic_dict=ic_dict,\n",
    "    real_annots_dict=plasmodium_CC_df_dict,\n",
    "    pred_annots_dict_with_scores=foldseek_plasmodium_component_on_swissprot,\n",
    "    threshold_range=threshold_range\n",
    ")"
   ]
  },
  {
   "cell_type": "code",
   "execution_count": 44,
   "metadata": {},
   "outputs": [],
   "source": [
    "#save dfs\n",
    "foldseek_plasmodium_func_on_swissprot_results_df.to_csv('baseline models/foldseek_results/foldseek_plasmodium_func_on_swissprot_fmax_smin_df.csv', index=False)\n",
    "foldseek_plasmodium_process_on_swissprot_results_df.to_csv('baseline models/foldseek_results/foldseek_plasmodium_process_on_swissprot_fmax_smin_df.csv', index=False)\n",
    "foldseek_plasmodium_component_on_swissprot_results_df.to_csv('baseline models/foldseek_results/foldseek_plasmodium_component_on_swissprot_fmax_smin_df.csv', index=False)"
   ]
  },
  {
   "cell_type": "code",
   "execution_count": 47,
   "metadata": {},
   "outputs": [
    {
     "name": "stderr",
     "output_type": "stream",
     "text": [
      "Calculating Smin & Fmax: 100%|██████████| 99/99 [01:42<00:00,  1.04s/it]\n"
     ]
    },
    {
     "name": "stdout",
     "output_type": "stream",
     "text": [
      "F-max @ Best Threshold (0.009999999776482582): 0.4258024535315746\n",
      "S-min @ Best Threshold (0.1599999964237213): 7.828731444270688\n",
      "S-min @ F-max Threshold (0.009999999776482582): 7.8800929093743655\n",
      "AUPR Micro: 0.7699852969233438\n"
     ]
    },
    {
     "name": "stderr",
     "output_type": "stream",
     "text": [
      "Calculating Smin & Fmax: 100%|██████████| 99/99 [01:23<00:00,  1.19it/s]\n"
     ]
    },
    {
     "name": "stdout",
     "output_type": "stream",
     "text": [
      "F-max @ Best Threshold (0.07000000029802322): 0.29871472160136453\n",
      "S-min @ Best Threshold (0.6000000238418579): 10.030916308423194\n",
      "S-min @ F-max Threshold (0.07000000029802322): 10.624523458300976\n",
      "AUPR Micro: 0.51053537707953\n"
     ]
    },
    {
     "name": "stderr",
     "output_type": "stream",
     "text": [
      "Calculating Smin & Fmax: 100%|██████████| 99/99 [01:13<00:00,  1.34it/s]\n"
     ]
    },
    {
     "name": "stdout",
     "output_type": "stream",
     "text": [
      "F-max @ Best Threshold (0.009999999776482582): 0.3519402126671549\n",
      "S-min @ Best Threshold (0.5): 2.6961853069370645\n",
      "S-min @ F-max Threshold (0.009999999776482582): 3.0487624655127337\n",
      "AUPR Micro: 0.5937977952694989\n"
     ]
    },
    {
     "name": "stderr",
     "output_type": "stream",
     "text": [
      "Calculating Smin & Fmax: 100%|██████████| 99/99 [05:23<00:00,  3.26s/it]\n"
     ]
    },
    {
     "name": "stdout",
     "output_type": "stream",
     "text": [
      "F-max @ Best Threshold (0.9900000095367432): 0.8085844137941027\n",
      "S-min @ Best Threshold (0.9900000095367432): 8.107724794554588\n",
      "S-min @ F-max Threshold (0.9900000095367432): 8.107724794554588\n",
      "AUPR Micro: 0.8449195348088556\n"
     ]
    },
    {
     "name": "stderr",
     "output_type": "stream",
     "text": [
      "Calculating Smin & Fmax: 100%|██████████| 99/99 [24:15<00:00, 14.70s/it]\n"
     ]
    },
    {
     "name": "stdout",
     "output_type": "stream",
     "text": [
      "F-max @ Best Threshold (0.9900000095367432): 0.7128679020096702\n",
      "S-min @ Best Threshold (0.9900000095367432): 29.388975073308888\n",
      "S-min @ F-max Threshold (0.9900000095367432): 29.388975073308888\n",
      "AUPR Micro: 0.6832811042734481\n"
     ]
    },
    {
     "name": "stderr",
     "output_type": "stream",
     "text": [
      "Calculating Smin & Fmax: 100%|██████████| 99/99 [04:03<00:00,  2.46s/it]\n"
     ]
    },
    {
     "name": "stdout",
     "output_type": "stream",
     "text": [
      "F-max @ Best Threshold (0.9900000095367432): 0.6900694797157101\n",
      "S-min @ Best Threshold (0.9900000095367432): 6.957947572977\n",
      "S-min @ F-max Threshold (0.9900000095367432): 6.957947572977\n",
      "AUPR Micro: 0.6899680977012932\n"
     ]
    }
   ],
   "source": [
    "foldseek_func_test_on_train_smin, foldseek_func_test_on_train_fmax, foldseek_func_test_on_train_best_threshold_s, foldseek_func_test_on_train_best_threshold_f, foldseek_func_test_on_train_s_at_fmax, foldseek_func_test_on_train_results_df = threshold_performance_metrics(\n",
    "    ic_dict=ic_dict,\n",
    "    real_annots_dict=test_MF_df_dict,\n",
    "    pred_annots_dict_with_scores=foldseek_function_on_train,\n",
    "    threshold_range=threshold_range\n",
    ")\n",
    "print(f\"AUPR Micro: {calculate_aupr_micro(test_MF_df_dict, foldseek_function_on_train)}\")\n",
    "\n",
    "foldseek_process_test_on_train_smin, foldseek_process_test_on_train_fmax, foldseek_process_test_on_train_best_threshold_s, foldseek_process_test_on_train_best_threshold_f, foldseek_process_test_on_train_s_at_fmax, foldseek_process_test_on_train_results_df = threshold_performance_metrics(\n",
    "    ic_dict=ic_dict,\n",
    "    real_annots_dict=test_BP_df_dict,\n",
    "    pred_annots_dict_with_scores=foldseek_process_on_train,\n",
    "    threshold_range=threshold_range\n",
    ")\n",
    "print(f\"AUPR Micro: {calculate_aupr_micro(test_BP_df_dict, foldseek_process_on_train)}\")\n",
    "\n",
    "foldseek_component_test_on_train_smin, foldseek_component_test_on_train_fmax, foldseek_component_test_on_train_best_threshold_s, foldseek_component_test_on_train_best_threshold_f, foldseek_component_test_on_train_s_at_fmax, foldseek_component_test_on_train_results_df = threshold_performance_metrics(\n",
    "    ic_dict=ic_dict,\n",
    "    real_annots_dict=test_CC_df_dict,\n",
    "    pred_annots_dict_with_scores=foldseek_component_on_train,\n",
    "    threshold_range=threshold_range\n",
    ")\n",
    "print(f\"AUPR Micro: {calculate_aupr_micro(test_CC_df_dict, foldseek_component_on_train)}\")\n",
    "\n",
    "foldseek_func_test_on_swissprot_smin, foldseek_func_test_on_swissprot_fmax, foldseek_func_test_on_swissprot_best_threshold_s, foldseek_func_test_on_swissprot_best_threshold_f, foldseek_func_test_on_swissprot_s_at_fmax, foldseek_func_test_on_swissprot_results_df = threshold_performance_metrics(\n",
    "    ic_dict=ic_dict,\n",
    "    real_annots_dict=test_MF_df_dict,\n",
    "    pred_annots_dict_with_scores=foldseek_function_on_swissprot,\n",
    "    threshold_range=threshold_range\n",
    ")\n",
    "print(f\"AUPR Micro: {calculate_aupr_micro(test_MF_df_dict, foldseek_function_on_swissprot)}\")\n",
    "\n",
    "foldseek_process_test_on_swissprot_smin, foldseek_process_test_on_swissprot_fmax, foldseek_process_test_on_swissprot_best_threshold_s, foldseek_process_test_on_swissprot_best_threshold_f, foldseek_process_test_on_swissprot_s_at_fmax, foldseek_process_test_on_swissprot_results_df = threshold_performance_metrics(\n",
    "    ic_dict=ic_dict,\n",
    "    real_annots_dict=test_BP_df_dict,\n",
    "    pred_annots_dict_with_scores=foldseek_process_on_swissprot,\n",
    "    threshold_range=threshold_range\n",
    ")\n",
    "\n",
    "print(f\"AUPR Micro: {calculate_aupr_micro(test_BP_df_dict, foldseek_process_on_swissprot)}\")\n",
    "\n",
    "foldseek_component_test_on_swissprot_smin, foldseek_component_test_on_swissprot_fmax, foldseek_component_test_on_swissprot_best_threshold_s, foldseek_component_test_on_swissprot_best_threshold_f, foldseek_component_test_on_swissprot_s_at_fmax, foldseek_component_test_on_swissprot_results_df = threshold_performance_metrics(\n",
    "    ic_dict=ic_dict,\n",
    "    real_annots_dict=test_CC_df_dict,\n",
    "    pred_annots_dict_with_scores=foldseek_component_on_swissprot,\n",
    "    threshold_range=threshold_range\n",
    ")\n",
    "\n",
    "print(f\"AUPR Micro: {calculate_aupr_micro(test_CC_df_dict, foldseek_component_on_swissprot)}\")\n",
    "\n"
   ]
  },
  {
   "cell_type": "code",
   "execution_count": 48,
   "metadata": {},
   "outputs": [],
   "source": [
    "#save dfs\n",
    "foldseek_func_test_on_swissprot_results_df.to_csv('baseline models/foldseek_results/foldseek_func_test_on_swissprot_fmax_smin_df.csv', index=False)\n",
    "foldseek_process_test_on_swissprot_results_df.to_csv('baseline models/foldseek_results/foldseek_process_test_on_swissprot_fmax_smin_df.csv', index=False)\n",
    "foldseek_component_test_on_swissprot_results_df.to_csv('baseline models/foldseek_results/foldseek_component_test_on_swissprot_fmax_smin_df.csv', index=False)\n",
    "foldseek_func_test_on_train_results_df.to_csv('baseline models/foldseek_results/foldseek_func_test_on_train_fmax_smin_df.csv', index=False)\n",
    "foldseek_process_test_on_train_results_df.to_csv('baseline models/foldseek_results/foldseek_process_test_on_train_fmax_smin_df.csv', index=False)\n",
    "foldseek_component_test_on_train_results_df.to_csv('baseline models/foldseek_results/foldseek_component_test_on_train_fmax_smin_df.csv', index=False)\n"
   ]
  }
 ],
 "metadata": {
  "kernelspec": {
   "display_name": "base",
   "language": "python",
   "name": "python3"
  },
  "language_info": {
   "codemirror_mode": {
    "name": "ipython",
    "version": 3
   },
   "file_extension": ".py",
   "mimetype": "text/x-python",
   "name": "python",
   "nbconvert_exporter": "python",
   "pygments_lexer": "ipython3",
   "version": "3.9.12"
  }
 },
 "nbformat": 4,
 "nbformat_minor": 2
}

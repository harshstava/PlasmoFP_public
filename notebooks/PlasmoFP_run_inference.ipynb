{
 "cells": [
  {
   "cell_type": "code",
   "execution_count": 1,
   "id": "fcfa4dc7",
   "metadata": {},
   "outputs": [],
   "source": [
    "# at the very top of your notebook:\n",
    "%load_ext autoreload\n",
    "%autoreload 2\n"
   ]
  },
  {
   "cell_type": "code",
   "execution_count": null,
   "id": "0466a7b2",
   "metadata": {},
   "outputs": [],
   "source": [
    "import ast\n",
    "import math\n",
    "import random\n",
    "import json\n",
    "import warnings\n",
    "from collections import Counter, deque\n",
    "import copy\n",
    "import os\n",
    "import re\n",
    "\n",
    "import numpy as np\n",
    "import pandas as pd\n",
    "import torch\n",
    "import torch.nn as nn\n",
    "import torch.nn.functional as F\n",
    "import torch.optim as optim\n",
    "from torch.optim.lr_scheduler import ReduceLROnPlateau\n",
    "from torch.utils.data import DataLoader, TensorDataset\n",
    "import networkx as nx\n",
    "import matplotlib.pyplot as plt\n",
    "import seaborn as sns\n",
    "from tqdm import tqdm\n",
    "\n",
    "from sklearn.exceptions import UndefinedMetricWarning\n",
    "from sklearn.metrics import (\n",
    "    accuracy_score, average_precision_score, f1_score,\n",
    "    precision_score, recall_score, roc_auc_score, classification_report,\n",
    "    precision_recall_curve\n",
    ")\n",
    "from sklearn.preprocessing import MultiLabelBinarizer, StandardScaler\n",
    "\n",
    "from iterstrat.ml_stratifiers import (\n",
    "    MultilabelStratifiedKFold, MultilabelStratifiedShuffleSplit\n",
    ")\n",
    "from pathlib import Path\n",
    "\n",
    "from utils_corrected import (\n",
    "    compute_ensemble_probs, predict_without_MCD,\n",
    "    chunked_mad_over_runs, build_pred_annots_dict, load_kfold_ensembles, PFP\n",
    ")"
   ]
  },
  {
   "cell_type": "code",
   "execution_count": 2,
   "id": "ff91b4a9",
   "metadata": {},
   "outputs": [],
   "source": [
    "#read in TUNED_MODEL_ARCHS.json\n",
    "with open('TUNED_MODEL_ARCHS.json') as f:\n",
    "    TUNED_MODEL_ARCHS = json.load(f)"
   ]
  },
  {
   "cell_type": "markdown",
   "id": "c9639ba3",
   "metadata": {},
   "source": [
    "Load models"
   ]
  },
  {
   "cell_type": "code",
   "execution_count": 9,
   "id": "ad42e921",
   "metadata": {},
   "outputs": [],
   "source": [
    "MF_CHOSEN_CONFIG = TUNED_MODEL_ARCHS['MFO']['CHOSEN_CONFIG']\n",
    "MF_CHOSEN_CONFIG_ARCH = TUNED_MODEL_ARCHS['MFO']['CHOSEN_CONFIG_ARCH']\n",
    "MF_CHOSEN_CONFIG_LOSS = 'Balanced'\n",
    "MF_CHOSEN_LEARNING_RATE = TUNED_MODEL_ARCHS['MFO']['CHOSEN_CONFIG_LR']\n",
    "MF_CHOSEN_NUM_CLASSES = TUNED_MODEL_ARCHS['MFO']['NUM_CLASSES']\n",
    "MF_dropout_rate   = 0.3\n",
    "MF_hidden_dims    = MF_CHOSEN_CONFIG_ARCH\n",
    "MF_input_dim      = 512\n",
    "MF_output_dim     = MF_CHOSEN_NUM_CLASSES\n",
    "MF_device         = torch.device(\"cuda\" if torch.cuda.is_available() else \"cpu\")\n",
    "# MF_base_kwargs should match what PFP expects, e.g. {\"input_dim\":..., \"hidden_dims\":..., ...}\n",
    "MF_base_kwargs    = {\n",
    "    'input_dim'   : MF_input_dim,\n",
    "    'hidden_dims' : MF_hidden_dims,\n",
    "    'output_dim'  : MF_output_dim,\n",
    "    'dropout_rate': MF_dropout_rate,\n",
    "}\n",
    "\n",
    "BP_CHOSEN_CONFIG = TUNED_MODEL_ARCHS['BPO']['CHOSEN_CONFIG']\n",
    "BP_CHOSEN_CONFIG_ARCH = TUNED_MODEL_ARCHS['BPO']['CHOSEN_CONFIG_ARCH']\n",
    "BP_CHOSEN_CONFIG_LOSS = 'Balanced'\n",
    "BP_CHOSEN_LEARNING_RATE = TUNED_MODEL_ARCHS['BPO']['CHOSEN_CONFIG_LR']\n",
    "BP_CHOSEN_NUM_CLASSES = TUNED_MODEL_ARCHS['BPO']['NUM_CLASSES']\n",
    "BP_dropout_rate   = 0.3\n",
    "BP_hidden_dims    = BP_CHOSEN_CONFIG_ARCH\n",
    "BP_input_dim      = 512\n",
    "BP_output_dim     = BP_CHOSEN_NUM_CLASSES\n",
    "BP_device         = torch.device(\"cuda\" if torch.cuda.is_available() else \"cpu\")\n",
    "# BP_base_kwargs should match what PFP expects, e.g. {\"input_dim\":..., \"hidden_dims\":..., ...}\n",
    "BP_base_kwargs    = {\n",
    "    'input_dim'   : BP_input_dim,\n",
    "    'hidden_dims' : BP_hidden_dims,\n",
    "    'output_dim'  : BP_output_dim,\n",
    "    'dropout_rate': BP_dropout_rate,\n",
    "}\n",
    "\n",
    "CC_CHOSEN_CONFIG = TUNED_MODEL_ARCHS['CCO']['CHOSEN_CONFIG']\n",
    "CC_CHOSEN_CONFIG_ARCH = TUNED_MODEL_ARCHS['CCO']['CHOSEN_CONFIG_ARCH']\n",
    "CC_CHOSEN_CONFIG_LOSS = 'Balanced'\n",
    "CC_CHOSEN_LEARNING_RATE = TUNED_MODEL_ARCHS['CCO']['CHOSEN_CONFIG_LR']\n",
    "CC_CHOSEN_NUM_CLASSES = TUNED_MODEL_ARCHS['CCO']['NUM_CLASSES']\n",
    "CC_dropout_rate   = 0.3\n",
    "CC_hidden_dims    = CC_CHOSEN_CONFIG_ARCH\n",
    "CC_input_dim      = 512\n",
    "CC_output_dim     = CC_CHOSEN_NUM_CLASSES\n",
    "CC_device         = torch.device(\"cuda\" if torch.cuda.is_available() else \"cpu\")\n",
    "# CC_base_kwargs should match what PFP expects, e.g. {\"input_dim\":..., \"hidden_dims\":..., ...}\n",
    "CC_base_kwargs    = {\n",
    "    'input_dim'   : CC_input_dim,\n",
    "    'hidden_dims' : CC_hidden_dims,\n",
    "    'output_dim'  : CC_output_dim,\n",
    "    'dropout_rate': CC_dropout_rate,\n",
    "}\n",
    "\n",
    "MF_root_dir     = r\"mf_publish\"\n",
    "BP_root_dir     = r\"bp_publish\"\n",
    "CC_root_dir     = r\"cc_publish\"\n",
    "\n",
    "MF_kf_root      = os.path.join(MF_root_dir, \"k_folds\")\n",
    "BP_kf_root      = os.path.join(BP_root_dir, \"k_folds\")\n",
    "CC_kf_root      = os.path.join(CC_root_dir, \"k_folds\")\n",
    "\n",
    "MF_fold_options = [20]\n",
    "BP_fold_options = [20]\n",
    "CC_fold_options = [20]\n",
    "\n",
    "MF_raw_ensembles = load_kfold_ensembles(\n",
    "    kf_root=MF_kf_root,\n",
    "    fold_options=MF_fold_options,\n",
    "    model_cls=PFP,\n",
    "    model_kwargs=MF_base_kwargs,\n",
    "    device=MF_device\n",
    ")\n",
    "BP_raw_ensembles = load_kfold_ensembles(\n",
    "    kf_root=BP_kf_root,\n",
    "    fold_options=BP_fold_options,\n",
    "    model_cls=PFP,\n",
    "    model_kwargs=BP_base_kwargs,\n",
    "    device=BP_device\n",
    ")\n",
    "CC_raw_ensembles = load_kfold_ensembles(\n",
    "    kf_root=CC_kf_root,\n",
    "    fold_options=CC_fold_options,\n",
    "    model_cls=PFP,\n",
    "    model_kwargs=CC_base_kwargs,\n",
    "    device=CC_device\n",
    ")"
   ]
  },
  {
   "cell_type": "markdown",
   "id": "68b681a6",
   "metadata": {},
   "source": [
    "Identify which genes are missing annotations in each subontology"
   ]
  },
  {
   "cell_type": "code",
   "execution_count": 36,
   "id": "7cb69d88",
   "metadata": {},
   "outputs": [
    {
     "name": "stdout",
     "output_type": "stream",
     "text": [
      "PlasmoDB-68_PadleriG01 [MF]: 2422 genes missing (with embeddings) → PlasmoDB-68_PadleriG01_missing_MF_gene_dict.pkl, PlasmoDB-68_PadleriG01_missing_MF_embeddings.npy\n",
      "PlasmoDB-68_PadleriG01 [BP]: 2863 genes missing (with embeddings) → PlasmoDB-68_PadleriG01_missing_BP_gene_dict.pkl, PlasmoDB-68_PadleriG01_missing_BP_embeddings.npy\n",
      "PlasmoDB-68_PadleriG01 [CC]: 2453 genes missing (with embeddings) → PlasmoDB-68_PadleriG01_missing_CC_gene_dict.pkl, PlasmoDB-68_PadleriG01_missing_CC_embeddings.npy\n",
      "PlasmoDB-68_PbergheiANKA [MF]: 1992 genes missing (with embeddings) → PlasmoDB-68_PbergheiANKA_missing_MF_gene_dict.pkl, PlasmoDB-68_PbergheiANKA_missing_MF_embeddings.npy\n",
      "PlasmoDB-68_PbergheiANKA [BP]: 2272 genes missing (with embeddings) → PlasmoDB-68_PbergheiANKA_missing_BP_gene_dict.pkl, PlasmoDB-68_PbergheiANKA_missing_BP_embeddings.npy\n",
      "PlasmoDB-68_PbergheiANKA [CC]: 1712 genes missing (with embeddings) → PlasmoDB-68_PbergheiANKA_missing_CC_gene_dict.pkl, PlasmoDB-68_PbergheiANKA_missing_CC_embeddings.npy\n",
      "PlasmoDB-68_PblacklockiG01 [MF]: 2328 genes missing (with embeddings) → PlasmoDB-68_PblacklockiG01_missing_MF_gene_dict.pkl, PlasmoDB-68_PblacklockiG01_missing_MF_embeddings.npy\n",
      "PlasmoDB-68_PblacklockiG01 [BP]: 2741 genes missing (with embeddings) → PlasmoDB-68_PblacklockiG01_missing_BP_gene_dict.pkl, PlasmoDB-68_PblacklockiG01_missing_BP_embeddings.npy\n",
      "PlasmoDB-68_PblacklockiG01 [CC]: 2362 genes missing (with embeddings) → PlasmoDB-68_PblacklockiG01_missing_CC_gene_dict.pkl, PlasmoDB-68_PblacklockiG01_missing_CC_embeddings.npy\n",
      "PlasmoDB-68_Pchabaudichabaudi [MF]: 2085 genes missing (with embeddings) → PlasmoDB-68_Pchabaudichabaudi_missing_MF_gene_dict.pkl, PlasmoDB-68_Pchabaudichabaudi_missing_MF_embeddings.npy\n",
      "PlasmoDB-68_Pchabaudichabaudi [BP]: 2432 genes missing (with embeddings) → PlasmoDB-68_Pchabaudichabaudi_missing_BP_gene_dict.pkl, PlasmoDB-68_Pchabaudichabaudi_missing_BP_embeddings.npy\n",
      "PlasmoDB-68_Pchabaudichabaudi [CC]: 1929 genes missing (with embeddings) → PlasmoDB-68_Pchabaudichabaudi_missing_CC_gene_dict.pkl, PlasmoDB-68_Pchabaudichabaudi_missing_CC_embeddings.npy\n",
      "PlasmoDB-68_PcoatneyiHackeri [MF]: 2835 genes missing (with embeddings) → PlasmoDB-68_PcoatneyiHackeri_missing_MF_gene_dict.pkl, PlasmoDB-68_PcoatneyiHackeri_missing_MF_embeddings.npy\n",
      "PlasmoDB-68_PcoatneyiHackeri [BP]: 3247 genes missing (with embeddings) → PlasmoDB-68_PcoatneyiHackeri_missing_BP_gene_dict.pkl, PlasmoDB-68_PcoatneyiHackeri_missing_BP_embeddings.npy\n",
      "PlasmoDB-68_PcoatneyiHackeri [CC]: 2845 genes missing (with embeddings) → PlasmoDB-68_PcoatneyiHackeri_missing_CC_gene_dict.pkl, PlasmoDB-68_PcoatneyiHackeri_missing_CC_embeddings.npy\n",
      "PlasmoDB-68_PcynomolgiM [MF]: 2597 genes missing (with embeddings) → PlasmoDB-68_PcynomolgiM_missing_MF_gene_dict.pkl, PlasmoDB-68_PcynomolgiM_missing_MF_embeddings.npy\n",
      "PlasmoDB-68_PcynomolgiM [BP]: 2956 genes missing (with embeddings) → PlasmoDB-68_PcynomolgiM_missing_BP_gene_dict.pkl, PlasmoDB-68_PcynomolgiM_missing_BP_embeddings.npy\n",
      "PlasmoDB-68_PcynomolgiM [CC]: 3575 genes missing (with embeddings) → PlasmoDB-68_PcynomolgiM_missing_CC_gene_dict.pkl, PlasmoDB-68_PcynomolgiM_missing_CC_embeddings.npy\n",
      "PlasmoDB-68_Pfalciparum3D7 [MF]: 1743 genes missing (with embeddings) → PlasmoDB-68_Pfalciparum3D7_missing_MF_gene_dict.pkl, PlasmoDB-68_Pfalciparum3D7_missing_MF_embeddings.npy\n",
      "PlasmoDB-68_Pfalciparum3D7 [BP]: 1905 genes missing (with embeddings) → PlasmoDB-68_Pfalciparum3D7_missing_BP_gene_dict.pkl, PlasmoDB-68_Pfalciparum3D7_missing_BP_embeddings.npy\n",
      "PlasmoDB-68_Pfalciparum3D7 [CC]: 933 genes missing (with embeddings) → PlasmoDB-68_Pfalciparum3D7_missing_CC_gene_dict.pkl, PlasmoDB-68_Pfalciparum3D7_missing_CC_embeddings.npy\n",
      "PlasmoDB-68_PfragileNilgiri [MF]: 3048 genes missing (with embeddings) → PlasmoDB-68_PfragileNilgiri_missing_MF_gene_dict.pkl, PlasmoDB-68_PfragileNilgiri_missing_MF_embeddings.npy\n",
      "PlasmoDB-68_PfragileNilgiri [BP]: 3448 genes missing (with embeddings) → PlasmoDB-68_PfragileNilgiri_missing_BP_gene_dict.pkl, PlasmoDB-68_PfragileNilgiri_missing_BP_embeddings.npy\n",
      "PlasmoDB-68_PfragileNilgiri [CC]: 3014 genes missing (with embeddings) → PlasmoDB-68_PfragileNilgiri_missing_CC_gene_dict.pkl, PlasmoDB-68_PfragileNilgiri_missing_CC_embeddings.npy\n",
      "PlasmoDB-68_PgaboniG01 [MF]: 2304 genes missing (with embeddings) → PlasmoDB-68_PgaboniG01_missing_MF_gene_dict.pkl, PlasmoDB-68_PgaboniG01_missing_MF_embeddings.npy\n",
      "PlasmoDB-68_PgaboniG01 [BP]: 2732 genes missing (with embeddings) → PlasmoDB-68_PgaboniG01_missing_BP_gene_dict.pkl, PlasmoDB-68_PgaboniG01_missing_BP_embeddings.npy\n",
      "PlasmoDB-68_PgaboniG01 [CC]: 2476 genes missing (with embeddings) → PlasmoDB-68_PgaboniG01_missing_CC_gene_dict.pkl, PlasmoDB-68_PgaboniG01_missing_CC_embeddings.npy\n",
      "PlasmoDB-68_Pgallinaceum8A [MF]: 2172 genes missing (with embeddings) → PlasmoDB-68_Pgallinaceum8A_missing_MF_gene_dict.pkl, PlasmoDB-68_Pgallinaceum8A_missing_MF_embeddings.npy\n",
      "PlasmoDB-68_Pgallinaceum8A [BP]: 2607 genes missing (with embeddings) → PlasmoDB-68_Pgallinaceum8A_missing_BP_gene_dict.pkl, PlasmoDB-68_Pgallinaceum8A_missing_BP_embeddings.npy\n",
      "PlasmoDB-68_Pgallinaceum8A [CC]: 2073 genes missing (with embeddings) → PlasmoDB-68_Pgallinaceum8A_missing_CC_gene_dict.pkl, PlasmoDB-68_Pgallinaceum8A_missing_CC_embeddings.npy\n",
      "PlasmoDB-68_PinuiSanAntonio1 [MF]: 3290 genes missing (with embeddings) → PlasmoDB-68_PinuiSanAntonio1_missing_MF_gene_dict.pkl, PlasmoDB-68_PinuiSanAntonio1_missing_MF_embeddings.npy\n",
      "PlasmoDB-68_PinuiSanAntonio1 [BP]: 3682 genes missing (with embeddings) → PlasmoDB-68_PinuiSanAntonio1_missing_BP_gene_dict.pkl, PlasmoDB-68_PinuiSanAntonio1_missing_BP_embeddings.npy\n",
      "PlasmoDB-68_PinuiSanAntonio1 [CC]: 3312 genes missing (with embeddings) → PlasmoDB-68_PinuiSanAntonio1_missing_CC_gene_dict.pkl, PlasmoDB-68_PinuiSanAntonio1_missing_CC_embeddings.npy\n",
      "PlasmoDB-68_PknowlesiH [MF]: 2220 genes missing (with embeddings) → PlasmoDB-68_PknowlesiH_missing_MF_gene_dict.pkl, PlasmoDB-68_PknowlesiH_missing_MF_embeddings.npy\n",
      "PlasmoDB-68_PknowlesiH [BP]: 2592 genes missing (with embeddings) → PlasmoDB-68_PknowlesiH_missing_BP_gene_dict.pkl, PlasmoDB-68_PknowlesiH_missing_BP_embeddings.npy\n",
      "PlasmoDB-68_PknowlesiH [CC]: 1950 genes missing (with embeddings) → PlasmoDB-68_PknowlesiH_missing_CC_gene_dict.pkl, PlasmoDB-68_PknowlesiH_missing_CC_embeddings.npy\n",
      "PlasmoDB-68_PmalariaeUG01 [MF]: 2478 genes missing (with embeddings) → PlasmoDB-68_PmalariaeUG01_missing_MF_gene_dict.pkl, PlasmoDB-68_PmalariaeUG01_missing_MF_embeddings.npy\n",
      "PlasmoDB-68_PmalariaeUG01 [BP]: 2868 genes missing (with embeddings) → PlasmoDB-68_PmalariaeUG01_missing_BP_gene_dict.pkl, PlasmoDB-68_PmalariaeUG01_missing_BP_embeddings.npy\n",
      "PlasmoDB-68_PmalariaeUG01 [CC]: 2035 genes missing (with embeddings) → PlasmoDB-68_PmalariaeUG01_missing_CC_gene_dict.pkl, PlasmoDB-68_PmalariaeUG01_missing_CC_embeddings.npy\n",
      "PlasmoDB-68_PovalecurtisiGH01 [MF]: 2488 genes missing (with embeddings) → PlasmoDB-68_PovalecurtisiGH01_missing_MF_gene_dict.pkl, PlasmoDB-68_PovalecurtisiGH01_missing_MF_embeddings.npy\n",
      "PlasmoDB-68_PovalecurtisiGH01 [BP]: 2824 genes missing (with embeddings) → PlasmoDB-68_PovalecurtisiGH01_missing_BP_gene_dict.pkl, PlasmoDB-68_PovalecurtisiGH01_missing_BP_embeddings.npy\n",
      "PlasmoDB-68_PovalecurtisiGH01 [CC]: 2718 genes missing (with embeddings) → PlasmoDB-68_PovalecurtisiGH01_missing_CC_gene_dict.pkl, PlasmoDB-68_PovalecurtisiGH01_missing_CC_embeddings.npy\n",
      "PlasmoDB-68_PovalewallikeriPowCR01 [MF]: 2584 genes missing (with embeddings) → PlasmoDB-68_PovalewallikeriPowCR01_missing_MF_gene_dict.pkl, PlasmoDB-68_PovalewallikeriPowCR01_missing_MF_embeddings.npy\n",
      "PlasmoDB-68_PovalewallikeriPowCR01 [BP]: 2976 genes missing (with embeddings) → PlasmoDB-68_PovalewallikeriPowCR01_missing_BP_gene_dict.pkl, PlasmoDB-68_PovalewallikeriPowCR01_missing_BP_embeddings.npy\n",
      "PlasmoDB-68_PovalewallikeriPowCR01 [CC]: 2556 genes missing (with embeddings) → PlasmoDB-68_PovalewallikeriPowCR01_missing_CC_gene_dict.pkl, PlasmoDB-68_PovalewallikeriPowCR01_missing_CC_embeddings.npy\n",
      "PlasmoDB-68_PreichenowiCDC [MF]: 2121 genes missing (with embeddings) → PlasmoDB-68_PreichenowiCDC_missing_MF_gene_dict.pkl, PlasmoDB-68_PreichenowiCDC_missing_MF_embeddings.npy\n",
      "PlasmoDB-68_PreichenowiCDC [BP]: 2485 genes missing (with embeddings) → PlasmoDB-68_PreichenowiCDC_missing_BP_gene_dict.pkl, PlasmoDB-68_PreichenowiCDC_missing_BP_embeddings.npy\n",
      "PlasmoDB-68_PreichenowiCDC [CC]: 1772 genes missing (with embeddings) → PlasmoDB-68_PreichenowiCDC_missing_CC_gene_dict.pkl, PlasmoDB-68_PreichenowiCDC_missing_CC_embeddings.npy\n",
      "PlasmoDB-68_PvinckeibrucechwattiDA [MF]: 2259 genes missing (with embeddings) → PlasmoDB-68_PvinckeibrucechwattiDA_missing_MF_gene_dict.pkl, PlasmoDB-68_PvinckeibrucechwattiDA_missing_MF_embeddings.npy\n",
      "PlasmoDB-68_PvinckeibrucechwattiDA [BP]: 2680 genes missing (with embeddings) → PlasmoDB-68_PvinckeibrucechwattiDA_missing_BP_gene_dict.pkl, PlasmoDB-68_PvinckeibrucechwattiDA_missing_BP_embeddings.npy\n",
      "PlasmoDB-68_PvinckeibrucechwattiDA [CC]: 2526 genes missing (with embeddings) → PlasmoDB-68_PvinckeibrucechwattiDA_missing_CC_gene_dict.pkl, PlasmoDB-68_PvinckeibrucechwattiDA_missing_CC_embeddings.npy\n",
      "PlasmoDB-68_PvivaxSal1 [MF]: 2341 genes missing (with embeddings) → PlasmoDB-68_PvivaxSal1_missing_MF_gene_dict.pkl, PlasmoDB-68_PvivaxSal1_missing_MF_embeddings.npy\n",
      "PlasmoDB-68_PvivaxSal1 [BP]: 2606 genes missing (with embeddings) → PlasmoDB-68_PvivaxSal1_missing_BP_gene_dict.pkl, PlasmoDB-68_PvivaxSal1_missing_BP_embeddings.npy\n",
      "PlasmoDB-68_PvivaxSal1 [CC]: 2263 genes missing (with embeddings) → PlasmoDB-68_PvivaxSal1_missing_CC_gene_dict.pkl, PlasmoDB-68_PvivaxSal1_missing_CC_embeddings.npy\n",
      "PlasmoDB-68_Pyoeliiyoelii17XNL2023 [MF]: 2169 genes missing (with embeddings) → PlasmoDB-68_Pyoeliiyoelii17XNL2023_missing_MF_gene_dict.pkl, PlasmoDB-68_Pyoeliiyoelii17XNL2023_missing_MF_embeddings.npy\n",
      "PlasmoDB-68_Pyoeliiyoelii17XNL2023 [BP]: 2564 genes missing (with embeddings) → PlasmoDB-68_Pyoeliiyoelii17XNL2023_missing_BP_gene_dict.pkl, PlasmoDB-68_Pyoeliiyoelii17XNL2023_missing_BP_embeddings.npy\n",
      "PlasmoDB-68_Pyoeliiyoelii17XNL2023 [CC]: 2961 genes missing (with embeddings) → PlasmoDB-68_Pyoeliiyoelii17XNL2023_missing_CC_gene_dict.pkl, PlasmoDB-68_Pyoeliiyoelii17XNL2023_missing_CC_embeddings.npy\n"
     ]
    }
   ],
   "source": [
    "# === CONFIG ===\n",
    "dict_in_dir = Path(r\"genomes_to_annotate_with_PlasmoFP/gene_dicts_out_complete_and_filtered_2\")\n",
    "out_dir     = Path(r\"genomes_to_annotate_with_PlasmoFP/missing_by_aspect_new_2\")\n",
    "out_dir.mkdir(exist_ok=True)\n",
    "\n",
    "# which GO keys correspond to each aspect\n",
    "aspect_keys = {\n",
    "    \"MF\": [\"GO Function\", \"GO IEA Function\"],\n",
    "    \"BP\": [\"GO Process\",  \"GO IEA Process\"],\n",
    "    \"CC\": [\"GO Component\",\"GO IEA Component\"]\n",
    "}\n",
    "\n",
    "for pkl_fp in sorted(dict_in_dir.glob(\"*_gene_dict_complete.pkl\")):\n",
    "    species = pkl_fp.stem.rsplit(\"_gene_dict\", 1)[0]\n",
    "\n",
    "    # load the full gene_dict\n",
    "    with open(pkl_fp, \"rb\") as f:\n",
    "        full_dict = pickle.load(f)\n",
    "\n",
    "    for asp, keys in aspect_keys.items():\n",
    "        missing_dict   = {}\n",
    "        missing_embeds = []\n",
    "\n",
    "        for gene_id, rec in full_dict.items():\n",
    "            emb = rec[\"embedding\"]\n",
    "            # skip genes without any embedding\n",
    "            if emb is None:\n",
    "                continue\n",
    "\n",
    "            # sum of both buckets for this aspect\n",
    "            has_terms = sum(len(rec[k]) for k in keys)\n",
    "            if has_terms == 0:\n",
    "                # this gene has NO terms in this aspect; include it\n",
    "                missing_dict[gene_id] = rec\n",
    "                missing_embeds.append(emb)\n",
    "\n",
    "        # stack into array (n_missing × emb_dim)\n",
    "        if missing_embeds:\n",
    "            emb_arr = np.stack(missing_embeds, axis=0)\n",
    "        else:\n",
    "            # grab emb_dim from any entry\n",
    "            sample = next(iter(full_dict.values()))\n",
    "            emb_dim = sample[\"embedding\"].shape[0] if sample[\"embedding\"] is not None else 0\n",
    "            emb_arr = np.zeros((0, emb_dim))\n",
    "\n",
    "        # save subset dict\n",
    "        out_pkl = out_dir / f\"{species}_missing_{asp}_gene_dict.pkl\"\n",
    "        with open(out_pkl, \"wb\") as f:\n",
    "            pickle.dump(missing_dict, f)\n",
    "\n",
    "        # save embeddings\n",
    "        out_npy = out_dir / f\"{species}_missing_{asp}_embeddings.npy\"\n",
    "        np.save(out_npy, emb_arr)\n",
    "\n",
    "        print(f\"{species} [{asp}]: {len(missing_dict)} genes missing (with embeddings) → \"\n",
    "              f\"{out_pkl.name}, {out_npy.name}\")\n"
   ]
  },
  {
   "cell_type": "markdown",
   "id": "e276a695",
   "metadata": {},
   "source": [
    "Use PlasmoFP to predict missing subontologies "
   ]
  },
  {
   "cell_type": "code",
   "execution_count": 37,
   "id": "769bd7cf",
   "metadata": {},
   "outputs": [
    {
     "name": "stderr",
     "output_type": "stream",
     "text": [
      "Processing embeddings:   2%|▏         | 1/57 [00:06<05:42,  6.12s/it]"
     ]
    },
    {
     "name": "stdout",
     "output_type": "stream",
     "text": [
      "PlasmoDB-68_PadleriG01 [BP]: median=(2863, 1548), mad=(2863, 1548)\n"
     ]
    },
    {
     "name": "stderr",
     "output_type": "stream",
     "text": [
      "Processing embeddings:   4%|▎         | 2/57 [00:07<03:02,  3.31s/it]"
     ]
    },
    {
     "name": "stdout",
     "output_type": "stream",
     "text": [
      "PlasmoDB-68_PadleriG01 [CC]: median=(2453, 255), mad=(2453, 255)\n"
     ]
    },
    {
     "name": "stderr",
     "output_type": "stream",
     "text": [
      "Processing embeddings:   5%|▌         | 3/57 [00:10<02:45,  3.06s/it]"
     ]
    },
    {
     "name": "stdout",
     "output_type": "stream",
     "text": [
      "PlasmoDB-68_PadleriG01 [MF]: median=(2422, 744), mad=(2422, 744)\n"
     ]
    },
    {
     "name": "stderr",
     "output_type": "stream",
     "text": [
      "Processing embeddings:   7%|▋         | 4/57 [00:14<03:15,  3.69s/it]"
     ]
    },
    {
     "name": "stdout",
     "output_type": "stream",
     "text": [
      "PlasmoDB-68_PbergheiANKA [BP]: median=(2272, 1548), mad=(2272, 1548)\n"
     ]
    },
    {
     "name": "stderr",
     "output_type": "stream",
     "text": [
      "Processing embeddings:   9%|▉         | 5/57 [00:15<02:21,  2.71s/it]"
     ]
    },
    {
     "name": "stdout",
     "output_type": "stream",
     "text": [
      "PlasmoDB-68_PbergheiANKA [CC]: median=(1712, 255), mad=(1712, 255)\n"
     ]
    },
    {
     "name": "stderr",
     "output_type": "stream",
     "text": [
      "Processing embeddings:  11%|█         | 6/57 [00:18<02:10,  2.56s/it]"
     ]
    },
    {
     "name": "stdout",
     "output_type": "stream",
     "text": [
      "PlasmoDB-68_PbergheiANKA [MF]: median=(1992, 744), mad=(1992, 744)\n"
     ]
    },
    {
     "name": "stderr",
     "output_type": "stream",
     "text": [
      "Processing embeddings:  12%|█▏        | 7/57 [00:23<02:57,  3.55s/it]"
     ]
    },
    {
     "name": "stdout",
     "output_type": "stream",
     "text": [
      "PlasmoDB-68_PblacklockiG01 [BP]: median=(2741, 1548), mad=(2741, 1548)\n"
     ]
    },
    {
     "name": "stderr",
     "output_type": "stream",
     "text": [
      "Processing embeddings:  14%|█▍        | 8/57 [00:25<02:19,  2.85s/it]"
     ]
    },
    {
     "name": "stdout",
     "output_type": "stream",
     "text": [
      "PlasmoDB-68_PblacklockiG01 [CC]: median=(2362, 255), mad=(2362, 255)\n"
     ]
    },
    {
     "name": "stderr",
     "output_type": "stream",
     "text": [
      "Processing embeddings:  16%|█▌        | 9/57 [00:27<02:13,  2.79s/it]"
     ]
    },
    {
     "name": "stdout",
     "output_type": "stream",
     "text": [
      "PlasmoDB-68_PblacklockiG01 [MF]: median=(2328, 744), mad=(2328, 744)\n"
     ]
    },
    {
     "name": "stderr",
     "output_type": "stream",
     "text": [
      "Processing embeddings:  18%|█▊        | 10/57 [00:32<02:46,  3.55s/it]"
     ]
    },
    {
     "name": "stdout",
     "output_type": "stream",
     "text": [
      "PlasmoDB-68_Pchabaudichabaudi [BP]: median=(2432, 1548), mad=(2432, 1548)\n"
     ]
    },
    {
     "name": "stderr",
     "output_type": "stream",
     "text": [
      "Processing embeddings:  19%|█▉        | 11/57 [00:34<02:08,  2.79s/it]"
     ]
    },
    {
     "name": "stdout",
     "output_type": "stream",
     "text": [
      "PlasmoDB-68_Pchabaudichabaudi [CC]: median=(1929, 255), mad=(1929, 255)\n"
     ]
    },
    {
     "name": "stderr",
     "output_type": "stream",
     "text": [
      "Processing embeddings:  21%|██        | 12/57 [00:36<02:04,  2.77s/it]"
     ]
    },
    {
     "name": "stdout",
     "output_type": "stream",
     "text": [
      "PlasmoDB-68_Pchabaudichabaudi [MF]: median=(2085, 744), mad=(2085, 744)\n"
     ]
    },
    {
     "name": "stderr",
     "output_type": "stream",
     "text": [
      "Processing embeddings:  23%|██▎       | 13/57 [00:43<02:57,  4.04s/it]"
     ]
    },
    {
     "name": "stdout",
     "output_type": "stream",
     "text": [
      "PlasmoDB-68_PcoatneyiHackeri [BP]: median=(3247, 1548), mad=(3247, 1548)\n"
     ]
    },
    {
     "name": "stderr",
     "output_type": "stream",
     "text": [
      "Processing embeddings:  25%|██▍       | 14/57 [00:45<02:21,  3.30s/it]"
     ]
    },
    {
     "name": "stdout",
     "output_type": "stream",
     "text": [
      "PlasmoDB-68_PcoatneyiHackeri [CC]: median=(2845, 255), mad=(2845, 255)\n"
     ]
    },
    {
     "name": "stderr",
     "output_type": "stream",
     "text": [
      "Processing embeddings:  26%|██▋       | 15/57 [00:48<02:20,  3.34s/it]"
     ]
    },
    {
     "name": "stdout",
     "output_type": "stream",
     "text": [
      "PlasmoDB-68_PcoatneyiHackeri [MF]: median=(2835, 744), mad=(2835, 744)\n"
     ]
    },
    {
     "name": "stderr",
     "output_type": "stream",
     "text": [
      "Processing embeddings:  28%|██▊       | 16/57 [00:54<02:50,  4.15s/it]"
     ]
    },
    {
     "name": "stdout",
     "output_type": "stream",
     "text": [
      "PlasmoDB-68_PcynomolgiM [BP]: median=(2956, 1548), mad=(2956, 1548)\n"
     ]
    },
    {
     "name": "stderr",
     "output_type": "stream",
     "text": [
      "Processing embeddings:  30%|██▉       | 17/57 [00:56<02:20,  3.51s/it]"
     ]
    },
    {
     "name": "stdout",
     "output_type": "stream",
     "text": [
      "PlasmoDB-68_PcynomolgiM [CC]: median=(3575, 255), mad=(3575, 255)\n"
     ]
    },
    {
     "name": "stderr",
     "output_type": "stream",
     "text": [
      "Processing embeddings:  32%|███▏      | 18/57 [00:59<02:09,  3.33s/it]"
     ]
    },
    {
     "name": "stdout",
     "output_type": "stream",
     "text": [
      "PlasmoDB-68_PcynomolgiM [MF]: median=(2597, 744), mad=(2597, 744)\n"
     ]
    },
    {
     "name": "stderr",
     "output_type": "stream",
     "text": [
      "Processing embeddings:  33%|███▎      | 19/57 [01:03<02:13,  3.50s/it]"
     ]
    },
    {
     "name": "stdout",
     "output_type": "stream",
     "text": [
      "PlasmoDB-68_Pfalciparum3D7 [BP]: median=(1905, 1548), mad=(1905, 1548)\n"
     ]
    },
    {
     "name": "stderr",
     "output_type": "stream",
     "text": [
      "Processing embeddings:  35%|███▌      | 20/57 [01:04<01:36,  2.61s/it]"
     ]
    },
    {
     "name": "stdout",
     "output_type": "stream",
     "text": [
      "PlasmoDB-68_Pfalciparum3D7 [CC]: median=(933, 255), mad=(933, 255)\n"
     ]
    },
    {
     "name": "stderr",
     "output_type": "stream",
     "text": [
      "Processing embeddings:  37%|███▋      | 21/57 [01:06<01:27,  2.42s/it]"
     ]
    },
    {
     "name": "stdout",
     "output_type": "stream",
     "text": [
      "PlasmoDB-68_Pfalciparum3D7 [MF]: median=(1743, 744), mad=(1743, 744)\n"
     ]
    },
    {
     "name": "stderr",
     "output_type": "stream",
     "text": [
      "Processing embeddings:  39%|███▊      | 22/57 [01:13<02:16,  3.90s/it]"
     ]
    },
    {
     "name": "stdout",
     "output_type": "stream",
     "text": [
      "PlasmoDB-68_PfragileNilgiri [BP]: median=(3448, 1548), mad=(3448, 1548)\n"
     ]
    },
    {
     "name": "stderr",
     "output_type": "stream",
     "text": [
      "Processing embeddings:  40%|████      | 23/57 [01:15<01:49,  3.22s/it]"
     ]
    },
    {
     "name": "stdout",
     "output_type": "stream",
     "text": [
      "PlasmoDB-68_PfragileNilgiri [CC]: median=(3014, 255), mad=(3014, 255)\n"
     ]
    },
    {
     "name": "stderr",
     "output_type": "stream",
     "text": [
      "Processing embeddings:  42%|████▏     | 24/57 [01:18<01:48,  3.29s/it]"
     ]
    },
    {
     "name": "stdout",
     "output_type": "stream",
     "text": [
      "PlasmoDB-68_PfragileNilgiri [MF]: median=(3048, 744), mad=(3048, 744)\n"
     ]
    },
    {
     "name": "stderr",
     "output_type": "stream",
     "text": [
      "Processing embeddings:  44%|████▍     | 25/57 [01:24<02:07,  3.99s/it]"
     ]
    },
    {
     "name": "stdout",
     "output_type": "stream",
     "text": [
      "PlasmoDB-68_PgaboniG01 [BP]: median=(2732, 1548), mad=(2732, 1548)\n"
     ]
    },
    {
     "name": "stderr",
     "output_type": "stream",
     "text": [
      "Processing embeddings:  46%|████▌     | 26/57 [01:25<01:39,  3.22s/it]"
     ]
    },
    {
     "name": "stdout",
     "output_type": "stream",
     "text": [
      "PlasmoDB-68_PgaboniG01 [CC]: median=(2476, 255), mad=(2476, 255)\n"
     ]
    },
    {
     "name": "stderr",
     "output_type": "stream",
     "text": [
      "Processing embeddings:  47%|████▋     | 27/57 [01:28<01:30,  3.03s/it]"
     ]
    },
    {
     "name": "stdout",
     "output_type": "stream",
     "text": [
      "PlasmoDB-68_PgaboniG01 [MF]: median=(2304, 744), mad=(2304, 744)\n"
     ]
    },
    {
     "name": "stderr",
     "output_type": "stream",
     "text": [
      "Processing embeddings:  49%|████▉     | 28/57 [01:33<01:51,  3.85s/it]"
     ]
    },
    {
     "name": "stdout",
     "output_type": "stream",
     "text": [
      "PlasmoDB-68_Pgallinaceum8A [BP]: median=(2607, 1548), mad=(2607, 1548)\n"
     ]
    },
    {
     "name": "stderr",
     "output_type": "stream",
     "text": [
      "Processing embeddings:  51%|█████     | 29/57 [01:35<01:24,  3.03s/it]"
     ]
    },
    {
     "name": "stdout",
     "output_type": "stream",
     "text": [
      "PlasmoDB-68_Pgallinaceum8A [CC]: median=(2073, 255), mad=(2073, 255)\n"
     ]
    },
    {
     "name": "stderr",
     "output_type": "stream",
     "text": [
      "Processing embeddings:  53%|█████▎    | 30/57 [01:37<01:17,  2.87s/it]"
     ]
    },
    {
     "name": "stdout",
     "output_type": "stream",
     "text": [
      "PlasmoDB-68_Pgallinaceum8A [MF]: median=(2172, 744), mad=(2172, 744)\n"
     ]
    },
    {
     "name": "stderr",
     "output_type": "stream",
     "text": [
      "Processing embeddings:  54%|█████▍    | 31/57 [01:45<01:50,  4.27s/it]"
     ]
    },
    {
     "name": "stdout",
     "output_type": "stream",
     "text": [
      "PlasmoDB-68_PinuiSanAntonio1 [BP]: median=(3682, 1548), mad=(3682, 1548)\n"
     ]
    },
    {
     "name": "stderr",
     "output_type": "stream",
     "text": [
      "Processing embeddings:  56%|█████▌    | 32/57 [01:47<01:30,  3.61s/it]"
     ]
    },
    {
     "name": "stdout",
     "output_type": "stream",
     "text": [
      "PlasmoDB-68_PinuiSanAntonio1 [CC]: median=(3312, 255), mad=(3312, 255)\n"
     ]
    },
    {
     "name": "stderr",
     "output_type": "stream",
     "text": [
      "Processing embeddings:  58%|█████▊    | 33/57 [01:50<01:27,  3.64s/it]"
     ]
    },
    {
     "name": "stdout",
     "output_type": "stream",
     "text": [
      "PlasmoDB-68_PinuiSanAntonio1 [MF]: median=(3290, 744), mad=(3290, 744)\n"
     ]
    },
    {
     "name": "stderr",
     "output_type": "stream",
     "text": [
      "Processing embeddings:  60%|█████▉    | 34/57 [01:56<01:34,  4.12s/it]"
     ]
    },
    {
     "name": "stdout",
     "output_type": "stream",
     "text": [
      "PlasmoDB-68_PknowlesiH [BP]: median=(2592, 1548), mad=(2592, 1548)\n"
     ]
    },
    {
     "name": "stderr",
     "output_type": "stream",
     "text": [
      "Processing embeddings:  61%|██████▏   | 35/57 [01:57<01:10,  3.20s/it]"
     ]
    },
    {
     "name": "stdout",
     "output_type": "stream",
     "text": [
      "PlasmoDB-68_PknowlesiH [CC]: median=(1950, 255), mad=(1950, 255)\n"
     ]
    },
    {
     "name": "stderr",
     "output_type": "stream",
     "text": [
      "Processing embeddings:  63%|██████▎   | 36/57 [01:59<01:02,  2.98s/it]"
     ]
    },
    {
     "name": "stdout",
     "output_type": "stream",
     "text": [
      "PlasmoDB-68_PknowlesiH [MF]: median=(2220, 744), mad=(2220, 744)\n"
     ]
    },
    {
     "name": "stderr",
     "output_type": "stream",
     "text": [
      "Processing embeddings:  65%|██████▍   | 37/57 [02:05<01:16,  3.83s/it]"
     ]
    },
    {
     "name": "stdout",
     "output_type": "stream",
     "text": [
      "PlasmoDB-68_PmalariaeUG01 [BP]: median=(2868, 1548), mad=(2868, 1548)\n"
     ]
    },
    {
     "name": "stderr",
     "output_type": "stream",
     "text": [
      "Processing embeddings:  67%|██████▋   | 38/57 [02:06<00:57,  3.01s/it]"
     ]
    },
    {
     "name": "stdout",
     "output_type": "stream",
     "text": [
      "PlasmoDB-68_PmalariaeUG01 [CC]: median=(2035, 255), mad=(2035, 255)\n"
     ]
    },
    {
     "name": "stderr",
     "output_type": "stream",
     "text": [
      "Processing embeddings:  68%|██████▊   | 39/57 [02:09<00:54,  3.01s/it]"
     ]
    },
    {
     "name": "stdout",
     "output_type": "stream",
     "text": [
      "PlasmoDB-68_PmalariaeUG01 [MF]: median=(2478, 744), mad=(2478, 744)\n"
     ]
    },
    {
     "name": "stderr",
     "output_type": "stream",
     "text": [
      "Processing embeddings:  70%|███████   | 40/57 [02:15<01:04,  3.81s/it]"
     ]
    },
    {
     "name": "stdout",
     "output_type": "stream",
     "text": [
      "PlasmoDB-68_PovalecurtisiGH01 [BP]: median=(2824, 1548), mad=(2824, 1548)\n"
     ]
    },
    {
     "name": "stderr",
     "output_type": "stream",
     "text": [
      "Processing embeddings:  72%|███████▏  | 41/57 [02:16<00:49,  3.12s/it]"
     ]
    },
    {
     "name": "stdout",
     "output_type": "stream",
     "text": [
      "PlasmoDB-68_PovalecurtisiGH01 [CC]: median=(2718, 255), mad=(2718, 255)\n"
     ]
    },
    {
     "name": "stderr",
     "output_type": "stream",
     "text": [
      "Processing embeddings:  74%|███████▎  | 42/57 [02:19<00:45,  3.03s/it]"
     ]
    },
    {
     "name": "stdout",
     "output_type": "stream",
     "text": [
      "PlasmoDB-68_PovalecurtisiGH01 [MF]: median=(2488, 744), mad=(2488, 744)\n"
     ]
    },
    {
     "name": "stderr",
     "output_type": "stream",
     "text": [
      "Processing embeddings:  75%|███████▌  | 43/57 [02:25<00:55,  3.93s/it]"
     ]
    },
    {
     "name": "stdout",
     "output_type": "stream",
     "text": [
      "PlasmoDB-68_PovalewallikeriPowCR01 [BP]: median=(2976, 1548), mad=(2976, 1548)\n"
     ]
    },
    {
     "name": "stderr",
     "output_type": "stream",
     "text": [
      "Processing embeddings:  77%|███████▋  | 44/57 [02:26<00:41,  3.16s/it]"
     ]
    },
    {
     "name": "stdout",
     "output_type": "stream",
     "text": [
      "PlasmoDB-68_PovalewallikeriPowCR01 [CC]: median=(2556, 255), mad=(2556, 255)\n"
     ]
    },
    {
     "name": "stderr",
     "output_type": "stream",
     "text": [
      "Processing embeddings:  79%|███████▉  | 45/57 [02:30<00:38,  3.18s/it]"
     ]
    },
    {
     "name": "stdout",
     "output_type": "stream",
     "text": [
      "PlasmoDB-68_PovalewallikeriPowCR01 [MF]: median=(2584, 744), mad=(2584, 744)\n"
     ]
    },
    {
     "name": "stderr",
     "output_type": "stream",
     "text": [
      "Processing embeddings:  81%|████████  | 46/57 [02:36<00:45,  4.10s/it]"
     ]
    },
    {
     "name": "stdout",
     "output_type": "stream",
     "text": [
      "PlasmoDB-68_PreichenowiCDC [BP]: median=(2485, 1548), mad=(2485, 1548)\n"
     ]
    },
    {
     "name": "stderr",
     "output_type": "stream",
     "text": [
      "Processing embeddings:  82%|████████▏ | 47/57 [02:37<00:32,  3.22s/it]"
     ]
    },
    {
     "name": "stdout",
     "output_type": "stream",
     "text": [
      "PlasmoDB-68_PreichenowiCDC [CC]: median=(1772, 255), mad=(1772, 255)\n"
     ]
    },
    {
     "name": "stderr",
     "output_type": "stream",
     "text": [
      "Processing embeddings:  84%|████████▍ | 48/57 [02:40<00:26,  2.98s/it]"
     ]
    },
    {
     "name": "stdout",
     "output_type": "stream",
     "text": [
      "PlasmoDB-68_PreichenowiCDC [MF]: median=(2121, 744), mad=(2121, 744)\n"
     ]
    },
    {
     "name": "stderr",
     "output_type": "stream",
     "text": [
      "Processing embeddings:  86%|████████▌ | 49/57 [02:45<00:29,  3.74s/it]"
     ]
    },
    {
     "name": "stdout",
     "output_type": "stream",
     "text": [
      "PlasmoDB-68_PvinckeibrucechwattiDA [BP]: median=(2680, 1548), mad=(2680, 1548)\n"
     ]
    },
    {
     "name": "stderr",
     "output_type": "stream",
     "text": [
      "Processing embeddings:  88%|████████▊ | 50/57 [02:46<00:21,  3.03s/it]"
     ]
    },
    {
     "name": "stdout",
     "output_type": "stream",
     "text": [
      "PlasmoDB-68_PvinckeibrucechwattiDA [CC]: median=(2526, 255), mad=(2526, 255)\n"
     ]
    },
    {
     "name": "stderr",
     "output_type": "stream",
     "text": [
      "Processing embeddings:  89%|████████▉ | 51/57 [02:49<00:17,  2.87s/it]"
     ]
    },
    {
     "name": "stdout",
     "output_type": "stream",
     "text": [
      "PlasmoDB-68_PvinckeibrucechwattiDA [MF]: median=(2259, 744), mad=(2259, 744)\n"
     ]
    },
    {
     "name": "stderr",
     "output_type": "stream",
     "text": [
      "Processing embeddings:  91%|█████████ | 52/57 [02:54<00:18,  3.63s/it]"
     ]
    },
    {
     "name": "stdout",
     "output_type": "stream",
     "text": [
      "PlasmoDB-68_PvivaxSal1 [BP]: median=(2606, 1548), mad=(2606, 1548)\n"
     ]
    },
    {
     "name": "stderr",
     "output_type": "stream",
     "text": [
      "Processing embeddings:  93%|█████████▎| 53/57 [02:56<00:11,  2.93s/it]"
     ]
    },
    {
     "name": "stdout",
     "output_type": "stream",
     "text": [
      "PlasmoDB-68_PvivaxSal1 [CC]: median=(2263, 255), mad=(2263, 255)\n"
     ]
    },
    {
     "name": "stderr",
     "output_type": "stream",
     "text": [
      "Processing embeddings:  95%|█████████▍| 54/57 [02:58<00:08,  2.83s/it]"
     ]
    },
    {
     "name": "stdout",
     "output_type": "stream",
     "text": [
      "PlasmoDB-68_PvivaxSal1 [MF]: median=(2341, 744), mad=(2341, 744)\n"
     ]
    },
    {
     "name": "stderr",
     "output_type": "stream",
     "text": [
      "Processing embeddings:  96%|█████████▋| 55/57 [03:03<00:07,  3.54s/it]"
     ]
    },
    {
     "name": "stdout",
     "output_type": "stream",
     "text": [
      "PlasmoDB-68_Pyoeliiyoelii17XNL2023 [BP]: median=(2564, 1548), mad=(2564, 1548)\n"
     ]
    },
    {
     "name": "stderr",
     "output_type": "stream",
     "text": [
      "Processing embeddings:  98%|█████████▊| 56/57 [03:05<00:02,  2.96s/it]"
     ]
    },
    {
     "name": "stdout",
     "output_type": "stream",
     "text": [
      "PlasmoDB-68_Pyoeliiyoelii17XNL2023 [CC]: median=(2961, 255), mad=(2961, 255)\n"
     ]
    },
    {
     "name": "stderr",
     "output_type": "stream",
     "text": [
      "Processing embeddings: 100%|██████████| 57/57 [03:07<00:00,  3.30s/it]"
     ]
    },
    {
     "name": "stdout",
     "output_type": "stream",
     "text": [
      "PlasmoDB-68_Pyoeliiyoelii17XNL2023 [MF]: median=(2169, 744), mad=(2169, 744)\n",
      "Median/MAD files saved\n"
     ]
    },
    {
     "name": "stderr",
     "output_type": "stream",
     "text": [
      "\n"
     ]
    }
   ],
   "source": [
    "missing_dir = Path(r\"genomes_to_annotate_with_PlasmoFP/missing_by_aspect_new_2\")\n",
    "output_dir = missing_dir / \"ensemble_probs\"\n",
    "output_dir.mkdir(exist_ok=True)\n",
    "\n",
    "aspect_to_ensembles = {\n",
    "    \"MF\": MF_raw_ensembles,\n",
    "    \"BP\": BP_raw_ensembles,\n",
    "    \"CC\": CC_raw_ensembles,\n",
    "}\n",
    "\n",
    "batch_size = 512\n",
    "device = torch.device(\"cuda\" if torch.cuda.is_available() else \"cpu\")\n",
    "\n",
    "pattern = re.compile(r\"(?P<species>.+)_missing_(?P<asp>MF|BP|CC)_embeddings\\.npy\")\n",
    "\n",
    "files = sorted(missing_dir.glob(\"*_missing_*_embeddings.npy\"))\n",
    "for npy_fp in tqdm(files, desc=\"Processing embeddings\"):\n",
    "    m = pattern.match(npy_fp.name)\n",
    "    if not m:\n",
    "        continue\n",
    "    species = m.group(\"species\")\n",
    "    asp = m.group(\"asp\")\n",
    "\n",
    "    # Load embeddings and create DataLoader\n",
    "    emb_arr = np.load(npy_fp)\n",
    "    loader = DataLoader(\n",
    "        TensorDataset(torch.from_numpy(emb_arr).float()),\n",
    "        batch_size=batch_size,\n",
    "        shuffle=False\n",
    "    )\n",
    "\n",
    "    \n",
    "    kf_models = aspect_to_ensembles[asp]\n",
    "    \n",
    "    \n",
    "    probs_dict = compute_ensemble_probs(kf_models, loader, device, predict_without_MCD)\n",
    "    \n",
    "    \n",
    "    probs_20fold = probs_dict[20]  # Shape: (20, N, C)\n",
    "    \n",
    "    \n",
    "    median_probs = np.median(probs_20fold, axis=0)  # Shape: (N, C)\n",
    "    mad_probs = chunked_mad_over_runs(probs_20fold, chunk_size=50)  # Shape: (N, C)\n",
    "    \n",
    "    \n",
    "    median_fp = output_dir / f\"{species}_{asp}_median_20fold.npy\"\n",
    "    mad_fp = output_dir / f\"{species}_{asp}_mad_20fold.npy\"\n",
    "    np.save(median_fp, median_probs)\n",
    "    np.save(mad_fp, mad_probs)\n",
    "    \n",
    "    tqdm.write(f\"{species} [{asp}]: median={median_probs.shape}, mad={mad_probs.shape}\")\n",
    "\n",
    "print(\"Median/MAD files saved\")\n"
   ]
  },
  {
   "cell_type": "code",
   "execution_count": 38,
   "id": "dfd3f08a",
   "metadata": {},
   "outputs": [
    {
     "data": {
      "text/plain": [
       "PosixPath('genomes_to_annotate_with_PlasmoFP/missing_by_aspect_new_2/ensemble_probs')"
      ]
     },
     "execution_count": 38,
     "metadata": {},
     "output_type": "execute_result"
    }
   ],
   "source": [
    "output_dir"
   ]
  },
  {
   "cell_type": "code",
   "execution_count": 47,
   "id": "dd31fb05",
   "metadata": {},
   "outputs": [
    {
     "name": "stderr",
     "output_type": "stream",
     "text": [
      "/opt/anaconda3/envs/NLP/lib/python3.9/site-packages/sklearn/base.py:310: UserWarning: Trying to unpickle estimator MultiLabelBinarizer from version 1.0.2 when using version 0.24.2. This might lead to breaking code or invalid results. Use at your own risk.\n",
      "  warnings.warn(\n",
      "Generating predictions with corrected thresholds:   0%|          | 0/57 [00:00<?, ?it/s]"
     ]
    },
    {
     "name": "stdout",
     "output_type": "stream",
     "text": [
      "PlasmoDB-68_PadleriG01/BP 0.01\n"
     ]
    },
    {
     "name": "stderr",
     "output_type": "stream",
     "text": [
      "Building predictions: 100%|██████████| 2863/2863 [00:39<00:00, 72.14it/s]\n",
      "Generating predictions with corrected thresholds:   0%|          | 0/57 [00:39<?, ?it/s]"
     ]
    },
    {
     "name": "stdout",
     "output_type": "stream",
     "text": [
      "PlasmoDB-68_PadleriG01/BP 0.05\n"
     ]
    },
    {
     "name": "stderr",
     "output_type": "stream",
     "text": [
      "Building predictions: 100%|██████████| 2863/2863 [00:38<00:00, 73.94it/s]\n",
      "Generating predictions with corrected thresholds:   0%|          | 0/57 [01:18<?, ?it/s]"
     ]
    },
    {
     "name": "stdout",
     "output_type": "stream",
     "text": [
      "PlasmoDB-68_PadleriG01/BP 0.1\n"
     ]
    },
    {
     "name": "stderr",
     "output_type": "stream",
     "text": [
      "Building predictions: 100%|██████████| 2863/2863 [00:38<00:00, 73.65it/s]\n",
      "Generating predictions with corrected thresholds:   0%|          | 0/57 [01:57<?, ?it/s]"
     ]
    },
    {
     "name": "stdout",
     "output_type": "stream",
     "text": [
      "PlasmoDB-68_PadleriG01/BP 0.2\n"
     ]
    },
    {
     "name": "stderr",
     "output_type": "stream",
     "text": [
      "Building predictions: 100%|██████████| 2863/2863 [00:39<00:00, 71.85it/s]\n",
      "Generating predictions with corrected thresholds:   0%|          | 0/57 [02:37<?, ?it/s]"
     ]
    },
    {
     "name": "stdout",
     "output_type": "stream",
     "text": [
      "PlasmoDB-68_PadleriG01/BP 0.3\n"
     ]
    },
    {
     "name": "stderr",
     "output_type": "stream",
     "text": [
      "Building predictions: 100%|██████████| 2863/2863 [00:40<00:00, 70.90it/s]\n",
      "Generating predictions with corrected thresholds:   2%|▏         | 1/57 [03:17<3:04:28, 197.65s/it]"
     ]
    },
    {
     "name": "stdout",
     "output_type": "stream",
     "text": [
      "PlasmoDB-68_PadleriG01/CC 0.01\n"
     ]
    },
    {
     "name": "stderr",
     "output_type": "stream",
     "text": [
      "Building predictions: 100%|██████████| 2453/2453 [00:05<00:00, 466.44it/s]\n",
      "Generating predictions with corrected thresholds:   2%|▏         | 1/57 [03:22<3:04:28, 197.65s/it]"
     ]
    },
    {
     "name": "stdout",
     "output_type": "stream",
     "text": [
      "PlasmoDB-68_PadleriG01/CC 0.05\n"
     ]
    },
    {
     "name": "stderr",
     "output_type": "stream",
     "text": [
      "Building predictions: 100%|██████████| 2453/2453 [00:05<00:00, 468.70it/s]\n",
      "Generating predictions with corrected thresholds:   2%|▏         | 1/57 [03:28<3:04:28, 197.65s/it]"
     ]
    },
    {
     "name": "stdout",
     "output_type": "stream",
     "text": [
      "PlasmoDB-68_PadleriG01/CC 0.1\n"
     ]
    },
    {
     "name": "stderr",
     "output_type": "stream",
     "text": [
      "Building predictions: 100%|██████████| 2453/2453 [00:05<00:00, 453.77it/s]\n",
      "Generating predictions with corrected thresholds:   2%|▏         | 1/57 [03:33<3:04:28, 197.65s/it]"
     ]
    },
    {
     "name": "stdout",
     "output_type": "stream",
     "text": [
      "PlasmoDB-68_PadleriG01/CC 0.2\n"
     ]
    },
    {
     "name": "stderr",
     "output_type": "stream",
     "text": [
      "Building predictions: 100%|██████████| 2453/2453 [00:05<00:00, 429.00it/s]\n",
      "Generating predictions with corrected thresholds:   2%|▏         | 1/57 [03:39<3:04:28, 197.65s/it]"
     ]
    },
    {
     "name": "stdout",
     "output_type": "stream",
     "text": [
      "PlasmoDB-68_PadleriG01/CC 0.3\n"
     ]
    },
    {
     "name": "stderr",
     "output_type": "stream",
     "text": [
      "Building predictions: 100%|██████████| 2453/2453 [00:05<00:00, 425.16it/s]\n",
      "Generating predictions with corrected thresholds:   4%|▎         | 2/57 [03:45<1:29:23, 97.52s/it] "
     ]
    },
    {
     "name": "stdout",
     "output_type": "stream",
     "text": [
      "PlasmoDB-68_PadleriG01/MF 0.01\n"
     ]
    },
    {
     "name": "stderr",
     "output_type": "stream",
     "text": [
      "Building predictions: 100%|██████████| 2422/2422 [00:15<00:00, 153.20it/s]\n",
      "Generating predictions with corrected thresholds:   4%|▎         | 2/57 [04:00<1:29:23, 97.52s/it]"
     ]
    },
    {
     "name": "stdout",
     "output_type": "stream",
     "text": [
      "PlasmoDB-68_PadleriG01/MF 0.05\n"
     ]
    },
    {
     "name": "stderr",
     "output_type": "stream",
     "text": [
      "Building predictions: 100%|██████████| 2422/2422 [00:16<00:00, 144.14it/s]\n",
      "Generating predictions with corrected thresholds:   4%|▎         | 2/57 [04:17<1:29:23, 97.52s/it]"
     ]
    },
    {
     "name": "stdout",
     "output_type": "stream",
     "text": [
      "PlasmoDB-68_PadleriG01/MF 0.1\n"
     ]
    },
    {
     "name": "stderr",
     "output_type": "stream",
     "text": [
      "Building predictions: 100%|██████████| 2422/2422 [00:16<00:00, 149.83it/s]\n",
      "Generating predictions with corrected thresholds:   4%|▎         | 2/57 [04:33<1:29:23, 97.52s/it]"
     ]
    },
    {
     "name": "stdout",
     "output_type": "stream",
     "text": [
      "PlasmoDB-68_PadleriG01/MF 0.2\n"
     ]
    },
    {
     "name": "stderr",
     "output_type": "stream",
     "text": [
      "Building predictions: 100%|██████████| 2422/2422 [00:16<00:00, 150.84it/s]\n",
      "Generating predictions with corrected thresholds:   4%|▎         | 2/57 [04:49<1:29:23, 97.52s/it]"
     ]
    },
    {
     "name": "stdout",
     "output_type": "stream",
     "text": [
      "PlasmoDB-68_PadleriG01/MF 0.3\n"
     ]
    },
    {
     "name": "stderr",
     "output_type": "stream",
     "text": [
      "Building predictions: 100%|██████████| 2422/2422 [00:16<00:00, 143.73it/s]\n",
      "Generating predictions with corrected thresholds:   5%|▌         | 3/57 [05:06<1:21:16, 90.31s/it]"
     ]
    },
    {
     "name": "stdout",
     "output_type": "stream",
     "text": [
      "PlasmoDB-68_PbergheiANKA/BP 0.01\n"
     ]
    },
    {
     "name": "stderr",
     "output_type": "stream",
     "text": [
      "Building predictions: 100%|██████████| 2272/2272 [00:31<00:00, 72.86it/s]\n",
      "Generating predictions with corrected thresholds:   5%|▌         | 3/57 [05:38<1:21:16, 90.31s/it]"
     ]
    },
    {
     "name": "stdout",
     "output_type": "stream",
     "text": [
      "PlasmoDB-68_PbergheiANKA/BP 0.05\n"
     ]
    },
    {
     "name": "stderr",
     "output_type": "stream",
     "text": [
      "Building predictions: 100%|██████████| 2272/2272 [00:31<00:00, 72.85it/s]\n",
      "Generating predictions with corrected thresholds:   5%|▌         | 3/57 [06:09<1:21:16, 90.31s/it]"
     ]
    },
    {
     "name": "stdout",
     "output_type": "stream",
     "text": [
      "PlasmoDB-68_PbergheiANKA/BP 0.1\n"
     ]
    },
    {
     "name": "stderr",
     "output_type": "stream",
     "text": [
      "Building predictions: 100%|██████████| 2272/2272 [00:30<00:00, 73.81it/s]\n",
      "Generating predictions with corrected thresholds:   5%|▌         | 3/57 [06:39<1:21:16, 90.31s/it]"
     ]
    },
    {
     "name": "stdout",
     "output_type": "stream",
     "text": [
      "PlasmoDB-68_PbergheiANKA/BP 0.2\n"
     ]
    },
    {
     "name": "stderr",
     "output_type": "stream",
     "text": [
      "Building predictions: 100%|██████████| 2272/2272 [00:30<00:00, 73.32it/s]\n",
      "Generating predictions with corrected thresholds:   5%|▌         | 3/57 [07:10<1:21:16, 90.31s/it]"
     ]
    },
    {
     "name": "stdout",
     "output_type": "stream",
     "text": [
      "PlasmoDB-68_PbergheiANKA/BP 0.3\n"
     ]
    },
    {
     "name": "stderr",
     "output_type": "stream",
     "text": [
      "Building predictions: 100%|██████████| 2272/2272 [00:31<00:00, 73.11it/s]\n",
      "Generating predictions with corrected thresholds:   7%|▋         | 4/57 [07:42<1:42:25, 115.95s/it]"
     ]
    },
    {
     "name": "stdout",
     "output_type": "stream",
     "text": [
      "PlasmoDB-68_PbergheiANKA/CC 0.01\n"
     ]
    },
    {
     "name": "stderr",
     "output_type": "stream",
     "text": [
      "Building predictions: 100%|██████████| 1712/1712 [00:03<00:00, 472.71it/s]\n",
      "Generating predictions with corrected thresholds:   7%|▋         | 4/57 [07:45<1:42:25, 115.95s/it]"
     ]
    },
    {
     "name": "stdout",
     "output_type": "stream",
     "text": [
      "PlasmoDB-68_PbergheiANKA/CC 0.05\n"
     ]
    },
    {
     "name": "stderr",
     "output_type": "stream",
     "text": [
      "Building predictions: 100%|██████████| 1712/1712 [00:03<00:00, 445.21it/s]\n",
      "Generating predictions with corrected thresholds:   7%|▋         | 4/57 [07:49<1:42:25, 115.95s/it]"
     ]
    },
    {
     "name": "stdout",
     "output_type": "stream",
     "text": [
      "PlasmoDB-68_PbergheiANKA/CC 0.1\n"
     ]
    },
    {
     "name": "stderr",
     "output_type": "stream",
     "text": [
      "Building predictions: 100%|██████████| 1712/1712 [00:03<00:00, 469.69it/s]\n",
      "Generating predictions with corrected thresholds:   7%|▋         | 4/57 [07:53<1:42:25, 115.95s/it]"
     ]
    },
    {
     "name": "stdout",
     "output_type": "stream",
     "text": [
      "PlasmoDB-68_PbergheiANKA/CC 0.2\n"
     ]
    },
    {
     "name": "stderr",
     "output_type": "stream",
     "text": [
      "Building predictions: 100%|██████████| 1712/1712 [00:03<00:00, 474.78it/s]\n",
      "Generating predictions with corrected thresholds:   7%|▋         | 4/57 [07:56<1:42:25, 115.95s/it]"
     ]
    },
    {
     "name": "stdout",
     "output_type": "stream",
     "text": [
      "PlasmoDB-68_PbergheiANKA/CC 0.3\n"
     ]
    },
    {
     "name": "stderr",
     "output_type": "stream",
     "text": [
      "Building predictions: 100%|██████████| 1712/1712 [00:03<00:00, 469.32it/s]\n",
      "Generating predictions with corrected thresholds:   9%|▉         | 5/57 [08:00<1:10:00, 80.77s/it] "
     ]
    },
    {
     "name": "stdout",
     "output_type": "stream",
     "text": [
      "PlasmoDB-68_PbergheiANKA/MF 0.01\n"
     ]
    },
    {
     "name": "stderr",
     "output_type": "stream",
     "text": [
      "Building predictions: 100%|██████████| 1992/1992 [00:12<00:00, 154.11it/s]\n",
      "Generating predictions with corrected thresholds:   9%|▉         | 5/57 [08:13<1:10:00, 80.77s/it]"
     ]
    },
    {
     "name": "stdout",
     "output_type": "stream",
     "text": [
      "PlasmoDB-68_PbergheiANKA/MF 0.05\n"
     ]
    },
    {
     "name": "stderr",
     "output_type": "stream",
     "text": [
      "Building predictions: 100%|██████████| 1992/1992 [00:12<00:00, 154.59it/s]\n",
      "Generating predictions with corrected thresholds:   9%|▉         | 5/57 [08:26<1:10:00, 80.77s/it]"
     ]
    },
    {
     "name": "stdout",
     "output_type": "stream",
     "text": [
      "PlasmoDB-68_PbergheiANKA/MF 0.1\n"
     ]
    },
    {
     "name": "stderr",
     "output_type": "stream",
     "text": [
      "Building predictions: 100%|██████████| 1992/1992 [00:12<00:00, 153.95it/s]\n",
      "Generating predictions with corrected thresholds:   9%|▉         | 5/57 [08:39<1:10:00, 80.77s/it]"
     ]
    },
    {
     "name": "stdout",
     "output_type": "stream",
     "text": [
      "PlasmoDB-68_PbergheiANKA/MF 0.2\n"
     ]
    },
    {
     "name": "stderr",
     "output_type": "stream",
     "text": [
      "Building predictions: 100%|██████████| 1992/1992 [00:13<00:00, 151.38it/s]\n",
      "Generating predictions with corrected thresholds:   9%|▉         | 5/57 [08:52<1:10:00, 80.77s/it]"
     ]
    },
    {
     "name": "stdout",
     "output_type": "stream",
     "text": [
      "PlasmoDB-68_PbergheiANKA/MF 0.3\n"
     ]
    },
    {
     "name": "stderr",
     "output_type": "stream",
     "text": [
      "Building predictions: 100%|██████████| 1992/1992 [00:12<00:00, 153.81it/s]\n",
      "Generating predictions with corrected thresholds:  11%|█         | 6/57 [09:05<1:04:04, 75.37s/it]"
     ]
    },
    {
     "name": "stdout",
     "output_type": "stream",
     "text": [
      "PlasmoDB-68_PblacklockiG01/BP 0.01\n"
     ]
    },
    {
     "name": "stderr",
     "output_type": "stream",
     "text": [
      "Building predictions: 100%|██████████| 2741/2741 [00:37<00:00, 72.57it/s]\n",
      "Generating predictions with corrected thresholds:  11%|█         | 6/57 [09:43<1:04:04, 75.37s/it]"
     ]
    },
    {
     "name": "stdout",
     "output_type": "stream",
     "text": [
      "PlasmoDB-68_PblacklockiG01/BP 0.05\n"
     ]
    },
    {
     "name": "stderr",
     "output_type": "stream",
     "text": [
      "Building predictions: 100%|██████████| 2741/2741 [00:37<00:00, 73.82it/s]\n",
      "Generating predictions with corrected thresholds:  11%|█         | 6/57 [10:20<1:04:04, 75.37s/it]"
     ]
    },
    {
     "name": "stdout",
     "output_type": "stream",
     "text": [
      "PlasmoDB-68_PblacklockiG01/BP 0.1\n"
     ]
    },
    {
     "name": "stderr",
     "output_type": "stream",
     "text": [
      "Building predictions: 100%|██████████| 2741/2741 [00:37<00:00, 72.84it/s]\n",
      "Generating predictions with corrected thresholds:  11%|█         | 6/57 [10:57<1:04:04, 75.37s/it]"
     ]
    },
    {
     "name": "stdout",
     "output_type": "stream",
     "text": [
      "PlasmoDB-68_PblacklockiG01/BP 0.2\n"
     ]
    },
    {
     "name": "stderr",
     "output_type": "stream",
     "text": [
      "Building predictions: 100%|██████████| 2741/2741 [00:37<00:00, 73.84it/s]\n",
      "Generating predictions with corrected thresholds:  11%|█         | 6/57 [11:35<1:04:04, 75.37s/it]"
     ]
    },
    {
     "name": "stdout",
     "output_type": "stream",
     "text": [
      "PlasmoDB-68_PblacklockiG01/BP 0.3\n"
     ]
    },
    {
     "name": "stderr",
     "output_type": "stream",
     "text": [
      "Building predictions: 100%|██████████| 2741/2741 [00:37<00:00, 73.14it/s]\n",
      "Generating predictions with corrected thresholds:  12%|█▏        | 7/57 [12:12<1:33:16, 111.92s/it]"
     ]
    },
    {
     "name": "stdout",
     "output_type": "stream",
     "text": [
      "PlasmoDB-68_PblacklockiG01/CC 0.01\n"
     ]
    },
    {
     "name": "stderr",
     "output_type": "stream",
     "text": [
      "Building predictions: 100%|██████████| 2362/2362 [00:05<00:00, 469.97it/s]\n",
      "Generating predictions with corrected thresholds:  12%|█▏        | 7/57 [12:17<1:33:16, 111.92s/it]"
     ]
    },
    {
     "name": "stdout",
     "output_type": "stream",
     "text": [
      "PlasmoDB-68_PblacklockiG01/CC 0.05\n"
     ]
    },
    {
     "name": "stderr",
     "output_type": "stream",
     "text": [
      "Building predictions: 100%|██████████| 2362/2362 [00:04<00:00, 475.98it/s]\n",
      "Generating predictions with corrected thresholds:  12%|█▏        | 7/57 [12:22<1:33:16, 111.92s/it]"
     ]
    },
    {
     "name": "stdout",
     "output_type": "stream",
     "text": [
      "PlasmoDB-68_PblacklockiG01/CC 0.1\n"
     ]
    },
    {
     "name": "stderr",
     "output_type": "stream",
     "text": [
      "Building predictions: 100%|██████████| 2362/2362 [00:04<00:00, 474.10it/s]\n",
      "Generating predictions with corrected thresholds:  12%|█▏        | 7/57 [12:27<1:33:16, 111.92s/it]"
     ]
    },
    {
     "name": "stdout",
     "output_type": "stream",
     "text": [
      "PlasmoDB-68_PblacklockiG01/CC 0.2\n"
     ]
    },
    {
     "name": "stderr",
     "output_type": "stream",
     "text": [
      "Building predictions: 100%|██████████| 2362/2362 [00:05<00:00, 470.99it/s]\n",
      "Generating predictions with corrected thresholds:  12%|█▏        | 7/57 [12:32<1:33:16, 111.92s/it]"
     ]
    },
    {
     "name": "stdout",
     "output_type": "stream",
     "text": [
      "PlasmoDB-68_PblacklockiG01/CC 0.3\n"
     ]
    },
    {
     "name": "stderr",
     "output_type": "stream",
     "text": [
      "Building predictions: 100%|██████████| 2362/2362 [00:04<00:00, 472.49it/s]\n",
      "Generating predictions with corrected thresholds:  14%|█▍        | 8/57 [12:37<1:08:48, 84.26s/it] "
     ]
    },
    {
     "name": "stdout",
     "output_type": "stream",
     "text": [
      "PlasmoDB-68_PblacklockiG01/MF 0.01\n"
     ]
    },
    {
     "name": "stderr",
     "output_type": "stream",
     "text": [
      "Building predictions: 100%|██████████| 2328/2328 [00:15<00:00, 152.03it/s]\n",
      "Generating predictions with corrected thresholds:  14%|█▍        | 8/57 [12:52<1:08:48, 84.26s/it]"
     ]
    },
    {
     "name": "stdout",
     "output_type": "stream",
     "text": [
      "PlasmoDB-68_PblacklockiG01/MF 0.05\n"
     ]
    },
    {
     "name": "stderr",
     "output_type": "stream",
     "text": [
      "Building predictions: 100%|██████████| 2328/2328 [00:15<00:00, 155.13it/s]\n",
      "Generating predictions with corrected thresholds:  14%|█▍        | 8/57 [13:07<1:08:48, 84.26s/it]"
     ]
    },
    {
     "name": "stdout",
     "output_type": "stream",
     "text": [
      "PlasmoDB-68_PblacklockiG01/MF 0.1\n"
     ]
    },
    {
     "name": "stderr",
     "output_type": "stream",
     "text": [
      "Building predictions: 100%|██████████| 2328/2328 [00:15<00:00, 154.94it/s]\n",
      "Generating predictions with corrected thresholds:  14%|█▍        | 8/57 [13:22<1:08:48, 84.26s/it]"
     ]
    },
    {
     "name": "stdout",
     "output_type": "stream",
     "text": [
      "PlasmoDB-68_PblacklockiG01/MF 0.2\n"
     ]
    },
    {
     "name": "stderr",
     "output_type": "stream",
     "text": [
      "Building predictions: 100%|██████████| 2328/2328 [00:15<00:00, 151.01it/s]\n",
      "Generating predictions with corrected thresholds:  14%|█▍        | 8/57 [13:38<1:08:48, 84.26s/it]"
     ]
    },
    {
     "name": "stdout",
     "output_type": "stream",
     "text": [
      "PlasmoDB-68_PblacklockiG01/MF 0.3\n"
     ]
    },
    {
     "name": "stderr",
     "output_type": "stream",
     "text": [
      "Building predictions: 100%|██████████| 2328/2328 [00:15<00:00, 149.50it/s]\n",
      "Generating predictions with corrected thresholds:  16%|█▌        | 9/57 [13:53<1:05:25, 81.79s/it]"
     ]
    },
    {
     "name": "stdout",
     "output_type": "stream",
     "text": [
      "PlasmoDB-68_Pchabaudichabaudi/BP 0.01\n"
     ]
    },
    {
     "name": "stderr",
     "output_type": "stream",
     "text": [
      "Building predictions: 100%|██████████| 2432/2432 [00:33<00:00, 72.72it/s]\n",
      "Generating predictions with corrected thresholds:  16%|█▌        | 9/57 [14:27<1:05:25, 81.79s/it]"
     ]
    },
    {
     "name": "stdout",
     "output_type": "stream",
     "text": [
      "PlasmoDB-68_Pchabaudichabaudi/BP 0.05\n"
     ]
    },
    {
     "name": "stderr",
     "output_type": "stream",
     "text": [
      "Building predictions: 100%|██████████| 2432/2432 [00:33<00:00, 73.46it/s]\n",
      "Generating predictions with corrected thresholds:  16%|█▌        | 9/57 [15:00<1:05:25, 81.79s/it]"
     ]
    },
    {
     "name": "stdout",
     "output_type": "stream",
     "text": [
      "PlasmoDB-68_Pchabaudichabaudi/BP 0.1\n"
     ]
    },
    {
     "name": "stderr",
     "output_type": "stream",
     "text": [
      "Building predictions: 100%|██████████| 2432/2432 [00:32<00:00, 73.95it/s]\n",
      "Generating predictions with corrected thresholds:  16%|█▌        | 9/57 [15:33<1:05:25, 81.79s/it]"
     ]
    },
    {
     "name": "stdout",
     "output_type": "stream",
     "text": [
      "PlasmoDB-68_Pchabaudichabaudi/BP 0.2\n"
     ]
    },
    {
     "name": "stderr",
     "output_type": "stream",
     "text": [
      "Building predictions: 100%|██████████| 2432/2432 [00:31<00:00, 78.20it/s]\n",
      "Generating predictions with corrected thresholds:  16%|█▌        | 9/57 [16:04<1:05:25, 81.79s/it]"
     ]
    },
    {
     "name": "stdout",
     "output_type": "stream",
     "text": [
      "PlasmoDB-68_Pchabaudichabaudi/BP 0.3\n"
     ]
    },
    {
     "name": "stderr",
     "output_type": "stream",
     "text": [
      "Building predictions: 100%|██████████| 2432/2432 [00:31<00:00, 78.42it/s]\n",
      "Generating predictions with corrected thresholds:  18%|█▊        | 10/57 [16:35<1:23:22, 106.43s/it]"
     ]
    },
    {
     "name": "stdout",
     "output_type": "stream",
     "text": [
      "PlasmoDB-68_Pchabaudichabaudi/CC 0.01\n"
     ]
    },
    {
     "name": "stderr",
     "output_type": "stream",
     "text": [
      "Building predictions: 100%|██████████| 1929/1929 [00:03<00:00, 506.05it/s]\n",
      "Generating predictions with corrected thresholds:  18%|█▊        | 10/57 [16:39<1:23:22, 106.43s/it]"
     ]
    },
    {
     "name": "stdout",
     "output_type": "stream",
     "text": [
      "PlasmoDB-68_Pchabaudichabaudi/CC 0.05\n"
     ]
    },
    {
     "name": "stderr",
     "output_type": "stream",
     "text": [
      "Building predictions: 100%|██████████| 1929/1929 [00:03<00:00, 505.49it/s]\n",
      "Generating predictions with corrected thresholds:  18%|█▊        | 10/57 [16:43<1:23:22, 106.43s/it]"
     ]
    },
    {
     "name": "stdout",
     "output_type": "stream",
     "text": [
      "PlasmoDB-68_Pchabaudichabaudi/CC 0.1\n"
     ]
    },
    {
     "name": "stderr",
     "output_type": "stream",
     "text": [
      "Building predictions: 100%|██████████| 1929/1929 [00:03<00:00, 505.06it/s]\n",
      "Generating predictions with corrected thresholds:  18%|█▊        | 10/57 [16:46<1:23:22, 106.43s/it]"
     ]
    },
    {
     "name": "stdout",
     "output_type": "stream",
     "text": [
      "PlasmoDB-68_Pchabaudichabaudi/CC 0.2\n"
     ]
    },
    {
     "name": "stderr",
     "output_type": "stream",
     "text": [
      "Building predictions: 100%|██████████| 1929/1929 [00:03<00:00, 505.23it/s]\n",
      "Generating predictions with corrected thresholds:  18%|█▊        | 10/57 [16:50<1:23:22, 106.43s/it]"
     ]
    },
    {
     "name": "stdout",
     "output_type": "stream",
     "text": [
      "PlasmoDB-68_Pchabaudichabaudi/CC 0.3\n"
     ]
    },
    {
     "name": "stderr",
     "output_type": "stream",
     "text": [
      "Building predictions: 100%|██████████| 1929/1929 [00:03<00:00, 503.42it/s]\n",
      "Generating predictions with corrected thresholds:  19%|█▉        | 11/57 [16:54<1:01:06, 79.71s/it] "
     ]
    },
    {
     "name": "stdout",
     "output_type": "stream",
     "text": [
      "PlasmoDB-68_Pchabaudichabaudi/MF 0.01\n"
     ]
    },
    {
     "name": "stderr",
     "output_type": "stream",
     "text": [
      "Building predictions: 100%|██████████| 2085/2085 [00:12<00:00, 166.96it/s]\n",
      "Generating predictions with corrected thresholds:  19%|█▉        | 11/57 [17:07<1:01:06, 79.71s/it]"
     ]
    },
    {
     "name": "stdout",
     "output_type": "stream",
     "text": [
      "PlasmoDB-68_Pchabaudichabaudi/MF 0.05\n"
     ]
    },
    {
     "name": "stderr",
     "output_type": "stream",
     "text": [
      "Building predictions: 100%|██████████| 2085/2085 [00:12<00:00, 166.71it/s]\n",
      "Generating predictions with corrected thresholds:  19%|█▉        | 11/57 [17:19<1:01:06, 79.71s/it]"
     ]
    },
    {
     "name": "stdout",
     "output_type": "stream",
     "text": [
      "PlasmoDB-68_Pchabaudichabaudi/MF 0.1\n"
     ]
    },
    {
     "name": "stderr",
     "output_type": "stream",
     "text": [
      "Building predictions: 100%|██████████| 2085/2085 [00:12<00:00, 165.22it/s]\n",
      "Generating predictions with corrected thresholds:  19%|█▉        | 11/57 [17:32<1:01:06, 79.71s/it]"
     ]
    },
    {
     "name": "stdout",
     "output_type": "stream",
     "text": [
      "PlasmoDB-68_Pchabaudichabaudi/MF 0.2\n"
     ]
    },
    {
     "name": "stderr",
     "output_type": "stream",
     "text": [
      "Building predictions: 100%|██████████| 2085/2085 [00:12<00:00, 164.22it/s]\n",
      "Generating predictions with corrected thresholds:  19%|█▉        | 11/57 [17:44<1:01:06, 79.71s/it]"
     ]
    },
    {
     "name": "stdout",
     "output_type": "stream",
     "text": [
      "PlasmoDB-68_Pchabaudichabaudi/MF 0.3\n"
     ]
    },
    {
     "name": "stderr",
     "output_type": "stream",
     "text": [
      "Building predictions: 100%|██████████| 2085/2085 [00:12<00:00, 166.73it/s]\n",
      "Generating predictions with corrected thresholds:  21%|██        | 12/57 [17:57<55:56, 74.58s/it]  "
     ]
    },
    {
     "name": "stdout",
     "output_type": "stream",
     "text": [
      "PlasmoDB-68_PcoatneyiHackeri/BP 0.01\n"
     ]
    },
    {
     "name": "stderr",
     "output_type": "stream",
     "text": [
      "Building predictions: 100%|██████████| 3247/3247 [00:41<00:00, 78.67it/s]\n",
      "Generating predictions with corrected thresholds:  21%|██        | 12/57 [18:38<55:56, 74.58s/it]"
     ]
    },
    {
     "name": "stdout",
     "output_type": "stream",
     "text": [
      "PlasmoDB-68_PcoatneyiHackeri/BP 0.05\n"
     ]
    },
    {
     "name": "stderr",
     "output_type": "stream",
     "text": [
      "Building predictions: 100%|██████████| 3247/3247 [00:41<00:00, 78.22it/s]\n",
      "Generating predictions with corrected thresholds:  21%|██        | 12/57 [19:20<55:56, 74.58s/it]"
     ]
    },
    {
     "name": "stdout",
     "output_type": "stream",
     "text": [
      "PlasmoDB-68_PcoatneyiHackeri/BP 0.1\n"
     ]
    },
    {
     "name": "stderr",
     "output_type": "stream",
     "text": [
      "Building predictions: 100%|██████████| 3247/3247 [00:41<00:00, 78.44it/s]\n",
      "Generating predictions with corrected thresholds:  21%|██        | 12/57 [20:01<55:56, 74.58s/it]"
     ]
    },
    {
     "name": "stdout",
     "output_type": "stream",
     "text": [
      "PlasmoDB-68_PcoatneyiHackeri/BP 0.2\n"
     ]
    },
    {
     "name": "stderr",
     "output_type": "stream",
     "text": [
      "Building predictions: 100%|██████████| 3247/3247 [00:41<00:00, 78.49it/s]\n",
      "Generating predictions with corrected thresholds:  21%|██        | 12/57 [20:43<55:56, 74.58s/it]"
     ]
    },
    {
     "name": "stdout",
     "output_type": "stream",
     "text": [
      "PlasmoDB-68_PcoatneyiHackeri/BP 0.3\n"
     ]
    },
    {
     "name": "stderr",
     "output_type": "stream",
     "text": [
      "Building predictions: 100%|██████████| 3247/3247 [00:41<00:00, 78.27it/s]\n",
      "Generating predictions with corrected thresholds:  23%|██▎       | 13/57 [21:24<1:24:07, 114.72s/it]"
     ]
    },
    {
     "name": "stdout",
     "output_type": "stream",
     "text": [
      "PlasmoDB-68_PcoatneyiHackeri/CC 0.01\n"
     ]
    },
    {
     "name": "stderr",
     "output_type": "stream",
     "text": [
      "Building predictions: 100%|██████████| 2845/2845 [00:05<00:00, 505.91it/s]\n",
      "Generating predictions with corrected thresholds:  23%|██▎       | 13/57 [21:30<1:24:07, 114.72s/it]"
     ]
    },
    {
     "name": "stdout",
     "output_type": "stream",
     "text": [
      "PlasmoDB-68_PcoatneyiHackeri/CC 0.05\n"
     ]
    },
    {
     "name": "stderr",
     "output_type": "stream",
     "text": [
      "Building predictions: 100%|██████████| 2845/2845 [00:05<00:00, 506.88it/s]\n",
      "Generating predictions with corrected thresholds:  23%|██▎       | 13/57 [21:35<1:24:07, 114.72s/it]"
     ]
    },
    {
     "name": "stdout",
     "output_type": "stream",
     "text": [
      "PlasmoDB-68_PcoatneyiHackeri/CC 0.1\n"
     ]
    },
    {
     "name": "stderr",
     "output_type": "stream",
     "text": [
      "Building predictions: 100%|██████████| 2845/2845 [00:05<00:00, 507.68it/s]\n",
      "Generating predictions with corrected thresholds:  23%|██▎       | 13/57 [21:41<1:24:07, 114.72s/it]"
     ]
    },
    {
     "name": "stdout",
     "output_type": "stream",
     "text": [
      "PlasmoDB-68_PcoatneyiHackeri/CC 0.2\n"
     ]
    },
    {
     "name": "stderr",
     "output_type": "stream",
     "text": [
      "Building predictions: 100%|██████████| 2845/2845 [00:05<00:00, 508.37it/s]\n",
      "Generating predictions with corrected thresholds:  23%|██▎       | 13/57 [21:47<1:24:07, 114.72s/it]"
     ]
    },
    {
     "name": "stdout",
     "output_type": "stream",
     "text": [
      "PlasmoDB-68_PcoatneyiHackeri/CC 0.3\n"
     ]
    },
    {
     "name": "stderr",
     "output_type": "stream",
     "text": [
      "Building predictions: 100%|██████████| 2845/2845 [00:05<00:00, 507.21it/s]\n",
      "Generating predictions with corrected thresholds:  25%|██▍       | 14/57 [21:52<1:03:27, 88.55s/it] "
     ]
    },
    {
     "name": "stdout",
     "output_type": "stream",
     "text": [
      "PlasmoDB-68_PcoatneyiHackeri/MF 0.01\n"
     ]
    },
    {
     "name": "stderr",
     "output_type": "stream",
     "text": [
      "Building predictions: 100%|██████████| 2835/2835 [00:17<00:00, 165.89it/s]\n",
      "Generating predictions with corrected thresholds:  25%|██▍       | 14/57 [22:09<1:03:27, 88.55s/it]"
     ]
    },
    {
     "name": "stdout",
     "output_type": "stream",
     "text": [
      "PlasmoDB-68_PcoatneyiHackeri/MF 0.05\n"
     ]
    },
    {
     "name": "stderr",
     "output_type": "stream",
     "text": [
      "Building predictions: 100%|██████████| 2835/2835 [00:16<00:00, 167.14it/s]\n",
      "Generating predictions with corrected thresholds:  25%|██▍       | 14/57 [22:26<1:03:27, 88.55s/it]"
     ]
    },
    {
     "name": "stdout",
     "output_type": "stream",
     "text": [
      "PlasmoDB-68_PcoatneyiHackeri/MF 0.1\n"
     ]
    },
    {
     "name": "stderr",
     "output_type": "stream",
     "text": [
      "Building predictions: 100%|██████████| 2835/2835 [00:17<00:00, 166.02it/s]\n",
      "Generating predictions with corrected thresholds:  25%|██▍       | 14/57 [22:43<1:03:27, 88.55s/it]"
     ]
    },
    {
     "name": "stdout",
     "output_type": "stream",
     "text": [
      "PlasmoDB-68_PcoatneyiHackeri/MF 0.2\n"
     ]
    },
    {
     "name": "stderr",
     "output_type": "stream",
     "text": [
      "Building predictions: 100%|██████████| 2835/2835 [00:17<00:00, 166.42it/s]\n",
      "Generating predictions with corrected thresholds:  25%|██▍       | 14/57 [23:00<1:03:27, 88.55s/it]"
     ]
    },
    {
     "name": "stdout",
     "output_type": "stream",
     "text": [
      "PlasmoDB-68_PcoatneyiHackeri/MF 0.3\n"
     ]
    },
    {
     "name": "stderr",
     "output_type": "stream",
     "text": [
      "Building predictions: 100%|██████████| 2835/2835 [00:17<00:00, 165.34it/s]\n",
      "Generating predictions with corrected thresholds:  26%|██▋       | 15/57 [23:17<1:01:18, 87.58s/it]"
     ]
    },
    {
     "name": "stdout",
     "output_type": "stream",
     "text": [
      "PlasmoDB-68_PcynomolgiM/BP 0.01\n"
     ]
    },
    {
     "name": "stderr",
     "output_type": "stream",
     "text": [
      "Building predictions: 100%|██████████| 2956/2956 [00:37<00:00, 77.92it/s]\n",
      "Generating predictions with corrected thresholds:  26%|██▋       | 15/57 [23:55<1:01:18, 87.58s/it]"
     ]
    },
    {
     "name": "stdout",
     "output_type": "stream",
     "text": [
      "PlasmoDB-68_PcynomolgiM/BP 0.05\n"
     ]
    },
    {
     "name": "stderr",
     "output_type": "stream",
     "text": [
      "Building predictions: 100%|██████████| 2956/2956 [00:41<00:00, 71.47it/s]\n",
      "Generating predictions with corrected thresholds:  26%|██▋       | 15/57 [24:37<1:01:18, 87.58s/it]"
     ]
    },
    {
     "name": "stdout",
     "output_type": "stream",
     "text": [
      "PlasmoDB-68_PcynomolgiM/BP 0.1\n"
     ]
    },
    {
     "name": "stderr",
     "output_type": "stream",
     "text": [
      "Building predictions: 100%|██████████| 2956/2956 [00:40<00:00, 72.68it/s]\n",
      "Generating predictions with corrected thresholds:  26%|██▋       | 15/57 [25:17<1:01:18, 87.58s/it]"
     ]
    },
    {
     "name": "stdout",
     "output_type": "stream",
     "text": [
      "PlasmoDB-68_PcynomolgiM/BP 0.2\n"
     ]
    },
    {
     "name": "stderr",
     "output_type": "stream",
     "text": [
      "Building predictions: 100%|██████████| 2956/2956 [00:40<00:00, 73.23it/s]\n",
      "Generating predictions with corrected thresholds:  26%|██▋       | 15/57 [25:58<1:01:18, 87.58s/it]"
     ]
    },
    {
     "name": "stdout",
     "output_type": "stream",
     "text": [
      "PlasmoDB-68_PcynomolgiM/BP 0.3\n"
     ]
    },
    {
     "name": "stderr",
     "output_type": "stream",
     "text": [
      "Building predictions: 100%|██████████| 2956/2956 [00:40<00:00, 73.27it/s]\n",
      "Generating predictions with corrected thresholds:  28%|██▊       | 16/57 [26:38<1:23:07, 121.64s/it]"
     ]
    },
    {
     "name": "stdout",
     "output_type": "stream",
     "text": [
      "PlasmoDB-68_PcynomolgiM/CC 0.01\n"
     ]
    },
    {
     "name": "stderr",
     "output_type": "stream",
     "text": [
      "Building predictions: 100%|██████████| 3575/3575 [00:07<00:00, 468.59it/s]\n",
      "Generating predictions with corrected thresholds:  28%|██▊       | 16/57 [26:46<1:23:07, 121.64s/it]"
     ]
    },
    {
     "name": "stdout",
     "output_type": "stream",
     "text": [
      "PlasmoDB-68_PcynomolgiM/CC 0.05\n"
     ]
    },
    {
     "name": "stderr",
     "output_type": "stream",
     "text": [
      "Building predictions: 100%|██████████| 3575/3575 [00:07<00:00, 461.18it/s]\n",
      "Generating predictions with corrected thresholds:  28%|██▊       | 16/57 [26:54<1:23:07, 121.64s/it]"
     ]
    },
    {
     "name": "stdout",
     "output_type": "stream",
     "text": [
      "PlasmoDB-68_PcynomolgiM/CC 0.1\n"
     ]
    },
    {
     "name": "stderr",
     "output_type": "stream",
     "text": [
      "Building predictions: 100%|██████████| 3575/3575 [00:08<00:00, 446.74it/s]\n",
      "Generating predictions with corrected thresholds:  28%|██▊       | 16/57 [27:02<1:23:07, 121.64s/it]"
     ]
    },
    {
     "name": "stdout",
     "output_type": "stream",
     "text": [
      "PlasmoDB-68_PcynomolgiM/CC 0.2\n"
     ]
    },
    {
     "name": "stderr",
     "output_type": "stream",
     "text": [
      "Building predictions: 100%|██████████| 3575/3575 [00:07<00:00, 467.05it/s]\n",
      "Generating predictions with corrected thresholds:  28%|██▊       | 16/57 [27:09<1:23:07, 121.64s/it]"
     ]
    },
    {
     "name": "stdout",
     "output_type": "stream",
     "text": [
      "PlasmoDB-68_PcynomolgiM/CC 0.3\n"
     ]
    },
    {
     "name": "stderr",
     "output_type": "stream",
     "text": [
      "Building predictions: 100%|██████████| 3575/3575 [00:07<00:00, 471.53it/s]\n",
      "Generating predictions with corrected thresholds:  30%|██▉       | 17/57 [27:17<1:04:27, 96.69s/it] "
     ]
    },
    {
     "name": "stdout",
     "output_type": "stream",
     "text": [
      "PlasmoDB-68_PcynomolgiM/MF 0.01\n"
     ]
    },
    {
     "name": "stderr",
     "output_type": "stream",
     "text": [
      "Building predictions: 100%|██████████| 2597/2597 [00:16<00:00, 154.17it/s]\n",
      "Generating predictions with corrected thresholds:  30%|██▉       | 17/57 [27:34<1:04:27, 96.69s/it]"
     ]
    },
    {
     "name": "stdout",
     "output_type": "stream",
     "text": [
      "PlasmoDB-68_PcynomolgiM/MF 0.05\n"
     ]
    },
    {
     "name": "stderr",
     "output_type": "stream",
     "text": [
      "Building predictions: 100%|██████████| 2597/2597 [00:17<00:00, 152.16it/s]\n",
      "Generating predictions with corrected thresholds:  30%|██▉       | 17/57 [27:51<1:04:27, 96.69s/it]"
     ]
    },
    {
     "name": "stdout",
     "output_type": "stream",
     "text": [
      "PlasmoDB-68_PcynomolgiM/MF 0.1\n"
     ]
    },
    {
     "name": "stderr",
     "output_type": "stream",
     "text": [
      "Building predictions: 100%|██████████| 2597/2597 [00:17<00:00, 151.18it/s]\n",
      "Generating predictions with corrected thresholds:  30%|██▉       | 17/57 [28:08<1:04:27, 96.69s/it]"
     ]
    },
    {
     "name": "stdout",
     "output_type": "stream",
     "text": [
      "PlasmoDB-68_PcynomolgiM/MF 0.2\n"
     ]
    },
    {
     "name": "stderr",
     "output_type": "stream",
     "text": [
      "Building predictions: 100%|██████████| 2597/2597 [00:16<00:00, 153.35it/s]\n",
      "Generating predictions with corrected thresholds:  30%|██▉       | 17/57 [28:25<1:04:27, 96.69s/it]"
     ]
    },
    {
     "name": "stdout",
     "output_type": "stream",
     "text": [
      "PlasmoDB-68_PcynomolgiM/MF 0.3\n"
     ]
    },
    {
     "name": "stderr",
     "output_type": "stream",
     "text": [
      "Building predictions: 100%|██████████| 2597/2597 [00:16<00:00, 153.07it/s]\n",
      "Generating predictions with corrected thresholds:  32%|███▏      | 18/57 [28:42<1:00:34, 93.18s/it]"
     ]
    },
    {
     "name": "stdout",
     "output_type": "stream",
     "text": [
      "PlasmoDB-68_Pfalciparum3D7/BP 0.01\n"
     ]
    },
    {
     "name": "stderr",
     "output_type": "stream",
     "text": [
      "Building predictions: 100%|██████████| 1905/1905 [00:26<00:00, 71.94it/s]\n",
      "Generating predictions with corrected thresholds:  32%|███▏      | 18/57 [29:08<1:00:34, 93.18s/it]"
     ]
    },
    {
     "name": "stdout",
     "output_type": "stream",
     "text": [
      "PlasmoDB-68_Pfalciparum3D7/BP 0.05\n"
     ]
    },
    {
     "name": "stderr",
     "output_type": "stream",
     "text": [
      "Building predictions: 100%|██████████| 1905/1905 [00:26<00:00, 73.16it/s]\n",
      "Generating predictions with corrected thresholds:  32%|███▏      | 18/57 [29:34<1:00:34, 93.18s/it]"
     ]
    },
    {
     "name": "stdout",
     "output_type": "stream",
     "text": [
      "PlasmoDB-68_Pfalciparum3D7/BP 0.1\n"
     ]
    },
    {
     "name": "stderr",
     "output_type": "stream",
     "text": [
      "Building predictions: 100%|██████████| 1905/1905 [00:26<00:00, 72.56it/s]\n",
      "Generating predictions with corrected thresholds:  32%|███▏      | 18/57 [30:01<1:00:34, 93.18s/it]"
     ]
    },
    {
     "name": "stdout",
     "output_type": "stream",
     "text": [
      "PlasmoDB-68_Pfalciparum3D7/BP 0.2\n"
     ]
    },
    {
     "name": "stderr",
     "output_type": "stream",
     "text": [
      "Building predictions: 100%|██████████| 1905/1905 [00:25<00:00, 74.08it/s]\n",
      "Generating predictions with corrected thresholds:  32%|███▏      | 18/57 [30:26<1:00:34, 93.18s/it]"
     ]
    },
    {
     "name": "stdout",
     "output_type": "stream",
     "text": [
      "PlasmoDB-68_Pfalciparum3D7/BP 0.3\n"
     ]
    },
    {
     "name": "stderr",
     "output_type": "stream",
     "text": [
      "Building predictions: 100%|██████████| 1905/1905 [00:25<00:00, 73.43it/s]\n",
      "Generating predictions with corrected thresholds:  33%|███▎      | 19/57 [30:52<1:06:06, 104.38s/it]"
     ]
    },
    {
     "name": "stdout",
     "output_type": "stream",
     "text": [
      "PlasmoDB-68_Pfalciparum3D7/CC 0.01\n"
     ]
    },
    {
     "name": "stderr",
     "output_type": "stream",
     "text": [
      "Building predictions: 100%|██████████| 933/933 [00:01<00:00, 476.75it/s]\n",
      "Generating predictions with corrected thresholds:  33%|███▎      | 19/57 [30:54<1:06:06, 104.38s/it]"
     ]
    },
    {
     "name": "stdout",
     "output_type": "stream",
     "text": [
      "PlasmoDB-68_Pfalciparum3D7/CC 0.05\n"
     ]
    },
    {
     "name": "stderr",
     "output_type": "stream",
     "text": [
      "Building predictions: 100%|██████████| 933/933 [00:01<00:00, 469.64it/s]\n",
      "Generating predictions with corrected thresholds:  33%|███▎      | 19/57 [30:56<1:06:06, 104.38s/it]"
     ]
    },
    {
     "name": "stdout",
     "output_type": "stream",
     "text": [
      "PlasmoDB-68_Pfalciparum3D7/CC 0.1\n"
     ]
    },
    {
     "name": "stderr",
     "output_type": "stream",
     "text": [
      "Building predictions: 100%|██████████| 933/933 [00:01<00:00, 470.78it/s]\n",
      "Generating predictions with corrected thresholds:  33%|███▎      | 19/57 [30:58<1:06:06, 104.38s/it]"
     ]
    },
    {
     "name": "stdout",
     "output_type": "stream",
     "text": [
      "PlasmoDB-68_Pfalciparum3D7/CC 0.2\n"
     ]
    },
    {
     "name": "stderr",
     "output_type": "stream",
     "text": [
      "Building predictions: 100%|██████████| 933/933 [00:02<00:00, 415.01it/s]\n",
      "Generating predictions with corrected thresholds:  33%|███▎      | 19/57 [31:01<1:06:06, 104.38s/it]"
     ]
    },
    {
     "name": "stdout",
     "output_type": "stream",
     "text": [
      "PlasmoDB-68_Pfalciparum3D7/CC 0.3\n"
     ]
    },
    {
     "name": "stderr",
     "output_type": "stream",
     "text": [
      "Building predictions: 100%|██████████| 933/933 [00:02<00:00, 464.89it/s]\n",
      "Generating predictions with corrected thresholds:  35%|███▌      | 20/57 [31:03<46:56, 76.11s/it]   "
     ]
    },
    {
     "name": "stdout",
     "output_type": "stream",
     "text": [
      "PlasmoDB-68_Pfalciparum3D7/MF 0.01\n"
     ]
    },
    {
     "name": "stderr",
     "output_type": "stream",
     "text": [
      "Building predictions: 100%|██████████| 1743/1743 [00:11<00:00, 155.65it/s]\n",
      "Generating predictions with corrected thresholds:  35%|███▌      | 20/57 [31:14<46:56, 76.11s/it]"
     ]
    },
    {
     "name": "stdout",
     "output_type": "stream",
     "text": [
      "PlasmoDB-68_Pfalciparum3D7/MF 0.05\n"
     ]
    },
    {
     "name": "stderr",
     "output_type": "stream",
     "text": [
      "Building predictions: 100%|██████████| 1743/1743 [00:11<00:00, 153.47it/s]\n",
      "Generating predictions with corrected thresholds:  35%|███▌      | 20/57 [31:25<46:56, 76.11s/it]"
     ]
    },
    {
     "name": "stdout",
     "output_type": "stream",
     "text": [
      "PlasmoDB-68_Pfalciparum3D7/MF 0.1\n"
     ]
    },
    {
     "name": "stderr",
     "output_type": "stream",
     "text": [
      "Building predictions: 100%|██████████| 1743/1743 [00:11<00:00, 155.14it/s]\n",
      "Generating predictions with corrected thresholds:  35%|███▌      | 20/57 [31:36<46:56, 76.11s/it]"
     ]
    },
    {
     "name": "stdout",
     "output_type": "stream",
     "text": [
      "PlasmoDB-68_Pfalciparum3D7/MF 0.2\n"
     ]
    },
    {
     "name": "stderr",
     "output_type": "stream",
     "text": [
      "Building predictions: 100%|██████████| 1743/1743 [00:11<00:00, 154.76it/s]\n",
      "Generating predictions with corrected thresholds:  35%|███▌      | 20/57 [31:48<46:56, 76.11s/it]"
     ]
    },
    {
     "name": "stdout",
     "output_type": "stream",
     "text": [
      "PlasmoDB-68_Pfalciparum3D7/MF 0.3\n"
     ]
    },
    {
     "name": "stderr",
     "output_type": "stream",
     "text": [
      "Building predictions: 100%|██████████| 1743/1743 [00:11<00:00, 151.61it/s]\n",
      "Generating predictions with corrected thresholds:  37%|███▋      | 21/57 [31:59<42:08, 70.25s/it]"
     ]
    },
    {
     "name": "stdout",
     "output_type": "stream",
     "text": [
      "PlasmoDB-68_PfragileNilgiri/BP 0.01\n"
     ]
    },
    {
     "name": "stderr",
     "output_type": "stream",
     "text": [
      "Building predictions: 100%|██████████| 3448/3448 [00:47<00:00, 72.81it/s]\n",
      "Generating predictions with corrected thresholds:  37%|███▋      | 21/57 [32:47<42:08, 70.25s/it]"
     ]
    },
    {
     "name": "stdout",
     "output_type": "stream",
     "text": [
      "PlasmoDB-68_PfragileNilgiri/BP 0.05\n"
     ]
    },
    {
     "name": "stderr",
     "output_type": "stream",
     "text": [
      "Building predictions: 100%|██████████| 3448/3448 [00:48<00:00, 71.13it/s]\n",
      "Generating predictions with corrected thresholds:  37%|███▋      | 21/57 [33:35<42:08, 70.25s/it]"
     ]
    },
    {
     "name": "stdout",
     "output_type": "stream",
     "text": [
      "PlasmoDB-68_PfragileNilgiri/BP 0.1\n"
     ]
    },
    {
     "name": "stderr",
     "output_type": "stream",
     "text": [
      "Building predictions: 100%|██████████| 3448/3448 [00:48<00:00, 71.16it/s]\n",
      "Generating predictions with corrected thresholds:  37%|███▋      | 21/57 [34:23<42:08, 70.25s/it]"
     ]
    },
    {
     "name": "stdout",
     "output_type": "stream",
     "text": [
      "PlasmoDB-68_PfragileNilgiri/BP 0.2\n"
     ]
    },
    {
     "name": "stderr",
     "output_type": "stream",
     "text": [
      "Building predictions: 100%|██████████| 3448/3448 [00:48<00:00, 70.93it/s]\n",
      "Generating predictions with corrected thresholds:  37%|███▋      | 21/57 [35:12<42:08, 70.25s/it]"
     ]
    },
    {
     "name": "stdout",
     "output_type": "stream",
     "text": [
      "PlasmoDB-68_PfragileNilgiri/BP 0.3\n"
     ]
    },
    {
     "name": "stderr",
     "output_type": "stream",
     "text": [
      "Building predictions: 100%|██████████| 3448/3448 [00:48<00:00, 70.76it/s]\n",
      "Generating predictions with corrected thresholds:  39%|███▊      | 22/57 [36:01<1:10:59, 121.70s/it]"
     ]
    },
    {
     "name": "stdout",
     "output_type": "stream",
     "text": [
      "PlasmoDB-68_PfragileNilgiri/CC 0.01\n"
     ]
    },
    {
     "name": "stderr",
     "output_type": "stream",
     "text": [
      "Building predictions: 100%|██████████| 3014/3014 [00:06<00:00, 438.53it/s]\n",
      "Generating predictions with corrected thresholds:  39%|███▊      | 22/57 [36:08<1:10:59, 121.70s/it]"
     ]
    },
    {
     "name": "stdout",
     "output_type": "stream",
     "text": [
      "PlasmoDB-68_PfragileNilgiri/CC 0.05\n"
     ]
    },
    {
     "name": "stderr",
     "output_type": "stream",
     "text": [
      "Building predictions: 100%|██████████| 3014/3014 [00:06<00:00, 453.84it/s]\n",
      "Generating predictions with corrected thresholds:  39%|███▊      | 22/57 [36:14<1:10:59, 121.70s/it]"
     ]
    },
    {
     "name": "stdout",
     "output_type": "stream",
     "text": [
      "PlasmoDB-68_PfragileNilgiri/CC 0.1\n"
     ]
    },
    {
     "name": "stderr",
     "output_type": "stream",
     "text": [
      "Building predictions: 100%|██████████| 3014/3014 [00:06<00:00, 447.08it/s]\n",
      "Generating predictions with corrected thresholds:  39%|███▊      | 22/57 [36:21<1:10:59, 121.70s/it]"
     ]
    },
    {
     "name": "stdout",
     "output_type": "stream",
     "text": [
      "PlasmoDB-68_PfragileNilgiri/CC 0.2\n"
     ]
    },
    {
     "name": "stderr",
     "output_type": "stream",
     "text": [
      "Building predictions: 100%|██████████| 3014/3014 [00:06<00:00, 458.29it/s]\n",
      "Generating predictions with corrected thresholds:  39%|███▊      | 22/57 [36:28<1:10:59, 121.70s/it]"
     ]
    },
    {
     "name": "stdout",
     "output_type": "stream",
     "text": [
      "PlasmoDB-68_PfragileNilgiri/CC 0.3\n"
     ]
    },
    {
     "name": "stderr",
     "output_type": "stream",
     "text": [
      "Building predictions: 100%|██████████| 3014/3014 [00:06<00:00, 450.62it/s]\n",
      "Generating predictions with corrected thresholds:  40%|████      | 23/57 [36:34<53:58, 95.25s/it]   "
     ]
    },
    {
     "name": "stdout",
     "output_type": "stream",
     "text": [
      "PlasmoDB-68_PfragileNilgiri/MF 0.01\n"
     ]
    },
    {
     "name": "stderr",
     "output_type": "stream",
     "text": [
      "Building predictions: 100%|██████████| 3048/3048 [00:20<00:00, 145.30it/s]\n",
      "Generating predictions with corrected thresholds:  40%|████      | 23/57 [36:55<53:58, 95.25s/it]"
     ]
    },
    {
     "name": "stdout",
     "output_type": "stream",
     "text": [
      "PlasmoDB-68_PfragileNilgiri/MF 0.05\n"
     ]
    },
    {
     "name": "stderr",
     "output_type": "stream",
     "text": [
      "Building predictions: 100%|██████████| 3048/3048 [00:20<00:00, 146.02it/s]\n",
      "Generating predictions with corrected thresholds:  40%|████      | 23/57 [37:16<53:58, 95.25s/it]"
     ]
    },
    {
     "name": "stdout",
     "output_type": "stream",
     "text": [
      "PlasmoDB-68_PfragileNilgiri/MF 0.1\n"
     ]
    },
    {
     "name": "stderr",
     "output_type": "stream",
     "text": [
      "Building predictions: 100%|██████████| 3048/3048 [00:20<00:00, 147.41it/s]\n",
      "Generating predictions with corrected thresholds:  40%|████      | 23/57 [37:37<53:58, 95.25s/it]"
     ]
    },
    {
     "name": "stdout",
     "output_type": "stream",
     "text": [
      "PlasmoDB-68_PfragileNilgiri/MF 0.2\n"
     ]
    },
    {
     "name": "stderr",
     "output_type": "stream",
     "text": [
      "Building predictions: 100%|██████████| 3048/3048 [00:21<00:00, 144.30it/s]\n",
      "Generating predictions with corrected thresholds:  40%|████      | 23/57 [37:58<53:58, 95.25s/it]"
     ]
    },
    {
     "name": "stdout",
     "output_type": "stream",
     "text": [
      "PlasmoDB-68_PfragileNilgiri/MF 0.3\n"
     ]
    },
    {
     "name": "stderr",
     "output_type": "stream",
     "text": [
      "Building predictions: 100%|██████████| 3048/3048 [00:21<00:00, 145.02it/s]\n",
      "Generating predictions with corrected thresholds:  42%|████▏     | 24/57 [38:19<53:57, 98.09s/it]"
     ]
    },
    {
     "name": "stdout",
     "output_type": "stream",
     "text": [
      "PlasmoDB-68_PgaboniG01/BP 0.01\n"
     ]
    },
    {
     "name": "stderr",
     "output_type": "stream",
     "text": [
      "Building predictions: 100%|██████████| 2732/2732 [00:38<00:00, 70.38it/s]\n",
      "Generating predictions with corrected thresholds:  42%|████▏     | 24/57 [38:58<53:57, 98.09s/it]"
     ]
    },
    {
     "name": "stdout",
     "output_type": "stream",
     "text": [
      "PlasmoDB-68_PgaboniG01/BP 0.05\n"
     ]
    },
    {
     "name": "stderr",
     "output_type": "stream",
     "text": [
      "Building predictions: 100%|██████████| 2732/2732 [00:38<00:00, 70.57it/s]\n",
      "Generating predictions with corrected thresholds:  42%|████▏     | 24/57 [39:37<53:57, 98.09s/it]"
     ]
    },
    {
     "name": "stdout",
     "output_type": "stream",
     "text": [
      "PlasmoDB-68_PgaboniG01/BP 0.1\n"
     ]
    },
    {
     "name": "stderr",
     "output_type": "stream",
     "text": [
      "Building predictions: 100%|██████████| 2732/2732 [00:38<00:00, 70.47it/s]\n",
      "Generating predictions with corrected thresholds:  42%|████▏     | 24/57 [40:15<53:57, 98.09s/it]"
     ]
    },
    {
     "name": "stdout",
     "output_type": "stream",
     "text": [
      "PlasmoDB-68_PgaboniG01/BP 0.2\n"
     ]
    },
    {
     "name": "stderr",
     "output_type": "stream",
     "text": [
      "Building predictions: 100%|██████████| 2732/2732 [00:38<00:00, 71.81it/s]\n",
      "Generating predictions with corrected thresholds:  42%|████▏     | 24/57 [40:54<53:57, 98.09s/it]"
     ]
    },
    {
     "name": "stdout",
     "output_type": "stream",
     "text": [
      "PlasmoDB-68_PgaboniG01/BP 0.3\n"
     ]
    },
    {
     "name": "stderr",
     "output_type": "stream",
     "text": [
      "Building predictions: 100%|██████████| 2732/2732 [00:39<00:00, 70.00it/s]\n",
      "Generating predictions with corrected thresholds:  44%|████▍     | 25/57 [41:33<1:07:34, 126.70s/it]"
     ]
    },
    {
     "name": "stdout",
     "output_type": "stream",
     "text": [
      "PlasmoDB-68_PgaboniG01/CC 0.01\n"
     ]
    },
    {
     "name": "stderr",
     "output_type": "stream",
     "text": [
      "Building predictions: 100%|██████████| 2476/2476 [00:05<00:00, 433.11it/s]\n",
      "Generating predictions with corrected thresholds:  44%|████▍     | 25/57 [41:38<1:07:34, 126.70s/it]"
     ]
    },
    {
     "name": "stdout",
     "output_type": "stream",
     "text": [
      "PlasmoDB-68_PgaboniG01/CC 0.05\n"
     ]
    },
    {
     "name": "stderr",
     "output_type": "stream",
     "text": [
      "Building predictions: 100%|██████████| 2476/2476 [00:05<00:00, 429.03it/s]\n",
      "Generating predictions with corrected thresholds:  44%|████▍     | 25/57 [41:44<1:07:34, 126.70s/it]"
     ]
    },
    {
     "name": "stdout",
     "output_type": "stream",
     "text": [
      "PlasmoDB-68_PgaboniG01/CC 0.1\n"
     ]
    },
    {
     "name": "stderr",
     "output_type": "stream",
     "text": [
      "Building predictions: 100%|██████████| 2476/2476 [00:05<00:00, 454.43it/s]\n",
      "Generating predictions with corrected thresholds:  44%|████▍     | 25/57 [41:50<1:07:34, 126.70s/it]"
     ]
    },
    {
     "name": "stdout",
     "output_type": "stream",
     "text": [
      "PlasmoDB-68_PgaboniG01/CC 0.2\n"
     ]
    },
    {
     "name": "stderr",
     "output_type": "stream",
     "text": [
      "Building predictions: 100%|██████████| 2476/2476 [00:05<00:00, 459.29it/s]\n",
      "Generating predictions with corrected thresholds:  44%|████▍     | 25/57 [41:55<1:07:34, 126.70s/it]"
     ]
    },
    {
     "name": "stdout",
     "output_type": "stream",
     "text": [
      "PlasmoDB-68_PgaboniG01/CC 0.3\n"
     ]
    },
    {
     "name": "stderr",
     "output_type": "stream",
     "text": [
      "Building predictions: 100%|██████████| 2476/2476 [00:05<00:00, 459.63it/s]\n",
      "Generating predictions with corrected thresholds:  46%|████▌     | 26/57 [42:00<50:07, 97.01s/it]   "
     ]
    },
    {
     "name": "stdout",
     "output_type": "stream",
     "text": [
      "PlasmoDB-68_PgaboniG01/MF 0.01\n"
     ]
    },
    {
     "name": "stderr",
     "output_type": "stream",
     "text": [
      "Building predictions: 100%|██████████| 2304/2304 [00:16<00:00, 143.19it/s]\n",
      "Generating predictions with corrected thresholds:  46%|████▌     | 26/57 [42:16<50:07, 97.01s/it]"
     ]
    },
    {
     "name": "stdout",
     "output_type": "stream",
     "text": [
      "PlasmoDB-68_PgaboniG01/MF 0.05\n"
     ]
    },
    {
     "name": "stderr",
     "output_type": "stream",
     "text": [
      "Building predictions: 100%|██████████| 2304/2304 [00:15<00:00, 147.72it/s]\n",
      "Generating predictions with corrected thresholds:  46%|████▌     | 26/57 [42:32<50:07, 97.01s/it]"
     ]
    },
    {
     "name": "stdout",
     "output_type": "stream",
     "text": [
      "PlasmoDB-68_PgaboniG01/MF 0.1\n"
     ]
    },
    {
     "name": "stderr",
     "output_type": "stream",
     "text": [
      "Building predictions: 100%|██████████| 2304/2304 [00:15<00:00, 146.43it/s]\n",
      "Generating predictions with corrected thresholds:  46%|████▌     | 26/57 [42:48<50:07, 97.01s/it]"
     ]
    },
    {
     "name": "stdout",
     "output_type": "stream",
     "text": [
      "PlasmoDB-68_PgaboniG01/MF 0.2\n"
     ]
    },
    {
     "name": "stderr",
     "output_type": "stream",
     "text": [
      "Building predictions: 100%|██████████| 2304/2304 [00:15<00:00, 144.27it/s]\n",
      "Generating predictions with corrected thresholds:  46%|████▌     | 26/57 [43:04<50:07, 97.01s/it]"
     ]
    },
    {
     "name": "stdout",
     "output_type": "stream",
     "text": [
      "PlasmoDB-68_PgaboniG01/MF 0.3\n"
     ]
    },
    {
     "name": "stderr",
     "output_type": "stream",
     "text": [
      "Building predictions: 100%|██████████| 2304/2304 [00:15<00:00, 145.51it/s]\n",
      "Generating predictions with corrected thresholds:  47%|████▋     | 27/57 [43:20<45:50, 91.69s/it]"
     ]
    },
    {
     "name": "stdout",
     "output_type": "stream",
     "text": [
      "PlasmoDB-68_Pgallinaceum8A/BP 0.01\n"
     ]
    },
    {
     "name": "stderr",
     "output_type": "stream",
     "text": [
      "Building predictions: 100%|██████████| 2607/2607 [00:37<00:00, 69.81it/s]\n",
      "Generating predictions with corrected thresholds:  47%|████▋     | 27/57 [43:57<45:50, 91.69s/it]"
     ]
    },
    {
     "name": "stdout",
     "output_type": "stream",
     "text": [
      "PlasmoDB-68_Pgallinaceum8A/BP 0.05\n"
     ]
    },
    {
     "name": "stderr",
     "output_type": "stream",
     "text": [
      "Building predictions: 100%|██████████| 2607/2607 [00:37<00:00, 69.80it/s]\n",
      "Generating predictions with corrected thresholds:  47%|████▋     | 27/57 [44:34<45:50, 91.69s/it]"
     ]
    },
    {
     "name": "stdout",
     "output_type": "stream",
     "text": [
      "PlasmoDB-68_Pgallinaceum8A/BP 0.1\n"
     ]
    },
    {
     "name": "stderr",
     "output_type": "stream",
     "text": [
      "Building predictions: 100%|██████████| 2607/2607 [00:36<00:00, 70.86it/s]\n",
      "Generating predictions with corrected thresholds:  47%|████▋     | 27/57 [45:11<45:50, 91.69s/it]"
     ]
    },
    {
     "name": "stdout",
     "output_type": "stream",
     "text": [
      "PlasmoDB-68_Pgallinaceum8A/BP 0.2\n"
     ]
    },
    {
     "name": "stderr",
     "output_type": "stream",
     "text": [
      "Building predictions: 100%|██████████| 2607/2607 [00:37<00:00, 69.61it/s]\n",
      "Generating predictions with corrected thresholds:  47%|████▋     | 27/57 [45:49<45:50, 91.69s/it]"
     ]
    },
    {
     "name": "stdout",
     "output_type": "stream",
     "text": [
      "PlasmoDB-68_Pgallinaceum8A/BP 0.3\n"
     ]
    },
    {
     "name": "stderr",
     "output_type": "stream",
     "text": [
      "Building predictions: 100%|██████████| 2607/2607 [00:37<00:00, 70.41it/s]\n",
      "Generating predictions with corrected thresholds:  49%|████▉     | 28/57 [46:26<57:59, 119.99s/it]"
     ]
    },
    {
     "name": "stdout",
     "output_type": "stream",
     "text": [
      "PlasmoDB-68_Pgallinaceum8A/CC 0.01\n"
     ]
    },
    {
     "name": "stderr",
     "output_type": "stream",
     "text": [
      "Building predictions: 100%|██████████| 2073/2073 [00:04<00:00, 449.98it/s]\n",
      "Generating predictions with corrected thresholds:  49%|████▉     | 28/57 [46:30<57:59, 119.99s/it]"
     ]
    },
    {
     "name": "stdout",
     "output_type": "stream",
     "text": [
      "PlasmoDB-68_Pgallinaceum8A/CC 0.05\n"
     ]
    },
    {
     "name": "stderr",
     "output_type": "stream",
     "text": [
      "Building predictions: 100%|██████████| 2073/2073 [00:04<00:00, 461.01it/s]\n",
      "Generating predictions with corrected thresholds:  49%|████▉     | 28/57 [46:35<57:59, 119.99s/it]"
     ]
    },
    {
     "name": "stdout",
     "output_type": "stream",
     "text": [
      "PlasmoDB-68_Pgallinaceum8A/CC 0.1\n"
     ]
    },
    {
     "name": "stderr",
     "output_type": "stream",
     "text": [
      "Building predictions: 100%|██████████| 2073/2073 [00:04<00:00, 455.16it/s]\n",
      "Generating predictions with corrected thresholds:  49%|████▉     | 28/57 [46:39<57:59, 119.99s/it]"
     ]
    },
    {
     "name": "stdout",
     "output_type": "stream",
     "text": [
      "PlasmoDB-68_Pgallinaceum8A/CC 0.2\n"
     ]
    },
    {
     "name": "stderr",
     "output_type": "stream",
     "text": [
      "Building predictions: 100%|██████████| 2073/2073 [00:04<00:00, 428.83it/s]\n",
      "Generating predictions with corrected thresholds:  49%|████▉     | 28/57 [46:44<57:59, 119.99s/it]"
     ]
    },
    {
     "name": "stdout",
     "output_type": "stream",
     "text": [
      "PlasmoDB-68_Pgallinaceum8A/CC 0.3\n"
     ]
    },
    {
     "name": "stderr",
     "output_type": "stream",
     "text": [
      "Building predictions: 100%|██████████| 2073/2073 [00:04<00:00, 452.72it/s]\n",
      "Generating predictions with corrected thresholds:  51%|█████     | 29/57 [46:49<42:25, 90.92s/it] "
     ]
    },
    {
     "name": "stdout",
     "output_type": "stream",
     "text": [
      "PlasmoDB-68_Pgallinaceum8A/MF 0.01\n"
     ]
    },
    {
     "name": "stderr",
     "output_type": "stream",
     "text": [
      "Building predictions: 100%|██████████| 2172/2172 [00:14<00:00, 147.18it/s]\n",
      "Generating predictions with corrected thresholds:  51%|█████     | 29/57 [47:03<42:25, 90.92s/it]"
     ]
    },
    {
     "name": "stdout",
     "output_type": "stream",
     "text": [
      "PlasmoDB-68_Pgallinaceum8A/MF 0.05\n"
     ]
    },
    {
     "name": "stderr",
     "output_type": "stream",
     "text": [
      "Building predictions: 100%|██████████| 2172/2172 [00:14<00:00, 146.59it/s]\n",
      "Generating predictions with corrected thresholds:  51%|█████     | 29/57 [47:18<42:25, 90.92s/it]"
     ]
    },
    {
     "name": "stdout",
     "output_type": "stream",
     "text": [
      "PlasmoDB-68_Pgallinaceum8A/MF 0.1\n"
     ]
    },
    {
     "name": "stderr",
     "output_type": "stream",
     "text": [
      "Building predictions: 100%|██████████| 2172/2172 [00:14<00:00, 148.99it/s]\n",
      "Generating predictions with corrected thresholds:  51%|█████     | 29/57 [47:33<42:25, 90.92s/it]"
     ]
    },
    {
     "name": "stdout",
     "output_type": "stream",
     "text": [
      "PlasmoDB-68_Pgallinaceum8A/MF 0.2\n"
     ]
    },
    {
     "name": "stderr",
     "output_type": "stream",
     "text": [
      "Building predictions: 100%|██████████| 2172/2172 [00:14<00:00, 147.05it/s]\n",
      "Generating predictions with corrected thresholds:  51%|█████     | 29/57 [47:48<42:25, 90.92s/it]"
     ]
    },
    {
     "name": "stdout",
     "output_type": "stream",
     "text": [
      "PlasmoDB-68_Pgallinaceum8A/MF 0.3\n"
     ]
    },
    {
     "name": "stderr",
     "output_type": "stream",
     "text": [
      "Building predictions: 100%|██████████| 2172/2172 [00:14<00:00, 149.03it/s]\n",
      "Generating predictions with corrected thresholds:  53%|█████▎    | 30/57 [48:02<38:34, 85.71s/it]"
     ]
    },
    {
     "name": "stdout",
     "output_type": "stream",
     "text": [
      "PlasmoDB-68_PinuiSanAntonio1/BP 0.01\n"
     ]
    },
    {
     "name": "stderr",
     "output_type": "stream",
     "text": [
      "Building predictions: 100%|██████████| 3682/3682 [00:51<00:00, 70.83it/s]\n",
      "Generating predictions with corrected thresholds:  53%|█████▎    | 30/57 [48:54<38:34, 85.71s/it]"
     ]
    },
    {
     "name": "stdout",
     "output_type": "stream",
     "text": [
      "PlasmoDB-68_PinuiSanAntonio1/BP 0.05\n"
     ]
    },
    {
     "name": "stderr",
     "output_type": "stream",
     "text": [
      "Building predictions: 100%|██████████| 3682/3682 [00:51<00:00, 71.46it/s]\n",
      "Generating predictions with corrected thresholds:  53%|█████▎    | 30/57 [49:46<38:34, 85.71s/it]"
     ]
    },
    {
     "name": "stdout",
     "output_type": "stream",
     "text": [
      "PlasmoDB-68_PinuiSanAntonio1/BP 0.1\n"
     ]
    },
    {
     "name": "stderr",
     "output_type": "stream",
     "text": [
      "Building predictions: 100%|██████████| 3682/3682 [00:51<00:00, 71.14it/s]\n",
      "Generating predictions with corrected thresholds:  53%|█████▎    | 30/57 [50:38<38:34, 85.71s/it]"
     ]
    },
    {
     "name": "stdout",
     "output_type": "stream",
     "text": [
      "PlasmoDB-68_PinuiSanAntonio1/BP 0.2\n"
     ]
    },
    {
     "name": "stderr",
     "output_type": "stream",
     "text": [
      "Building predictions: 100%|██████████| 3682/3682 [00:52<00:00, 70.24it/s]\n",
      "Generating predictions with corrected thresholds:  53%|█████▎    | 30/57 [51:30<38:34, 85.71s/it]"
     ]
    },
    {
     "name": "stdout",
     "output_type": "stream",
     "text": [
      "PlasmoDB-68_PinuiSanAntonio1/BP 0.3\n"
     ]
    },
    {
     "name": "stderr",
     "output_type": "stream",
     "text": [
      "Building predictions: 100%|██████████| 3682/3682 [00:52<00:00, 70.11it/s]\n",
      "Generating predictions with corrected thresholds:  54%|█████▍    | 31/57 [52:23<59:49, 138.07s/it]"
     ]
    },
    {
     "name": "stdout",
     "output_type": "stream",
     "text": [
      "PlasmoDB-68_PinuiSanAntonio1/CC 0.01\n"
     ]
    },
    {
     "name": "stderr",
     "output_type": "stream",
     "text": [
      "Building predictions: 100%|██████████| 3312/3312 [00:07<00:00, 460.61it/s]\n",
      "Generating predictions with corrected thresholds:  54%|█████▍    | 31/57 [52:30<59:49, 138.07s/it]"
     ]
    },
    {
     "name": "stdout",
     "output_type": "stream",
     "text": [
      "PlasmoDB-68_PinuiSanAntonio1/CC 0.05\n"
     ]
    },
    {
     "name": "stderr",
     "output_type": "stream",
     "text": [
      "Building predictions: 100%|██████████| 3312/3312 [00:07<00:00, 452.26it/s]\n",
      "Generating predictions with corrected thresholds:  54%|█████▍    | 31/57 [52:37<59:49, 138.07s/it]"
     ]
    },
    {
     "name": "stdout",
     "output_type": "stream",
     "text": [
      "PlasmoDB-68_PinuiSanAntonio1/CC 0.1\n"
     ]
    },
    {
     "name": "stderr",
     "output_type": "stream",
     "text": [
      "Building predictions: 100%|██████████| 3312/3312 [00:07<00:00, 449.93it/s]\n",
      "Generating predictions with corrected thresholds:  54%|█████▍    | 31/57 [52:44<59:49, 138.07s/it]"
     ]
    },
    {
     "name": "stdout",
     "output_type": "stream",
     "text": [
      "PlasmoDB-68_PinuiSanAntonio1/CC 0.2\n"
     ]
    },
    {
     "name": "stderr",
     "output_type": "stream",
     "text": [
      "Building predictions: 100%|██████████| 3312/3312 [00:07<00:00, 445.63it/s]\n",
      "Generating predictions with corrected thresholds:  54%|█████▍    | 31/57 [52:52<59:49, 138.07s/it]"
     ]
    },
    {
     "name": "stdout",
     "output_type": "stream",
     "text": [
      "PlasmoDB-68_PinuiSanAntonio1/CC 0.3\n"
     ]
    },
    {
     "name": "stderr",
     "output_type": "stream",
     "text": [
      "Building predictions: 100%|██████████| 3312/3312 [00:07<00:00, 455.74it/s]\n",
      "Generating predictions with corrected thresholds:  56%|█████▌    | 32/57 [52:59<44:50, 107.63s/it]"
     ]
    },
    {
     "name": "stdout",
     "output_type": "stream",
     "text": [
      "PlasmoDB-68_PinuiSanAntonio1/MF 0.01\n"
     ]
    },
    {
     "name": "stderr",
     "output_type": "stream",
     "text": [
      "Building predictions: 100%|██████████| 3290/3290 [00:22<00:00, 147.16it/s]\n",
      "Generating predictions with corrected thresholds:  56%|█████▌    | 32/57 [53:21<44:50, 107.63s/it]"
     ]
    },
    {
     "name": "stdout",
     "output_type": "stream",
     "text": [
      "PlasmoDB-68_PinuiSanAntonio1/MF 0.05\n"
     ]
    },
    {
     "name": "stderr",
     "output_type": "stream",
     "text": [
      "Building predictions: 100%|██████████| 3290/3290 [00:22<00:00, 144.09it/s]\n",
      "Generating predictions with corrected thresholds:  56%|█████▌    | 32/57 [53:44<44:50, 107.63s/it]"
     ]
    },
    {
     "name": "stdout",
     "output_type": "stream",
     "text": [
      "PlasmoDB-68_PinuiSanAntonio1/MF 0.1\n"
     ]
    },
    {
     "name": "stderr",
     "output_type": "stream",
     "text": [
      "Building predictions: 100%|██████████| 3290/3290 [00:22<00:00, 144.76it/s]\n",
      "Generating predictions with corrected thresholds:  56%|█████▌    | 32/57 [54:07<44:50, 107.63s/it]"
     ]
    },
    {
     "name": "stdout",
     "output_type": "stream",
     "text": [
      "PlasmoDB-68_PinuiSanAntonio1/MF 0.2\n"
     ]
    },
    {
     "name": "stderr",
     "output_type": "stream",
     "text": [
      "Building predictions: 100%|██████████| 3290/3290 [00:22<00:00, 147.55it/s]\n",
      "Generating predictions with corrected thresholds:  56%|█████▌    | 32/57 [54:29<44:50, 107.63s/it]"
     ]
    },
    {
     "name": "stdout",
     "output_type": "stream",
     "text": [
      "PlasmoDB-68_PinuiSanAntonio1/MF 0.3\n"
     ]
    },
    {
     "name": "stderr",
     "output_type": "stream",
     "text": [
      "Building predictions: 100%|██████████| 3290/3290 [00:22<00:00, 145.11it/s]\n",
      "Generating predictions with corrected thresholds:  58%|█████▊    | 33/57 [54:52<43:41, 109.22s/it]"
     ]
    },
    {
     "name": "stdout",
     "output_type": "stream",
     "text": [
      "PlasmoDB-68_PknowlesiH/BP 0.01\n"
     ]
    },
    {
     "name": "stderr",
     "output_type": "stream",
     "text": [
      "Building predictions: 100%|██████████| 2592/2592 [00:36<00:00, 70.77it/s]\n",
      "Generating predictions with corrected thresholds:  58%|█████▊    | 33/57 [55:29<43:41, 109.22s/it]"
     ]
    },
    {
     "name": "stdout",
     "output_type": "stream",
     "text": [
      "PlasmoDB-68_PknowlesiH/BP 0.05\n"
     ]
    },
    {
     "name": "stderr",
     "output_type": "stream",
     "text": [
      "Building predictions: 100%|██████████| 2592/2592 [00:36<00:00, 71.01it/s]\n",
      "Generating predictions with corrected thresholds:  58%|█████▊    | 33/57 [56:05<43:41, 109.22s/it]"
     ]
    },
    {
     "name": "stdout",
     "output_type": "stream",
     "text": [
      "PlasmoDB-68_PknowlesiH/BP 0.1\n"
     ]
    },
    {
     "name": "stderr",
     "output_type": "stream",
     "text": [
      "Building predictions: 100%|██████████| 2592/2592 [00:36<00:00, 70.80it/s]\n",
      "Generating predictions with corrected thresholds:  58%|█████▊    | 33/57 [56:42<43:41, 109.22s/it]"
     ]
    },
    {
     "name": "stdout",
     "output_type": "stream",
     "text": [
      "PlasmoDB-68_PknowlesiH/BP 0.2\n"
     ]
    },
    {
     "name": "stderr",
     "output_type": "stream",
     "text": [
      "Building predictions: 100%|██████████| 2592/2592 [00:36<00:00, 71.72it/s]\n",
      "Generating predictions with corrected thresholds:  58%|█████▊    | 33/57 [57:18<43:41, 109.22s/it]"
     ]
    },
    {
     "name": "stdout",
     "output_type": "stream",
     "text": [
      "PlasmoDB-68_PknowlesiH/BP 0.3\n"
     ]
    },
    {
     "name": "stderr",
     "output_type": "stream",
     "text": [
      "Building predictions: 100%|██████████| 2592/2592 [00:36<00:00, 71.62it/s]\n",
      "Generating predictions with corrected thresholds:  60%|█████▉    | 34/57 [57:54<50:15, 131.09s/it]"
     ]
    },
    {
     "name": "stdout",
     "output_type": "stream",
     "text": [
      "PlasmoDB-68_PknowlesiH/CC 0.01\n"
     ]
    },
    {
     "name": "stderr",
     "output_type": "stream",
     "text": [
      "Building predictions: 100%|██████████| 1950/1950 [00:04<00:00, 459.79it/s]\n",
      "Generating predictions with corrected thresholds:  60%|█████▉    | 34/57 [57:58<50:15, 131.09s/it]"
     ]
    },
    {
     "name": "stdout",
     "output_type": "stream",
     "text": [
      "PlasmoDB-68_PknowlesiH/CC 0.05\n"
     ]
    },
    {
     "name": "stderr",
     "output_type": "stream",
     "text": [
      "Building predictions: 100%|██████████| 1950/1950 [00:04<00:00, 469.03it/s]\n",
      "Generating predictions with corrected thresholds:  60%|█████▉    | 34/57 [58:03<50:15, 131.09s/it]"
     ]
    },
    {
     "name": "stdout",
     "output_type": "stream",
     "text": [
      "PlasmoDB-68_PknowlesiH/CC 0.1\n"
     ]
    },
    {
     "name": "stderr",
     "output_type": "stream",
     "text": [
      "Building predictions: 100%|██████████| 1950/1950 [00:04<00:00, 426.18it/s]\n",
      "Generating predictions with corrected thresholds:  60%|█████▉    | 34/57 [58:07<50:15, 131.09s/it]"
     ]
    },
    {
     "name": "stdout",
     "output_type": "stream",
     "text": [
      "PlasmoDB-68_PknowlesiH/CC 0.2\n"
     ]
    },
    {
     "name": "stderr",
     "output_type": "stream",
     "text": [
      "Building predictions: 100%|██████████| 1950/1950 [00:04<00:00, 464.33it/s]\n",
      "Generating predictions with corrected thresholds:  60%|█████▉    | 34/57 [58:11<50:15, 131.09s/it]"
     ]
    },
    {
     "name": "stdout",
     "output_type": "stream",
     "text": [
      "PlasmoDB-68_PknowlesiH/CC 0.3\n"
     ]
    },
    {
     "name": "stderr",
     "output_type": "stream",
     "text": [
      "Building predictions: 100%|██████████| 1950/1950 [00:04<00:00, 469.82it/s]\n",
      "Generating predictions with corrected thresholds:  61%|██████▏   | 35/57 [58:16<35:59, 98.17s/it] "
     ]
    },
    {
     "name": "stdout",
     "output_type": "stream",
     "text": [
      "PlasmoDB-68_PknowlesiH/MF 0.01\n"
     ]
    },
    {
     "name": "stderr",
     "output_type": "stream",
     "text": [
      "Building predictions: 100%|██████████| 2220/2220 [00:15<00:00, 147.48it/s]\n",
      "Generating predictions with corrected thresholds:  61%|██████▏   | 35/57 [58:31<35:59, 98.17s/it]"
     ]
    },
    {
     "name": "stdout",
     "output_type": "stream",
     "text": [
      "PlasmoDB-68_PknowlesiH/MF 0.05\n"
     ]
    },
    {
     "name": "stderr",
     "output_type": "stream",
     "text": [
      "Building predictions: 100%|██████████| 2220/2220 [00:14<00:00, 152.75it/s]\n",
      "Generating predictions with corrected thresholds:  61%|██████▏   | 35/57 [58:45<35:59, 98.17s/it]"
     ]
    },
    {
     "name": "stdout",
     "output_type": "stream",
     "text": [
      "PlasmoDB-68_PknowlesiH/MF 0.1\n"
     ]
    },
    {
     "name": "stderr",
     "output_type": "stream",
     "text": [
      "Building predictions: 100%|██████████| 2220/2220 [00:14<00:00, 150.37it/s]\n",
      "Generating predictions with corrected thresholds:  61%|██████▏   | 35/57 [59:00<35:59, 98.17s/it]"
     ]
    },
    {
     "name": "stdout",
     "output_type": "stream",
     "text": [
      "PlasmoDB-68_PknowlesiH/MF 0.2\n"
     ]
    },
    {
     "name": "stderr",
     "output_type": "stream",
     "text": [
      "Building predictions: 100%|██████████| 2220/2220 [00:15<00:00, 147.75it/s]\n",
      "Generating predictions with corrected thresholds:  61%|██████▏   | 35/57 [59:15<35:59, 98.17s/it]"
     ]
    },
    {
     "name": "stdout",
     "output_type": "stream",
     "text": [
      "PlasmoDB-68_PknowlesiH/MF 0.3\n"
     ]
    },
    {
     "name": "stderr",
     "output_type": "stream",
     "text": [
      "Building predictions: 100%|██████████| 2220/2220 [00:14<00:00, 151.55it/s]\n",
      "Generating predictions with corrected thresholds:  63%|██████▎   | 36/57 [59:30<31:49, 90.94s/it]"
     ]
    },
    {
     "name": "stdout",
     "output_type": "stream",
     "text": [
      "PlasmoDB-68_PmalariaeUG01/BP 0.01\n"
     ]
    },
    {
     "name": "stderr",
     "output_type": "stream",
     "text": [
      "Building predictions: 100%|██████████| 2868/2868 [00:39<00:00, 72.57it/s]\n",
      "Generating predictions with corrected thresholds:  63%|██████▎   | 36/57 [1:00:09<31:49, 90.94s/it]"
     ]
    },
    {
     "name": "stdout",
     "output_type": "stream",
     "text": [
      "PlasmoDB-68_PmalariaeUG01/BP 0.05\n"
     ]
    },
    {
     "name": "stderr",
     "output_type": "stream",
     "text": [
      "Building predictions: 100%|██████████| 2868/2868 [00:39<00:00, 72.70it/s]\n",
      "Generating predictions with corrected thresholds:  63%|██████▎   | 36/57 [1:00:49<31:49, 90.94s/it]"
     ]
    },
    {
     "name": "stdout",
     "output_type": "stream",
     "text": [
      "PlasmoDB-68_PmalariaeUG01/BP 0.1\n"
     ]
    },
    {
     "name": "stderr",
     "output_type": "stream",
     "text": [
      "Building predictions: 100%|██████████| 2868/2868 [00:39<00:00, 72.89it/s]\n",
      "Generating predictions with corrected thresholds:  63%|██████▎   | 36/57 [1:01:28<31:49, 90.94s/it]"
     ]
    },
    {
     "name": "stdout",
     "output_type": "stream",
     "text": [
      "PlasmoDB-68_PmalariaeUG01/BP 0.2\n"
     ]
    },
    {
     "name": "stderr",
     "output_type": "stream",
     "text": [
      "Building predictions: 100%|██████████| 2868/2868 [00:39<00:00, 72.58it/s]\n",
      "Generating predictions with corrected thresholds:  63%|██████▎   | 36/57 [1:02:07<31:49, 90.94s/it]"
     ]
    },
    {
     "name": "stdout",
     "output_type": "stream",
     "text": [
      "PlasmoDB-68_PmalariaeUG01/BP 0.3\n"
     ]
    },
    {
     "name": "stderr",
     "output_type": "stream",
     "text": [
      "Building predictions: 100%|██████████| 2868/2868 [00:39<00:00, 72.62it/s]\n",
      "Generating predictions with corrected thresholds:  65%|██████▍   | 37/57 [1:02:47<40:57, 122.87s/it]"
     ]
    },
    {
     "name": "stdout",
     "output_type": "stream",
     "text": [
      "PlasmoDB-68_PmalariaeUG01/CC 0.01\n"
     ]
    },
    {
     "name": "stderr",
     "output_type": "stream",
     "text": [
      "Building predictions: 100%|██████████| 2035/2035 [00:04<00:00, 472.65it/s]\n",
      "Generating predictions with corrected thresholds:  65%|██████▍   | 37/57 [1:02:51<40:57, 122.87s/it]"
     ]
    },
    {
     "name": "stdout",
     "output_type": "stream",
     "text": [
      "PlasmoDB-68_PmalariaeUG01/CC 0.05\n"
     ]
    },
    {
     "name": "stderr",
     "output_type": "stream",
     "text": [
      "Building predictions: 100%|██████████| 2035/2035 [00:04<00:00, 475.75it/s]\n",
      "Generating predictions with corrected thresholds:  65%|██████▍   | 37/57 [1:02:56<40:57, 122.87s/it]"
     ]
    },
    {
     "name": "stdout",
     "output_type": "stream",
     "text": [
      "PlasmoDB-68_PmalariaeUG01/CC 0.1\n"
     ]
    },
    {
     "name": "stderr",
     "output_type": "stream",
     "text": [
      "Building predictions: 100%|██████████| 2035/2035 [00:04<00:00, 469.92it/s]\n",
      "Generating predictions with corrected thresholds:  65%|██████▍   | 37/57 [1:03:00<40:57, 122.87s/it]"
     ]
    },
    {
     "name": "stdout",
     "output_type": "stream",
     "text": [
      "PlasmoDB-68_PmalariaeUG01/CC 0.2\n"
     ]
    },
    {
     "name": "stderr",
     "output_type": "stream",
     "text": [
      "Building predictions: 100%|██████████| 2035/2035 [00:04<00:00, 464.42it/s]\n",
      "Generating predictions with corrected thresholds:  65%|██████▍   | 37/57 [1:03:04<40:57, 122.87s/it]"
     ]
    },
    {
     "name": "stdout",
     "output_type": "stream",
     "text": [
      "PlasmoDB-68_PmalariaeUG01/CC 0.3\n"
     ]
    },
    {
     "name": "stderr",
     "output_type": "stream",
     "text": [
      "Building predictions: 100%|██████████| 2035/2035 [00:04<00:00, 438.66it/s]\n",
      "Generating predictions with corrected thresholds:  67%|██████▋   | 38/57 [1:03:09<29:19, 92.60s/it] "
     ]
    },
    {
     "name": "stdout",
     "output_type": "stream",
     "text": [
      "PlasmoDB-68_PmalariaeUG01/MF 0.01\n"
     ]
    },
    {
     "name": "stderr",
     "output_type": "stream",
     "text": [
      "Building predictions: 100%|██████████| 2478/2478 [00:16<00:00, 153.26it/s]\n",
      "Generating predictions with corrected thresholds:  67%|██████▋   | 38/57 [1:03:25<29:19, 92.60s/it]"
     ]
    },
    {
     "name": "stdout",
     "output_type": "stream",
     "text": [
      "PlasmoDB-68_PmalariaeUG01/MF 0.05\n"
     ]
    },
    {
     "name": "stderr",
     "output_type": "stream",
     "text": [
      "Building predictions: 100%|██████████| 2478/2478 [00:16<00:00, 148.18it/s]\n",
      "Generating predictions with corrected thresholds:  67%|██████▋   | 38/57 [1:03:42<29:19, 92.60s/it]"
     ]
    },
    {
     "name": "stdout",
     "output_type": "stream",
     "text": [
      "PlasmoDB-68_PmalariaeUG01/MF 0.1\n"
     ]
    },
    {
     "name": "stderr",
     "output_type": "stream",
     "text": [
      "Building predictions: 100%|██████████| 2478/2478 [00:16<00:00, 154.04it/s]\n",
      "Generating predictions with corrected thresholds:  67%|██████▋   | 38/57 [1:03:58<29:19, 92.60s/it]"
     ]
    },
    {
     "name": "stdout",
     "output_type": "stream",
     "text": [
      "PlasmoDB-68_PmalariaeUG01/MF 0.2\n"
     ]
    },
    {
     "name": "stderr",
     "output_type": "stream",
     "text": [
      "Building predictions: 100%|██████████| 2478/2478 [00:16<00:00, 152.34it/s]\n",
      "Generating predictions with corrected thresholds:  67%|██████▋   | 38/57 [1:04:14<29:19, 92.60s/it]"
     ]
    },
    {
     "name": "stdout",
     "output_type": "stream",
     "text": [
      "PlasmoDB-68_PmalariaeUG01/MF 0.3\n"
     ]
    },
    {
     "name": "stderr",
     "output_type": "stream",
     "text": [
      "Building predictions: 100%|██████████| 2478/2478 [00:16<00:00, 153.96it/s]\n",
      "Generating predictions with corrected thresholds:  68%|██████▊   | 39/57 [1:04:30<26:46, 89.23s/it]"
     ]
    },
    {
     "name": "stdout",
     "output_type": "stream",
     "text": [
      "PlasmoDB-68_PovalecurtisiGH01/BP 0.01\n"
     ]
    },
    {
     "name": "stderr",
     "output_type": "stream",
     "text": [
      "Building predictions: 100%|██████████| 2824/2824 [00:38<00:00, 72.84it/s]\n",
      "Generating predictions with corrected thresholds:  68%|██████▊   | 39/57 [1:05:09<26:46, 89.23s/it]"
     ]
    },
    {
     "name": "stdout",
     "output_type": "stream",
     "text": [
      "PlasmoDB-68_PovalecurtisiGH01/BP 0.05\n"
     ]
    },
    {
     "name": "stderr",
     "output_type": "stream",
     "text": [
      "Building predictions: 100%|██████████| 2824/2824 [00:38<00:00, 73.18it/s]\n",
      "Generating predictions with corrected thresholds:  68%|██████▊   | 39/57 [1:05:48<26:46, 89.23s/it]"
     ]
    },
    {
     "name": "stdout",
     "output_type": "stream",
     "text": [
      "PlasmoDB-68_PovalecurtisiGH01/BP 0.1\n"
     ]
    },
    {
     "name": "stderr",
     "output_type": "stream",
     "text": [
      "Building predictions: 100%|██████████| 2824/2824 [00:38<00:00, 73.25it/s]\n",
      "Generating predictions with corrected thresholds:  68%|██████▊   | 39/57 [1:06:26<26:46, 89.23s/it]"
     ]
    },
    {
     "name": "stdout",
     "output_type": "stream",
     "text": [
      "PlasmoDB-68_PovalecurtisiGH01/BP 0.2\n"
     ]
    },
    {
     "name": "stderr",
     "output_type": "stream",
     "text": [
      "Building predictions: 100%|██████████| 2824/2824 [00:38<00:00, 72.96it/s]\n",
      "Generating predictions with corrected thresholds:  68%|██████▊   | 39/57 [1:07:05<26:46, 89.23s/it]"
     ]
    },
    {
     "name": "stdout",
     "output_type": "stream",
     "text": [
      "PlasmoDB-68_PovalecurtisiGH01/BP 0.3\n"
     ]
    },
    {
     "name": "stderr",
     "output_type": "stream",
     "text": [
      "Building predictions: 100%|██████████| 2824/2824 [00:38<00:00, 72.79it/s]\n",
      "Generating predictions with corrected thresholds:  70%|███████   | 40/57 [1:07:44<34:08, 120.50s/it]"
     ]
    },
    {
     "name": "stdout",
     "output_type": "stream",
     "text": [
      "PlasmoDB-68_PovalecurtisiGH01/CC 0.01\n"
     ]
    },
    {
     "name": "stderr",
     "output_type": "stream",
     "text": [
      "Building predictions: 100%|██████████| 2718/2718 [00:05<00:00, 475.01it/s]\n",
      "Generating predictions with corrected thresholds:  70%|███████   | 40/57 [1:07:50<34:08, 120.50s/it]"
     ]
    },
    {
     "name": "stdout",
     "output_type": "stream",
     "text": [
      "PlasmoDB-68_PovalecurtisiGH01/CC 0.05\n"
     ]
    },
    {
     "name": "stderr",
     "output_type": "stream",
     "text": [
      "Building predictions: 100%|██████████| 2718/2718 [00:05<00:00, 471.56it/s]\n",
      "Generating predictions with corrected thresholds:  70%|███████   | 40/57 [1:07:55<34:08, 120.50s/it]"
     ]
    },
    {
     "name": "stdout",
     "output_type": "stream",
     "text": [
      "PlasmoDB-68_PovalecurtisiGH01/CC 0.1\n"
     ]
    },
    {
     "name": "stderr",
     "output_type": "stream",
     "text": [
      "Building predictions: 100%|██████████| 2718/2718 [00:05<00:00, 472.34it/s]\n",
      "Generating predictions with corrected thresholds:  70%|███████   | 40/57 [1:08:01<34:08, 120.50s/it]"
     ]
    },
    {
     "name": "stdout",
     "output_type": "stream",
     "text": [
      "PlasmoDB-68_PovalecurtisiGH01/CC 0.2\n"
     ]
    },
    {
     "name": "stderr",
     "output_type": "stream",
     "text": [
      "Building predictions: 100%|██████████| 2718/2718 [00:05<00:00, 468.42it/s]\n",
      "Generating predictions with corrected thresholds:  70%|███████   | 40/57 [1:08:07<34:08, 120.50s/it]"
     ]
    },
    {
     "name": "stdout",
     "output_type": "stream",
     "text": [
      "PlasmoDB-68_PovalecurtisiGH01/CC 0.3\n"
     ]
    },
    {
     "name": "stderr",
     "output_type": "stream",
     "text": [
      "Building predictions: 100%|██████████| 2718/2718 [00:06<00:00, 452.76it/s]\n",
      "Generating predictions with corrected thresholds:  72%|███████▏  | 41/57 [1:08:13<24:49, 93.09s/it] "
     ]
    },
    {
     "name": "stdout",
     "output_type": "stream",
     "text": [
      "PlasmoDB-68_PovalecurtisiGH01/MF 0.01\n"
     ]
    },
    {
     "name": "stderr",
     "output_type": "stream",
     "text": [
      "Building predictions: 100%|██████████| 2488/2488 [00:16<00:00, 154.76it/s]\n",
      "Generating predictions with corrected thresholds:  72%|███████▏  | 41/57 [1:08:29<24:49, 93.09s/it]"
     ]
    },
    {
     "name": "stdout",
     "output_type": "stream",
     "text": [
      "PlasmoDB-68_PovalecurtisiGH01/MF 0.05\n"
     ]
    },
    {
     "name": "stderr",
     "output_type": "stream",
     "text": [
      "Building predictions: 100%|██████████| 2488/2488 [00:15<00:00, 158.69it/s]\n",
      "Generating predictions with corrected thresholds:  72%|███████▏  | 41/57 [1:08:45<24:49, 93.09s/it]"
     ]
    },
    {
     "name": "stdout",
     "output_type": "stream",
     "text": [
      "PlasmoDB-68_PovalecurtisiGH01/MF 0.1\n"
     ]
    },
    {
     "name": "stderr",
     "output_type": "stream",
     "text": [
      "Building predictions: 100%|██████████| 2488/2488 [00:15<00:00, 165.27it/s]\n",
      "Generating predictions with corrected thresholds:  72%|███████▏  | 41/57 [1:09:00<24:49, 93.09s/it]"
     ]
    },
    {
     "name": "stdout",
     "output_type": "stream",
     "text": [
      "PlasmoDB-68_PovalecurtisiGH01/MF 0.2\n"
     ]
    },
    {
     "name": "stderr",
     "output_type": "stream",
     "text": [
      "Building predictions: 100%|██████████| 2488/2488 [00:15<00:00, 165.51it/s]\n",
      "Generating predictions with corrected thresholds:  72%|███████▏  | 41/57 [1:09:15<24:49, 93.09s/it]"
     ]
    },
    {
     "name": "stdout",
     "output_type": "stream",
     "text": [
      "PlasmoDB-68_PovalecurtisiGH01/MF 0.3\n"
     ]
    },
    {
     "name": "stderr",
     "output_type": "stream",
     "text": [
      "Building predictions: 100%|██████████| 2488/2488 [00:15<00:00, 165.63it/s]\n",
      "Generating predictions with corrected thresholds:  74%|███████▎  | 42/57 [1:09:30<22:03, 88.23s/it]"
     ]
    },
    {
     "name": "stdout",
     "output_type": "stream",
     "text": [
      "PlasmoDB-68_PovalewallikeriPowCR01/BP 0.01\n"
     ]
    },
    {
     "name": "stderr",
     "output_type": "stream",
     "text": [
      "Building predictions: 100%|██████████| 2976/2976 [00:38<00:00, 78.28it/s]\n",
      "Generating predictions with corrected thresholds:  74%|███████▎  | 42/57 [1:10:08<22:03, 88.23s/it]"
     ]
    },
    {
     "name": "stdout",
     "output_type": "stream",
     "text": [
      "PlasmoDB-68_PovalewallikeriPowCR01/BP 0.05\n"
     ]
    },
    {
     "name": "stderr",
     "output_type": "stream",
     "text": [
      "Building predictions: 100%|██████████| 2976/2976 [00:37<00:00, 78.79it/s]\n",
      "Generating predictions with corrected thresholds:  74%|███████▎  | 42/57 [1:10:46<22:03, 88.23s/it]"
     ]
    },
    {
     "name": "stdout",
     "output_type": "stream",
     "text": [
      "PlasmoDB-68_PovalewallikeriPowCR01/BP 0.1\n"
     ]
    },
    {
     "name": "stderr",
     "output_type": "stream",
     "text": [
      "Building predictions: 100%|██████████| 2976/2976 [00:37<00:00, 78.79it/s]\n",
      "Generating predictions with corrected thresholds:  74%|███████▎  | 42/57 [1:11:23<22:03, 88.23s/it]"
     ]
    },
    {
     "name": "stdout",
     "output_type": "stream",
     "text": [
      "PlasmoDB-68_PovalewallikeriPowCR01/BP 0.2\n"
     ]
    },
    {
     "name": "stderr",
     "output_type": "stream",
     "text": [
      "Building predictions: 100%|██████████| 2976/2976 [00:37<00:00, 78.53it/s]\n",
      "Generating predictions with corrected thresholds:  74%|███████▎  | 42/57 [1:12:01<22:03, 88.23s/it]"
     ]
    },
    {
     "name": "stdout",
     "output_type": "stream",
     "text": [
      "PlasmoDB-68_PovalewallikeriPowCR01/BP 0.3\n"
     ]
    },
    {
     "name": "stderr",
     "output_type": "stream",
     "text": [
      "Building predictions: 100%|██████████| 2976/2976 [00:37<00:00, 78.48it/s]\n",
      "Generating predictions with corrected thresholds:  75%|███████▌  | 43/57 [1:12:39<27:40, 118.59s/it]"
     ]
    },
    {
     "name": "stdout",
     "output_type": "stream",
     "text": [
      "PlasmoDB-68_PovalewallikeriPowCR01/CC 0.01\n"
     ]
    },
    {
     "name": "stderr",
     "output_type": "stream",
     "text": [
      "Building predictions: 100%|██████████| 2556/2556 [00:05<00:00, 507.58it/s]\n",
      "Generating predictions with corrected thresholds:  75%|███████▌  | 43/57 [1:12:44<27:40, 118.59s/it]"
     ]
    },
    {
     "name": "stdout",
     "output_type": "stream",
     "text": [
      "PlasmoDB-68_PovalewallikeriPowCR01/CC 0.05\n"
     ]
    },
    {
     "name": "stderr",
     "output_type": "stream",
     "text": [
      "Building predictions: 100%|██████████| 2556/2556 [00:05<00:00, 505.10it/s]\n",
      "Generating predictions with corrected thresholds:  75%|███████▌  | 43/57 [1:12:49<27:40, 118.59s/it]"
     ]
    },
    {
     "name": "stdout",
     "output_type": "stream",
     "text": [
      "PlasmoDB-68_PovalewallikeriPowCR01/CC 0.1\n"
     ]
    },
    {
     "name": "stderr",
     "output_type": "stream",
     "text": [
      "Building predictions: 100%|██████████| 2556/2556 [00:05<00:00, 496.59it/s]\n",
      "Generating predictions with corrected thresholds:  75%|███████▌  | 43/57 [1:12:54<27:40, 118.59s/it]"
     ]
    },
    {
     "name": "stdout",
     "output_type": "stream",
     "text": [
      "PlasmoDB-68_PovalewallikeriPowCR01/CC 0.2\n"
     ]
    },
    {
     "name": "stderr",
     "output_type": "stream",
     "text": [
      "Building predictions: 100%|██████████| 2556/2556 [00:05<00:00, 503.99it/s]\n",
      "Generating predictions with corrected thresholds:  75%|███████▌  | 43/57 [1:13:00<27:40, 118.59s/it]"
     ]
    },
    {
     "name": "stdout",
     "output_type": "stream",
     "text": [
      "PlasmoDB-68_PovalewallikeriPowCR01/CC 0.3\n"
     ]
    },
    {
     "name": "stderr",
     "output_type": "stream",
     "text": [
      "Building predictions: 100%|██████████| 2556/2556 [00:05<00:00, 505.83it/s]\n",
      "Generating predictions with corrected thresholds:  77%|███████▋  | 44/57 [1:13:06<19:38, 90.63s/it] "
     ]
    },
    {
     "name": "stdout",
     "output_type": "stream",
     "text": [
      "PlasmoDB-68_PovalewallikeriPowCR01/MF 0.01\n"
     ]
    },
    {
     "name": "stderr",
     "output_type": "stream",
     "text": [
      "Building predictions: 100%|██████████| 2584/2584 [00:15<00:00, 166.66it/s]\n",
      "Generating predictions with corrected thresholds:  77%|███████▋  | 44/57 [1:13:21<19:38, 90.63s/it]"
     ]
    },
    {
     "name": "stdout",
     "output_type": "stream",
     "text": [
      "PlasmoDB-68_PovalewallikeriPowCR01/MF 0.05\n"
     ]
    },
    {
     "name": "stderr",
     "output_type": "stream",
     "text": [
      "Building predictions: 100%|██████████| 2584/2584 [00:15<00:00, 161.60it/s]\n",
      "Generating predictions with corrected thresholds:  77%|███████▋  | 44/57 [1:13:37<19:38, 90.63s/it]"
     ]
    },
    {
     "name": "stdout",
     "output_type": "stream",
     "text": [
      "PlasmoDB-68_PovalewallikeriPowCR01/MF 0.1\n"
     ]
    },
    {
     "name": "stderr",
     "output_type": "stream",
     "text": [
      "Building predictions: 100%|██████████| 2584/2584 [00:15<00:00, 165.24it/s]\n",
      "Generating predictions with corrected thresholds:  77%|███████▋  | 44/57 [1:13:53<19:38, 90.63s/it]"
     ]
    },
    {
     "name": "stdout",
     "output_type": "stream",
     "text": [
      "PlasmoDB-68_PovalewallikeriPowCR01/MF 0.2\n"
     ]
    },
    {
     "name": "stderr",
     "output_type": "stream",
     "text": [
      "Building predictions: 100%|██████████| 2584/2584 [00:15<00:00, 162.54it/s]\n",
      "Generating predictions with corrected thresholds:  77%|███████▋  | 44/57 [1:14:09<19:38, 90.63s/it]"
     ]
    },
    {
     "name": "stdout",
     "output_type": "stream",
     "text": [
      "PlasmoDB-68_PovalewallikeriPowCR01/MF 0.3\n"
     ]
    },
    {
     "name": "stderr",
     "output_type": "stream",
     "text": [
      "Building predictions: 100%|██████████| 2584/2584 [00:16<00:00, 161.33it/s]\n",
      "Generating predictions with corrected thresholds:  79%|███████▉  | 45/57 [1:14:25<17:29, 87.48s/it]"
     ]
    },
    {
     "name": "stdout",
     "output_type": "stream",
     "text": [
      "PlasmoDB-68_PreichenowiCDC/BP 0.01\n"
     ]
    },
    {
     "name": "stderr",
     "output_type": "stream",
     "text": [
      "Building predictions: 100%|██████████| 2485/2485 [00:31<00:00, 78.53it/s]\n",
      "Generating predictions with corrected thresholds:  79%|███████▉  | 45/57 [1:14:56<17:29, 87.48s/it]"
     ]
    },
    {
     "name": "stdout",
     "output_type": "stream",
     "text": [
      "PlasmoDB-68_PreichenowiCDC/BP 0.05\n"
     ]
    },
    {
     "name": "stderr",
     "output_type": "stream",
     "text": [
      "Building predictions: 100%|██████████| 2485/2485 [00:31<00:00, 78.59it/s]\n",
      "Generating predictions with corrected thresholds:  79%|███████▉  | 45/57 [1:15:28<17:29, 87.48s/it]"
     ]
    },
    {
     "name": "stdout",
     "output_type": "stream",
     "text": [
      "PlasmoDB-68_PreichenowiCDC/BP 0.1\n"
     ]
    },
    {
     "name": "stderr",
     "output_type": "stream",
     "text": [
      "Building predictions: 100%|██████████| 2485/2485 [00:31<00:00, 78.55it/s]\n",
      "Generating predictions with corrected thresholds:  79%|███████▉  | 45/57 [1:16:00<17:29, 87.48s/it]"
     ]
    },
    {
     "name": "stdout",
     "output_type": "stream",
     "text": [
      "PlasmoDB-68_PreichenowiCDC/BP 0.2\n"
     ]
    },
    {
     "name": "stderr",
     "output_type": "stream",
     "text": [
      "Building predictions: 100%|██████████| 2485/2485 [00:31<00:00, 78.43it/s]\n",
      "Generating predictions with corrected thresholds:  79%|███████▉  | 45/57 [1:16:31<17:29, 87.48s/it]"
     ]
    },
    {
     "name": "stdout",
     "output_type": "stream",
     "text": [
      "PlasmoDB-68_PreichenowiCDC/BP 0.3\n"
     ]
    },
    {
     "name": "stderr",
     "output_type": "stream",
     "text": [
      "Building predictions: 100%|██████████| 2485/2485 [00:32<00:00, 75.38it/s]\n",
      "Generating predictions with corrected thresholds:  81%|████████  | 46/57 [1:17:04<20:00, 109.11s/it]"
     ]
    },
    {
     "name": "stdout",
     "output_type": "stream",
     "text": [
      "PlasmoDB-68_PreichenowiCDC/CC 0.01\n"
     ]
    },
    {
     "name": "stderr",
     "output_type": "stream",
     "text": [
      "Building predictions: 100%|██████████| 1772/1772 [00:03<00:00, 464.50it/s]\n",
      "Generating predictions with corrected thresholds:  81%|████████  | 46/57 [1:17:08<20:00, 109.11s/it]"
     ]
    },
    {
     "name": "stdout",
     "output_type": "stream",
     "text": [
      "PlasmoDB-68_PreichenowiCDC/CC 0.05\n"
     ]
    },
    {
     "name": "stderr",
     "output_type": "stream",
     "text": [
      "Building predictions: 100%|██████████| 1772/1772 [00:03<00:00, 473.00it/s]\n",
      "Generating predictions with corrected thresholds:  81%|████████  | 46/57 [1:17:12<20:00, 109.11s/it]"
     ]
    },
    {
     "name": "stdout",
     "output_type": "stream",
     "text": [
      "PlasmoDB-68_PreichenowiCDC/CC 0.1\n"
     ]
    },
    {
     "name": "stderr",
     "output_type": "stream",
     "text": [
      "Building predictions: 100%|██████████| 1772/1772 [00:03<00:00, 466.15it/s]\n",
      "Generating predictions with corrected thresholds:  81%|████████  | 46/57 [1:17:16<20:00, 109.11s/it]"
     ]
    },
    {
     "name": "stdout",
     "output_type": "stream",
     "text": [
      "PlasmoDB-68_PreichenowiCDC/CC 0.2\n"
     ]
    },
    {
     "name": "stderr",
     "output_type": "stream",
     "text": [
      "Building predictions: 100%|██████████| 1772/1772 [00:03<00:00, 465.44it/s]\n",
      "Generating predictions with corrected thresholds:  81%|████████  | 46/57 [1:17:19<20:00, 109.11s/it]"
     ]
    },
    {
     "name": "stdout",
     "output_type": "stream",
     "text": [
      "PlasmoDB-68_PreichenowiCDC/CC 0.3\n"
     ]
    },
    {
     "name": "stderr",
     "output_type": "stream",
     "text": [
      "Building predictions: 100%|██████████| 1772/1772 [00:04<00:00, 442.47it/s]\n",
      "Generating predictions with corrected thresholds:  82%|████████▏ | 47/57 [1:17:24<13:41, 82.14s/it] "
     ]
    },
    {
     "name": "stdout",
     "output_type": "stream",
     "text": [
      "PlasmoDB-68_PreichenowiCDC/MF 0.01\n"
     ]
    },
    {
     "name": "stderr",
     "output_type": "stream",
     "text": [
      "Building predictions: 100%|██████████| 2121/2121 [00:14<00:00, 149.66it/s]\n",
      "Generating predictions with corrected thresholds:  82%|████████▏ | 47/57 [1:17:38<13:41, 82.14s/it]"
     ]
    },
    {
     "name": "stdout",
     "output_type": "stream",
     "text": [
      "PlasmoDB-68_PreichenowiCDC/MF 0.05\n"
     ]
    },
    {
     "name": "stderr",
     "output_type": "stream",
     "text": [
      "Building predictions: 100%|██████████| 2121/2121 [00:13<00:00, 154.15it/s]\n",
      "Generating predictions with corrected thresholds:  82%|████████▏ | 47/57 [1:17:51<13:41, 82.14s/it]"
     ]
    },
    {
     "name": "stdout",
     "output_type": "stream",
     "text": [
      "PlasmoDB-68_PreichenowiCDC/MF 0.1\n"
     ]
    },
    {
     "name": "stderr",
     "output_type": "stream",
     "text": [
      "Building predictions: 100%|██████████| 2121/2121 [00:14<00:00, 150.07it/s]\n",
      "Generating predictions with corrected thresholds:  82%|████████▏ | 47/57 [1:18:06<13:41, 82.14s/it]"
     ]
    },
    {
     "name": "stdout",
     "output_type": "stream",
     "text": [
      "PlasmoDB-68_PreichenowiCDC/MF 0.2\n"
     ]
    },
    {
     "name": "stderr",
     "output_type": "stream",
     "text": [
      "Building predictions: 100%|██████████| 2121/2121 [00:13<00:00, 152.92it/s]\n",
      "Generating predictions with corrected thresholds:  82%|████████▏ | 47/57 [1:18:19<13:41, 82.14s/it]"
     ]
    },
    {
     "name": "stdout",
     "output_type": "stream",
     "text": [
      "PlasmoDB-68_PreichenowiCDC/MF 0.3\n"
     ]
    },
    {
     "name": "stderr",
     "output_type": "stream",
     "text": [
      "Building predictions: 100%|██████████| 2121/2121 [00:14<00:00, 150.63it/s]\n",
      "Generating predictions with corrected thresholds:  84%|████████▍ | 48/57 [1:18:34<11:46, 78.51s/it]"
     ]
    },
    {
     "name": "stdout",
     "output_type": "stream",
     "text": [
      "PlasmoDB-68_PvinckeibrucechwattiDA/BP 0.01\n"
     ]
    },
    {
     "name": "stderr",
     "output_type": "stream",
     "text": [
      "Building predictions: 100%|██████████| 2680/2680 [00:36<00:00, 72.48it/s]\n",
      "Generating predictions with corrected thresholds:  84%|████████▍ | 48/57 [1:19:11<11:46, 78.51s/it]"
     ]
    },
    {
     "name": "stdout",
     "output_type": "stream",
     "text": [
      "PlasmoDB-68_PvinckeibrucechwattiDA/BP 0.05\n"
     ]
    },
    {
     "name": "stderr",
     "output_type": "stream",
     "text": [
      "Building predictions: 100%|██████████| 2680/2680 [00:36<00:00, 72.46it/s]\n",
      "Generating predictions with corrected thresholds:  84%|████████▍ | 48/57 [1:19:48<11:46, 78.51s/it]"
     ]
    },
    {
     "name": "stdout",
     "output_type": "stream",
     "text": [
      "PlasmoDB-68_PvinckeibrucechwattiDA/BP 0.1\n"
     ]
    },
    {
     "name": "stderr",
     "output_type": "stream",
     "text": [
      "Building predictions: 100%|██████████| 2680/2680 [00:36<00:00, 72.59it/s]\n",
      "Generating predictions with corrected thresholds:  84%|████████▍ | 48/57 [1:20:24<11:46, 78.51s/it]"
     ]
    },
    {
     "name": "stdout",
     "output_type": "stream",
     "text": [
      "PlasmoDB-68_PvinckeibrucechwattiDA/BP 0.2\n"
     ]
    },
    {
     "name": "stderr",
     "output_type": "stream",
     "text": [
      "Building predictions: 100%|██████████| 2680/2680 [00:37<00:00, 72.36it/s]\n",
      "Generating predictions with corrected thresholds:  84%|████████▍ | 48/57 [1:21:02<11:46, 78.51s/it]"
     ]
    },
    {
     "name": "stdout",
     "output_type": "stream",
     "text": [
      "PlasmoDB-68_PvinckeibrucechwattiDA/BP 0.3\n"
     ]
    },
    {
     "name": "stderr",
     "output_type": "stream",
     "text": [
      "Building predictions: 100%|██████████| 2680/2680 [00:36<00:00, 72.67it/s]\n",
      "Generating predictions with corrected thresholds:  86%|████████▌ | 49/57 [1:21:38<14:43, 110.41s/it]"
     ]
    },
    {
     "name": "stdout",
     "output_type": "stream",
     "text": [
      "PlasmoDB-68_PvinckeibrucechwattiDA/CC 0.01\n"
     ]
    },
    {
     "name": "stderr",
     "output_type": "stream",
     "text": [
      "Building predictions: 100%|██████████| 2526/2526 [00:05<00:00, 454.40it/s]\n",
      "Generating predictions with corrected thresholds:  86%|████████▌ | 49/57 [1:21:44<14:43, 110.41s/it]"
     ]
    },
    {
     "name": "stdout",
     "output_type": "stream",
     "text": [
      "PlasmoDB-68_PvinckeibrucechwattiDA/CC 0.05\n"
     ]
    },
    {
     "name": "stderr",
     "output_type": "stream",
     "text": [
      "Building predictions: 100%|██████████| 2526/2526 [00:05<00:00, 471.14it/s]\n",
      "Generating predictions with corrected thresholds:  86%|████████▌ | 49/57 [1:21:49<14:43, 110.41s/it]"
     ]
    },
    {
     "name": "stdout",
     "output_type": "stream",
     "text": [
      "PlasmoDB-68_PvinckeibrucechwattiDA/CC 0.1\n"
     ]
    },
    {
     "name": "stderr",
     "output_type": "stream",
     "text": [
      "Building predictions: 100%|██████████| 2526/2526 [00:05<00:00, 449.35it/s]\n",
      "Generating predictions with corrected thresholds:  86%|████████▌ | 49/57 [1:21:55<14:43, 110.41s/it]"
     ]
    },
    {
     "name": "stdout",
     "output_type": "stream",
     "text": [
      "PlasmoDB-68_PvinckeibrucechwattiDA/CC 0.2\n"
     ]
    },
    {
     "name": "stderr",
     "output_type": "stream",
     "text": [
      "Building predictions: 100%|██████████| 2526/2526 [00:05<00:00, 470.66it/s]\n",
      "Generating predictions with corrected thresholds:  86%|████████▌ | 49/57 [1:22:00<14:43, 110.41s/it]"
     ]
    },
    {
     "name": "stdout",
     "output_type": "stream",
     "text": [
      "PlasmoDB-68_PvinckeibrucechwattiDA/CC 0.3\n"
     ]
    },
    {
     "name": "stderr",
     "output_type": "stream",
     "text": [
      "Building predictions: 100%|██████████| 2526/2526 [00:05<00:00, 484.81it/s]\n",
      "Generating predictions with corrected thresholds:  88%|████████▊ | 50/57 [1:22:06<09:58, 85.44s/it] "
     ]
    },
    {
     "name": "stdout",
     "output_type": "stream",
     "text": [
      "PlasmoDB-68_PvinckeibrucechwattiDA/MF 0.01\n"
     ]
    },
    {
     "name": "stderr",
     "output_type": "stream",
     "text": [
      "Building predictions: 100%|██████████| 2259/2259 [00:14<00:00, 157.42it/s]\n",
      "Generating predictions with corrected thresholds:  88%|████████▊ | 50/57 [1:22:20<09:58, 85.44s/it]"
     ]
    },
    {
     "name": "stdout",
     "output_type": "stream",
     "text": [
      "PlasmoDB-68_PvinckeibrucechwattiDA/MF 0.05\n"
     ]
    },
    {
     "name": "stderr",
     "output_type": "stream",
     "text": [
      "Building predictions: 100%|██████████| 2259/2259 [00:14<00:00, 158.70it/s]\n",
      "Generating predictions with corrected thresholds:  88%|████████▊ | 50/57 [1:22:34<09:58, 85.44s/it]"
     ]
    },
    {
     "name": "stdout",
     "output_type": "stream",
     "text": [
      "PlasmoDB-68_PvinckeibrucechwattiDA/MF 0.1\n"
     ]
    },
    {
     "name": "stderr",
     "output_type": "stream",
     "text": [
      "Building predictions: 100%|██████████| 2259/2259 [00:14<00:00, 158.23it/s]\n",
      "Generating predictions with corrected thresholds:  88%|████████▊ | 50/57 [1:22:48<09:58, 85.44s/it]"
     ]
    },
    {
     "name": "stdout",
     "output_type": "stream",
     "text": [
      "PlasmoDB-68_PvinckeibrucechwattiDA/MF 0.2\n"
     ]
    },
    {
     "name": "stderr",
     "output_type": "stream",
     "text": [
      "Building predictions: 100%|██████████| 2259/2259 [00:14<00:00, 155.57it/s]\n",
      "Generating predictions with corrected thresholds:  88%|████████▊ | 50/57 [1:23:03<09:58, 85.44s/it]"
     ]
    },
    {
     "name": "stdout",
     "output_type": "stream",
     "text": [
      "PlasmoDB-68_PvinckeibrucechwattiDA/MF 0.3\n"
     ]
    },
    {
     "name": "stderr",
     "output_type": "stream",
     "text": [
      "Building predictions: 100%|██████████| 2259/2259 [00:14<00:00, 159.29it/s]\n",
      "Generating predictions with corrected thresholds:  89%|████████▉ | 51/57 [1:23:17<08:07, 81.28s/it]"
     ]
    },
    {
     "name": "stdout",
     "output_type": "stream",
     "text": [
      "PlasmoDB-68_PvivaxSal1/BP 0.01\n"
     ]
    },
    {
     "name": "stderr",
     "output_type": "stream",
     "text": [
      "Building predictions: 100%|██████████| 2606/2606 [00:34<00:00, 74.90it/s]\n",
      "Generating predictions with corrected thresholds:  89%|████████▉ | 51/57 [1:23:52<08:07, 81.28s/it]"
     ]
    },
    {
     "name": "stdout",
     "output_type": "stream",
     "text": [
      "PlasmoDB-68_PvivaxSal1/BP 0.05\n"
     ]
    },
    {
     "name": "stderr",
     "output_type": "stream",
     "text": [
      "Building predictions: 100%|██████████| 2606/2606 [00:34<00:00, 75.43it/s]\n",
      "Generating predictions with corrected thresholds:  89%|████████▉ | 51/57 [1:24:27<08:07, 81.28s/it]"
     ]
    },
    {
     "name": "stdout",
     "output_type": "stream",
     "text": [
      "PlasmoDB-68_PvivaxSal1/BP 0.1\n"
     ]
    },
    {
     "name": "stderr",
     "output_type": "stream",
     "text": [
      "Building predictions: 100%|██████████| 2606/2606 [00:34<00:00, 75.17it/s]\n",
      "Generating predictions with corrected thresholds:  89%|████████▉ | 51/57 [1:25:01<08:07, 81.28s/it]"
     ]
    },
    {
     "name": "stdout",
     "output_type": "stream",
     "text": [
      "PlasmoDB-68_PvivaxSal1/BP 0.2\n"
     ]
    },
    {
     "name": "stderr",
     "output_type": "stream",
     "text": [
      "Building predictions: 100%|██████████| 2606/2606 [00:34<00:00, 75.79it/s]\n",
      "Generating predictions with corrected thresholds:  89%|████████▉ | 51/57 [1:25:36<08:07, 81.28s/it]"
     ]
    },
    {
     "name": "stdout",
     "output_type": "stream",
     "text": [
      "PlasmoDB-68_PvivaxSal1/BP 0.3\n"
     ]
    },
    {
     "name": "stderr",
     "output_type": "stream",
     "text": [
      "Building predictions: 100%|██████████| 2606/2606 [00:34<00:00, 74.65it/s]\n",
      "Generating predictions with corrected thresholds:  91%|█████████ | 52/57 [1:26:11<09:04, 108.90s/it]"
     ]
    },
    {
     "name": "stdout",
     "output_type": "stream",
     "text": [
      "PlasmoDB-68_PvivaxSal1/CC 0.01\n"
     ]
    },
    {
     "name": "stderr",
     "output_type": "stream",
     "text": [
      "Building predictions: 100%|██████████| 2263/2263 [00:04<00:00, 487.58it/s]\n",
      "Generating predictions with corrected thresholds:  91%|█████████ | 52/57 [1:26:15<09:04, 108.90s/it]"
     ]
    },
    {
     "name": "stdout",
     "output_type": "stream",
     "text": [
      "PlasmoDB-68_PvivaxSal1/CC 0.05\n"
     ]
    },
    {
     "name": "stderr",
     "output_type": "stream",
     "text": [
      "Building predictions: 100%|██████████| 2263/2263 [00:04<00:00, 490.25it/s]\n",
      "Generating predictions with corrected thresholds:  91%|█████████ | 52/57 [1:26:20<09:04, 108.90s/it]"
     ]
    },
    {
     "name": "stdout",
     "output_type": "stream",
     "text": [
      "PlasmoDB-68_PvivaxSal1/CC 0.1\n"
     ]
    },
    {
     "name": "stderr",
     "output_type": "stream",
     "text": [
      "Building predictions: 100%|██████████| 2263/2263 [00:04<00:00, 486.64it/s]\n",
      "Generating predictions with corrected thresholds:  91%|█████████ | 52/57 [1:26:24<09:04, 108.90s/it]"
     ]
    },
    {
     "name": "stdout",
     "output_type": "stream",
     "text": [
      "PlasmoDB-68_PvivaxSal1/CC 0.2\n"
     ]
    },
    {
     "name": "stderr",
     "output_type": "stream",
     "text": [
      "Building predictions: 100%|██████████| 2263/2263 [00:04<00:00, 487.03it/s]\n",
      "Generating predictions with corrected thresholds:  91%|█████████ | 52/57 [1:26:29<09:04, 108.90s/it]"
     ]
    },
    {
     "name": "stdout",
     "output_type": "stream",
     "text": [
      "PlasmoDB-68_PvivaxSal1/CC 0.3\n"
     ]
    },
    {
     "name": "stderr",
     "output_type": "stream",
     "text": [
      "Building predictions: 100%|██████████| 2263/2263 [00:04<00:00, 485.87it/s]\n",
      "Generating predictions with corrected thresholds:  93%|█████████▎| 53/57 [1:26:34<05:32, 83.20s/it] "
     ]
    },
    {
     "name": "stdout",
     "output_type": "stream",
     "text": [
      "PlasmoDB-68_PvivaxSal1/MF 0.01\n"
     ]
    },
    {
     "name": "stderr",
     "output_type": "stream",
     "text": [
      "Building predictions: 100%|██████████| 2341/2341 [00:14<00:00, 159.10it/s]\n",
      "Generating predictions with corrected thresholds:  93%|█████████▎| 53/57 [1:26:48<05:32, 83.20s/it]"
     ]
    },
    {
     "name": "stdout",
     "output_type": "stream",
     "text": [
      "PlasmoDB-68_PvivaxSal1/MF 0.05\n"
     ]
    },
    {
     "name": "stderr",
     "output_type": "stream",
     "text": [
      "Building predictions: 100%|██████████| 2341/2341 [00:15<00:00, 156.00it/s]\n",
      "Generating predictions with corrected thresholds:  93%|█████████▎| 53/57 [1:27:03<05:32, 83.20s/it]"
     ]
    },
    {
     "name": "stdout",
     "output_type": "stream",
     "text": [
      "PlasmoDB-68_PvivaxSal1/MF 0.1\n"
     ]
    },
    {
     "name": "stderr",
     "output_type": "stream",
     "text": [
      "Building predictions: 100%|██████████| 2341/2341 [00:14<00:00, 158.48it/s]\n",
      "Generating predictions with corrected thresholds:  93%|█████████▎| 53/57 [1:27:18<05:32, 83.20s/it]"
     ]
    },
    {
     "name": "stdout",
     "output_type": "stream",
     "text": [
      "PlasmoDB-68_PvivaxSal1/MF 0.2\n"
     ]
    },
    {
     "name": "stderr",
     "output_type": "stream",
     "text": [
      "Building predictions: 100%|██████████| 2341/2341 [00:14<00:00, 158.77it/s]\n",
      "Generating predictions with corrected thresholds:  93%|█████████▎| 53/57 [1:27:33<05:32, 83.20s/it]"
     ]
    },
    {
     "name": "stdout",
     "output_type": "stream",
     "text": [
      "PlasmoDB-68_PvivaxSal1/MF 0.3\n"
     ]
    },
    {
     "name": "stderr",
     "output_type": "stream",
     "text": [
      "Building predictions: 100%|██████████| 2341/2341 [00:14<00:00, 164.20it/s]\n",
      "Generating predictions with corrected thresholds:  95%|█████████▍| 54/57 [1:27:47<04:00, 80.30s/it]"
     ]
    },
    {
     "name": "stdout",
     "output_type": "stream",
     "text": [
      "PlasmoDB-68_Pyoeliiyoelii17XNL2023/BP 0.01\n"
     ]
    },
    {
     "name": "stderr",
     "output_type": "stream",
     "text": [
      "Building predictions: 100%|██████████| 2564/2564 [00:32<00:00, 78.63it/s]\n",
      "Generating predictions with corrected thresholds:  95%|█████████▍| 54/57 [1:28:20<04:00, 80.30s/it]"
     ]
    },
    {
     "name": "stdout",
     "output_type": "stream",
     "text": [
      "PlasmoDB-68_Pyoeliiyoelii17XNL2023/BP 0.05\n"
     ]
    },
    {
     "name": "stderr",
     "output_type": "stream",
     "text": [
      "Building predictions: 100%|██████████| 2564/2564 [00:32<00:00, 78.91it/s]\n",
      "Generating predictions with corrected thresholds:  95%|█████████▍| 54/57 [1:28:52<04:00, 80.30s/it]"
     ]
    },
    {
     "name": "stdout",
     "output_type": "stream",
     "text": [
      "PlasmoDB-68_Pyoeliiyoelii17XNL2023/BP 0.1\n"
     ]
    },
    {
     "name": "stderr",
     "output_type": "stream",
     "text": [
      "Building predictions: 100%|██████████| 2564/2564 [00:33<00:00, 76.56it/s]\n",
      "Generating predictions with corrected thresholds:  95%|█████████▍| 54/57 [1:29:26<04:00, 80.30s/it]"
     ]
    },
    {
     "name": "stdout",
     "output_type": "stream",
     "text": [
      "PlasmoDB-68_Pyoeliiyoelii17XNL2023/BP 0.2\n"
     ]
    },
    {
     "name": "stderr",
     "output_type": "stream",
     "text": [
      "Building predictions: 100%|██████████| 2564/2564 [00:32<00:00, 78.46it/s]\n",
      "Generating predictions with corrected thresholds:  95%|█████████▍| 54/57 [1:29:59<04:00, 80.30s/it]"
     ]
    },
    {
     "name": "stdout",
     "output_type": "stream",
     "text": [
      "PlasmoDB-68_Pyoeliiyoelii17XNL2023/BP 0.3\n"
     ]
    },
    {
     "name": "stderr",
     "output_type": "stream",
     "text": [
      "Building predictions: 100%|██████████| 2564/2564 [00:32<00:00, 78.41it/s]\n",
      "Generating predictions with corrected thresholds:  96%|█████████▋| 55/57 [1:30:31<03:30, 105.41s/it]"
     ]
    },
    {
     "name": "stdout",
     "output_type": "stream",
     "text": [
      "PlasmoDB-68_Pyoeliiyoelii17XNL2023/CC 0.01\n"
     ]
    },
    {
     "name": "stderr",
     "output_type": "stream",
     "text": [
      "Building predictions: 100%|██████████| 2961/2961 [00:05<00:00, 506.19it/s]\n",
      "Generating predictions with corrected thresholds:  96%|█████████▋| 55/57 [1:30:37<03:30, 105.41s/it]"
     ]
    },
    {
     "name": "stdout",
     "output_type": "stream",
     "text": [
      "PlasmoDB-68_Pyoeliiyoelii17XNL2023/CC 0.05\n"
     ]
    },
    {
     "name": "stderr",
     "output_type": "stream",
     "text": [
      "Building predictions: 100%|██████████| 2961/2961 [00:05<00:00, 506.72it/s]\n",
      "Generating predictions with corrected thresholds:  96%|█████████▋| 55/57 [1:30:43<03:30, 105.41s/it]"
     ]
    },
    {
     "name": "stdout",
     "output_type": "stream",
     "text": [
      "PlasmoDB-68_Pyoeliiyoelii17XNL2023/CC 0.1\n"
     ]
    },
    {
     "name": "stderr",
     "output_type": "stream",
     "text": [
      "Building predictions: 100%|██████████| 2961/2961 [00:05<00:00, 505.65it/s]\n",
      "Generating predictions with corrected thresholds:  96%|█████████▋| 55/57 [1:30:49<03:30, 105.41s/it]"
     ]
    },
    {
     "name": "stdout",
     "output_type": "stream",
     "text": [
      "PlasmoDB-68_Pyoeliiyoelii17XNL2023/CC 0.2\n"
     ]
    },
    {
     "name": "stderr",
     "output_type": "stream",
     "text": [
      "Building predictions: 100%|██████████| 2961/2961 [00:05<00:00, 506.45it/s]\n",
      "Generating predictions with corrected thresholds:  96%|█████████▋| 55/57 [1:30:55<03:30, 105.41s/it]"
     ]
    },
    {
     "name": "stdout",
     "output_type": "stream",
     "text": [
      "PlasmoDB-68_Pyoeliiyoelii17XNL2023/CC 0.3\n"
     ]
    },
    {
     "name": "stderr",
     "output_type": "stream",
     "text": [
      "Building predictions: 100%|██████████| 2961/2961 [00:05<00:00, 505.21it/s]\n",
      "Generating predictions with corrected thresholds:  98%|█████████▊| 56/57 [1:31:01<01:22, 82.58s/it] "
     ]
    },
    {
     "name": "stdout",
     "output_type": "stream",
     "text": [
      "PlasmoDB-68_Pyoeliiyoelii17XNL2023/MF 0.01\n"
     ]
    },
    {
     "name": "stderr",
     "output_type": "stream",
     "text": [
      "Building predictions: 100%|██████████| 2169/2169 [00:13<00:00, 166.31it/s]\n",
      "Generating predictions with corrected thresholds:  98%|█████████▊| 56/57 [1:31:14<01:22, 82.58s/it]"
     ]
    },
    {
     "name": "stdout",
     "output_type": "stream",
     "text": [
      "PlasmoDB-68_Pyoeliiyoelii17XNL2023/MF 0.05\n"
     ]
    },
    {
     "name": "stderr",
     "output_type": "stream",
     "text": [
      "Building predictions: 100%|██████████| 2169/2169 [00:13<00:00, 166.08it/s]\n",
      "Generating predictions with corrected thresholds:  98%|█████████▊| 56/57 [1:31:27<01:22, 82.58s/it]"
     ]
    },
    {
     "name": "stdout",
     "output_type": "stream",
     "text": [
      "PlasmoDB-68_Pyoeliiyoelii17XNL2023/MF 0.1\n"
     ]
    },
    {
     "name": "stderr",
     "output_type": "stream",
     "text": [
      "Building predictions: 100%|██████████| 2169/2169 [00:13<00:00, 166.26it/s]\n",
      "Generating predictions with corrected thresholds:  98%|█████████▊| 56/57 [1:31:40<01:22, 82.58s/it]"
     ]
    },
    {
     "name": "stdout",
     "output_type": "stream",
     "text": [
      "PlasmoDB-68_Pyoeliiyoelii17XNL2023/MF 0.2\n"
     ]
    },
    {
     "name": "stderr",
     "output_type": "stream",
     "text": [
      "Building predictions: 100%|██████████| 2169/2169 [00:13<00:00, 166.71it/s]\n",
      "Generating predictions with corrected thresholds:  98%|█████████▊| 56/57 [1:31:53<01:22, 82.58s/it]"
     ]
    },
    {
     "name": "stdout",
     "output_type": "stream",
     "text": [
      "PlasmoDB-68_Pyoeliiyoelii17XNL2023/MF 0.3\n"
     ]
    },
    {
     "name": "stderr",
     "output_type": "stream",
     "text": [
      "Building predictions: 100%|██████████| 2169/2169 [00:13<00:00, 166.06it/s]\n",
      "                                                                                                   \r"
     ]
    }
   ],
   "source": [
    "eff_thresh = {\n",
    "    \"Function\": json.load(open(\"effective_thresholds_ensemble20_function.json\")),\n",
    "    \"Process\": json.load(open(\"effective_thresholds_ensemble20_process.json\")),\n",
    "    \"Component\": json.load(open(\"effective_thresholds_ensemble20_component.json\")),\n",
    "}\n",
    "\n",
    "for aspect, term_dict in eff_thresh.items():\n",
    "    for term, fdr_map in term_dict.items():\n",
    "        new_map = {}\n",
    "        for fdr_str, thr in fdr_map.items():\n",
    "            if thr is not None:\n",
    "                new_map[round(float(fdr_str), 2)] = thr\n",
    "        eff_thresh[aspect][term] = new_map\n",
    "\n",
    "mlb_by_asp = {\n",
    "    \"MF\": pickle.load(open(\"function_mlb.pkl\", \"rb\")),\n",
    "    \"BP\": pickle.load(open(\"process_mlb.pkl\", \"rb\")),\n",
    "    \"CC\": pickle.load(open(\"component_mlb.pkl\", \"rb\"))\n",
    "}\n",
    "\n",
    "median_files = sorted(output_dir.glob(\"*_median_20fold.npy\"))\n",
    "all_predictions = {}\n",
    "\n",
    "for med_fp in tqdm(median_files, desc=\"Generating predictions with corrected thresholds\", leave=False):\n",
    "    parts = med_fp.stem.split(\"_\")\n",
    "    asp = parts[-3]  # Extract aspect (MF/BP/CC)\n",
    "    species = \"_\".join(parts[:-3])  # Extract species name\n",
    "    \n",
    "    median_probs = np.load(med_fp)\n",
    "    mad_fp = med_fp.with_name(med_fp.name.replace(\"_median_\", \"_mad_\"))\n",
    "    MAD_probs = np.load(mad_fp)\n",
    "    \n",
    "    gene_dict_fp = missing_dir / f\"{species}_missing_{asp}_gene_dict.pkl\"\n",
    "    gene_dict = pickle.load(open(gene_dict_fp, \"rb\"))\n",
    "    test_entries = list(gene_dict.keys())\n",
    "    \n",
    "    aspect_name = {\"MF\": \"Function\", \"BP\": \"Process\", \"CC\": \"Component\"}[asp]\n",
    "    thresholds = eff_thresh[aspect_name]\n",
    "    mlb = mlb_by_asp[asp]\n",
    "    \n",
    "    preds_for_aspect = {}\n",
    "    target_fdrs = [0.01, 0.05, 0.10, 0.20, 0.30]\n",
    "    \n",
    "    for target_fdr in target_fdrs:\n",
    "        tqdm.write(f\"{species}/{asp} {target_fdr}\")\n",
    "        pred_dict = build_pred_annots_dict(\n",
    "            median_probs, MAD_probs, thresholds,\n",
    "            test_entries=test_entries,\n",
    "            terms=list(mlb.classes_),\n",
    "            lambda_val=1,\n",
    "            target_fdr=target_fdr\n",
    "        )\n",
    "        preds_for_aspect[round(target_fdr, 3)] = pred_dict\n",
    "    \n",
    "    all_predictions.setdefault(species, {})[asp] = preds_for_aspect\n",
    "\n",
    "out_path = missing_dir / \"all_PUF_predictions.pkl\"\n",
    "with open(out_path, \"wb\") as f:\n",
    "    pickle.dump(all_predictions, f)"
   ]
  },
  {
   "cell_type": "markdown",
   "id": "474c7aac",
   "metadata": {},
   "source": [
    "Select deepest terms after prediction"
   ]
  },
  {
   "cell_type": "code",
   "execution_count": null,
   "id": "f4cfe70f",
   "metadata": {},
   "outputs": [],
   "source": [
    "with open(\"raw_data_from_uniprot/function_ALL_data_ancestors_dict.json\") as f:\n",
    "    function_ancestors_dict = json.load(f)\n",
    "with open(\"raw_data_from_uniprot/function_ALL_data_json_dict.json\") as f:\n",
    "    function_json_dict = json.load(f)\n",
    "with open(\"raw_data_from_uniprot/process_ALL_data_ancestors_dict.json\") as f:\n",
    "    process_ancestors_dict = json.load(f)\n",
    "with open(\"raw_data_from_uniprot/process_ALL_data_json_dict.json\") as f:\n",
    "    process_json_dict = json.load(f)\n",
    "with open(\"raw_data_from_uniprot/component_ALL_data_ancestors_dict.json\") as f:\n",
    "    component_ancestors_dict = json.load(f)\n",
    "with open(\"raw_data_from_uniprot/component_ALL_data_json_dict.json\") as f:\n",
    "    component_json_dict = json.load(f)"
   ]
  },
  {
   "cell_type": "code",
   "execution_count": 49,
   "id": "422c54e0",
   "metadata": {},
   "outputs": [],
   "source": [
    "def select_deepest_terms(pred_dict, ancestors_dict, filtered_json_dict, mlb):\n",
    "    \"\"\"\n",
    "    For each protein in pred_dict (mapping protein to {GO term: effective score}),\n",
    "    select only the deepest GO terms that have all their ancestors present.\n",
    "    \n",
    "    Returns:\n",
    "      dict: Mapping from protein entry -> dict of {GO term: effective score} for the deepest predictions.\n",
    "    \"\"\"\n",
    "    deepest_predictions = {}\n",
    "    \n",
    "    for entry, go_dict in pred_dict.items():\n",
    "        # Start with the set of predicted terms that are also in the MLb classes.\n",
    "        predicted_terms = {term: score for term, score in go_dict.items() if term in mlb.classes_}\n",
    "        \n",
    "        # Step 1: Ensure ancestor consistency: only keep terms where, if defined,\n",
    "        # all their ancestors are also predicted.\n",
    "        valid_terms = {}\n",
    "        for term, score in predicted_terms.items():\n",
    "            if term in ancestors_dict:\n",
    "                if set(ancestors_dict[term]).issubset(predicted_terms.keys()):\n",
    "                    valid_terms[term] = score\n",
    "            else:\n",
    "                valid_terms[term] = score\n",
    "        \n",
    "        # Step 2: Select the deepest terms.\n",
    "        # Remove any term that has a child in the valid set.\n",
    "        deepest_terms = dict(valid_terms)  \n",
    "        for term in valid_terms:\n",
    "            if term in filtered_json_dict:\n",
    "                children = set(filtered_json_dict[term])\n",
    "                # If any child of term is also in valid_terms, remove the parent term.\n",
    "                if children & valid_terms.keys():\n",
    "                    deepest_terms.pop(term, None)\n",
    "        \n",
    "        deepest_predictions[entry] = deepest_terms  # mapping term -> effective score\n",
    "    \n",
    "    return deepest_predictions\n",
    "\n",
    "def annotate_go_terms(predictions_dict, json_dict):\n",
    "    \"\"\"\n",
    "    Convert a predictions dictionary mapping each protein to a mapping of\n",
    "    GO term to effective score into a dictionary mapping each protein to a set\n",
    "    of (GO term, effective score, GO term name) tuples.\n",
    "    \"\"\"\n",
    "    annotated_dict = {}\n",
    "    for protein, term_dict in predictions_dict.items():\n",
    "        annotated_dict[protein] = {\n",
    "            (term, score, json_dict.get(term, {}).get('name', term))\n",
    "            for term, score in term_dict.items()\n",
    "        }\n",
    "    return annotated_dict"
   ]
  },
  {
   "cell_type": "code",
   "execution_count": 50,
   "id": "8230ebb1",
   "metadata": {},
   "outputs": [],
   "source": [
    "anc_dicts = {\n",
    "    \"MF\": function_ancestors_dict,\n",
    "    \"BP\": process_ancestors_dict,\n",
    "    \"CC\": component_ancestors_dict,\n",
    "}\n",
    "\n",
    "json_dicts = {\n",
    "    \"MF\": function_json_dict,\n",
    "    \"BP\": process_json_dict,\n",
    "    \"CC\": component_json_dict,\n",
    "}\n",
    "\n",
    "filtered_json_dict = {}\n",
    "ancestors_dict_filtered = {}\n",
    "\n",
    "for asp in [\"MF\", \"BP\", \"CC\"]:\n",
    "    mlb   = mlb_by_asp[asp]\n",
    "    anc   = anc_dicts[asp]\n",
    "    js    = json_dicts[asp]\n",
    "\n",
    "    # 1) Filter JSON children to only those in mlb.classes_\n",
    "    fj = {}\n",
    "    for term, info in js.items():\n",
    "        children = info.get(\"children\", [])\n",
    "        fj[term] = [c[\"id\"] for c in children if c[\"id\"] in mlb.classes_]\n",
    "    filtered_json_dict[asp] = fj\n",
    "\n",
    "    # 2) Filter ancestor lists to only include mlb.classes_\n",
    "    fa = {}\n",
    "    for term, parents in anc.items():\n",
    "        if parents:\n",
    "            valid = [p for p in parents if p in mlb.classes_]\n",
    "            if valid:\n",
    "                fa[term] = valid\n",
    "    ancestors_dict_filtered[asp] = fa"
   ]
  },
  {
   "cell_type": "code",
   "execution_count": 51,
   "id": "3742346d",
   "metadata": {},
   "outputs": [
    {
     "name": "stderr",
     "output_type": "stream",
     "text": [
      "                                                                                    \r"
     ]
    }
   ],
   "source": [
    "target_fdrs = [0.01, 0.05, 0.10, 0.20, 0.30]\n",
    "\n",
    "deepest_annotations = {}\n",
    "\n",
    "for species, asp_dict in all_predictions.items():\n",
    "    deepest_annotations[species] = {}\n",
    "    for asp, preds_for_aspect in asp_dict.items():\n",
    "        anc_dict = ancestors_dict_filtered[asp]\n",
    "        js_dict  = json_dicts[asp]\n",
    "        child_map = filtered_json_dict[asp]\n",
    "\n",
    "        deepest_annotations[species][asp] = {}\n",
    "\n",
    "        for fdr in tqdm(target_fdrs, desc=f\"{species}/{asp}\", leave=False):\n",
    "            if fdr not in preds_for_aspect:\n",
    "                continue  # skip if this FDR wasn't generated\n",
    "\n",
    "            pred_dict = preds_for_aspect[fdr]\n",
    "\n",
    "            # select only the deepest terms\n",
    "            deepest = select_deepest_terms(\n",
    "                pred_dict,\n",
    "                anc_dict,\n",
    "                child_map,\n",
    "                mlb_by_asp[asp]\n",
    "            )\n",
    "            # annotate them\n",
    "            annots = annotate_go_terms(deepest, js_dict)\n",
    "            deepest_annotations[species][asp][fdr] = annots"
   ]
  },
  {
   "cell_type": "markdown",
   "id": "d8856604",
   "metadata": {},
   "source": [
    "Get the depths for the deepest terms "
   ]
  },
  {
   "cell_type": "code",
   "execution_count": 52,
   "id": "8002aab1",
   "metadata": {},
   "outputs": [
    {
     "name": "stdout",
     "output_type": "stream",
     "text": [
      "go-basic.obo: fmt(1.2) rel(2024-09-08) 44,296 Terms\n"
     ]
    }
   ],
   "source": [
    "from goatools.obo_parser import GODag\n",
    "import numpy as np\n",
    "\n",
    "obodag = GODag(\"go-basic.obo\")\n",
    "\n",
    "# 1) Build deepest_levels from deepest_annotations\n",
    "deepest_levels = {}\n",
    "\n",
    "for species, asp_dict in deepest_annotations.items():\n",
    "    deepest_levels[species] = {}\n",
    "    for asp, fdr_dict in asp_dict.items():\n",
    "        deepest_levels[species][asp] = {}\n",
    "        for fdr, annots in fdr_dict.items():\n",
    "            # annots: {protein: {(go_id, score, name), …}, …}\n",
    "            level_map = {}\n",
    "            for prot, terms in annots.items():\n",
    "                lvl_set = set()\n",
    "                for go_id, score, name in terms:\n",
    "                    depth = obodag[go_id].depth if go_id in obodag else np.nan\n",
    "                    lvl_set.add((go_id, name, depth))\n",
    "                level_map[prot] = lvl_set\n",
    "            deepest_levels[species][asp][fdr] = level_map\n"
   ]
  },
  {
   "cell_type": "code",
   "execution_count": 53,
   "id": "b67368ff",
   "metadata": {},
   "outputs": [
    {
     "name": "stdout",
     "output_type": "stream",
     "text": [
      "Wrote PlasmoDB-68_PadleriG01_BP_depth_counts.csv\n",
      "Wrote PlasmoDB-68_PadleriG01_CC_depth_counts.csv\n",
      "Wrote PlasmoDB-68_PadleriG01_MF_depth_counts.csv\n",
      "Wrote PlasmoDB-68_PbergheiANKA_BP_depth_counts.csv\n",
      "Wrote PlasmoDB-68_PbergheiANKA_CC_depth_counts.csv\n",
      "Wrote PlasmoDB-68_PbergheiANKA_MF_depth_counts.csv\n",
      "Wrote PlasmoDB-68_PblacklockiG01_BP_depth_counts.csv\n",
      "Wrote PlasmoDB-68_PblacklockiG01_CC_depth_counts.csv\n",
      "Wrote PlasmoDB-68_PblacklockiG01_MF_depth_counts.csv\n",
      "Wrote PlasmoDB-68_Pchabaudichabaudi_BP_depth_counts.csv\n",
      "Wrote PlasmoDB-68_Pchabaudichabaudi_CC_depth_counts.csv\n",
      "Wrote PlasmoDB-68_Pchabaudichabaudi_MF_depth_counts.csv\n",
      "Wrote PlasmoDB-68_PcoatneyiHackeri_BP_depth_counts.csv\n",
      "Wrote PlasmoDB-68_PcoatneyiHackeri_CC_depth_counts.csv\n",
      "Wrote PlasmoDB-68_PcoatneyiHackeri_MF_depth_counts.csv\n",
      "Wrote PlasmoDB-68_PcynomolgiM_BP_depth_counts.csv\n",
      "Wrote PlasmoDB-68_PcynomolgiM_CC_depth_counts.csv\n",
      "Wrote PlasmoDB-68_PcynomolgiM_MF_depth_counts.csv\n",
      "Wrote PlasmoDB-68_Pfalciparum3D7_BP_depth_counts.csv\n",
      "Wrote PlasmoDB-68_Pfalciparum3D7_CC_depth_counts.csv\n",
      "Wrote PlasmoDB-68_Pfalciparum3D7_MF_depth_counts.csv\n",
      "Wrote PlasmoDB-68_PfragileNilgiri_BP_depth_counts.csv\n",
      "Wrote PlasmoDB-68_PfragileNilgiri_CC_depth_counts.csv\n",
      "Wrote PlasmoDB-68_PfragileNilgiri_MF_depth_counts.csv\n",
      "Wrote PlasmoDB-68_PgaboniG01_BP_depth_counts.csv\n",
      "Wrote PlasmoDB-68_PgaboniG01_CC_depth_counts.csv\n",
      "Wrote PlasmoDB-68_PgaboniG01_MF_depth_counts.csv\n",
      "Wrote PlasmoDB-68_Pgallinaceum8A_BP_depth_counts.csv\n",
      "Wrote PlasmoDB-68_Pgallinaceum8A_CC_depth_counts.csv\n",
      "Wrote PlasmoDB-68_Pgallinaceum8A_MF_depth_counts.csv\n",
      "Wrote PlasmoDB-68_PinuiSanAntonio1_BP_depth_counts.csv\n",
      "Wrote PlasmoDB-68_PinuiSanAntonio1_CC_depth_counts.csv\n",
      "Wrote PlasmoDB-68_PinuiSanAntonio1_MF_depth_counts.csv\n",
      "Wrote PlasmoDB-68_PknowlesiH_BP_depth_counts.csv\n",
      "Wrote PlasmoDB-68_PknowlesiH_CC_depth_counts.csv\n",
      "Wrote PlasmoDB-68_PknowlesiH_MF_depth_counts.csv\n",
      "Wrote PlasmoDB-68_PmalariaeUG01_BP_depth_counts.csv\n",
      "Wrote PlasmoDB-68_PmalariaeUG01_CC_depth_counts.csv\n",
      "Wrote PlasmoDB-68_PmalariaeUG01_MF_depth_counts.csv\n",
      "Wrote PlasmoDB-68_PovalecurtisiGH01_BP_depth_counts.csv\n",
      "Wrote PlasmoDB-68_PovalecurtisiGH01_CC_depth_counts.csv\n",
      "Wrote PlasmoDB-68_PovalecurtisiGH01_MF_depth_counts.csv\n",
      "Wrote PlasmoDB-68_PovalewallikeriPowCR01_BP_depth_counts.csv\n",
      "Wrote PlasmoDB-68_PovalewallikeriPowCR01_CC_depth_counts.csv\n",
      "Wrote PlasmoDB-68_PovalewallikeriPowCR01_MF_depth_counts.csv\n",
      "Wrote PlasmoDB-68_PreichenowiCDC_BP_depth_counts.csv\n",
      "Wrote PlasmoDB-68_PreichenowiCDC_CC_depth_counts.csv\n",
      "Wrote PlasmoDB-68_PreichenowiCDC_MF_depth_counts.csv\n",
      "Wrote PlasmoDB-68_PvinckeibrucechwattiDA_BP_depth_counts.csv\n",
      "Wrote PlasmoDB-68_PvinckeibrucechwattiDA_CC_depth_counts.csv\n",
      "Wrote PlasmoDB-68_PvinckeibrucechwattiDA_MF_depth_counts.csv\n",
      "Wrote PlasmoDB-68_PvivaxSal1_BP_depth_counts.csv\n",
      "Wrote PlasmoDB-68_PvivaxSal1_CC_depth_counts.csv\n",
      "Wrote PlasmoDB-68_PvivaxSal1_MF_depth_counts.csv\n",
      "Wrote PlasmoDB-68_Pyoeliiyoelii17XNL2023_BP_depth_counts.csv\n",
      "Wrote PlasmoDB-68_Pyoeliiyoelii17XNL2023_CC_depth_counts.csv\n",
      "Wrote PlasmoDB-68_Pyoeliiyoelii17XNL2023_MF_depth_counts.csv\n"
     ]
    }
   ],
   "source": [
    "import pandas as pd\n",
    "from collections import Counter\n",
    "from pathlib import Path\n",
    "\n",
    "out_dir = Path(\"genomes_to_annotate_with_PlasmoFP/depth_counts_for_deepest_terms_2\")\n",
    "out_dir.mkdir(exist_ok=True)\n",
    "\n",
    "target_fdrs = [0.01, 0.05, 0.10, 0.20, 0.30]\n",
    "\n",
    "for species, asp_dict in deepest_levels.items():\n",
    "    for asp, fdr_dict in asp_dict.items():\n",
    "        depth_counters = {}\n",
    "        for fdr in target_fdrs:\n",
    "            lvl_map = fdr_dict.get(fdr, {})\n",
    "            depths = [\n",
    "                depth\n",
    "                for terms in lvl_map.values()\n",
    "                for (_, _, depth) in terms\n",
    "                if isinstance(depth, int)\n",
    "            ]\n",
    "            depth_counters[fdr] = Counter(depths)\n",
    "\n",
    "        all_depths = sorted({d for cnt in depth_counters.values() for d in cnt})\n",
    "        if not all_depths:\n",
    "            print(f\"Skipping {species}_{asp}, no depth data\")\n",
    "            continue\n",
    "\n",
    "        df = pd.DataFrame(\n",
    "            {f\"{fdr:.2f}\": [depth_counters[fdr].get(d, 0) for d in all_depths]\n",
    "             for fdr in target_fdrs},\n",
    "            index=all_depths\n",
    "        )\n",
    "        df.index.name = \"Depth\"\n",
    "\n",
    "        fname = f\"{species}_{asp}_depth_counts.csv\"\n",
    "        df.to_csv(out_dir / fname)\n",
    "        print(f\"Wrote {fname}\")\n"
   ]
  },
  {
   "cell_type": "code",
   "execution_count": 55,
   "id": "2d2d5cdd",
   "metadata": {},
   "outputs": [],
   "source": [
    "#save the deepest_annotations dict to a pickle file\n",
    "with open(\"genomes_to_annotate_with_PlasmoFP/deepest_annotations.pkl\", \"wb\") as f:\n",
    "    pickle.dump(deepest_annotations, f)\n",
    "#save the filtered_deepest dict to a pickle file\n",
    "with open(\"genomes_to_annotate_with_PlasmoFP/filtered_deepest.pkl\", \"wb\") as f:\n",
    "    pickle.dump(filtered_deepest, f)\n",
    "\n",
    "#load the filtered_deepest dict from the pickle file"
   ]
  },
  {
   "cell_type": "code",
   "execution_count": 56,
   "id": "a3eb3572",
   "metadata": {},
   "outputs": [],
   "source": [
    "# deepest_annotations[species][asp][fdr] = { protein: {(go_id, score, name), …}, … }\n",
    "import obonet\n",
    "\n",
    "# 1) load the DO-NOT-ANNOTATE terms\n",
    "graph = obonet.read_obo(\"gocheck_do_not_annotate.obo\")\n",
    "DO_NOT_ANNOTATE = set(graph.nodes)\n",
    "\n",
    "# 2) build a filtered version\n",
    "filtered_deepest = {}\n",
    "\n",
    "for species, asp_dict in deepest_annotations.items():\n",
    "    filtered_deepest[species] = {}\n",
    "    for asp, fdr_dict in asp_dict.items():\n",
    "        filtered_deepest[species][asp] = {}\n",
    "        for fdr, prot_dict in fdr_dict.items():\n",
    "            new_prot_dict = {}\n",
    "            for prot, termset in prot_dict.items():\n",
    "                # drop any tuple whose go_id is in DO_NOT_ANNOTATE\n",
    "                filtered_terms = {\n",
    "                    (gid, score, name)\n",
    "                    for (gid, score, name) in termset\n",
    "                    if gid not in DO_NOT_ANNOTATE\n",
    "                }\n",
    "                if filtered_terms:\n",
    "                    new_prot_dict[prot] = filtered_terms\n",
    "            # store only if there's anything left\n",
    "            filtered_deepest[species][asp][fdr] = new_prot_dict\n",
    "\n",
    "# Now `filtered_deepest` mirrors `deepest_annotations` but with DO_NOT_ANNOTATE terms removed.\n"
   ]
  },
  {
   "cell_type": "code",
   "execution_count": 57,
   "id": "7a84fbf4",
   "metadata": {},
   "outputs": [],
   "source": [
    "# define the three GO root IDs\n",
    "ROOT_TERMS = {\n",
    "    \"MF\": \"GO:0003674\",  # molecular_function root\n",
    "    \"BP\": \"GO:0008150\",  # biological_process root\n",
    "    \"CC\": \"GO:0005575\",  # cellular_component root\n",
    "}\n",
    "\n",
    "zeroed = {}\n",
    "\n",
    "for species, asp_dict in filtered_deepest.items():\n",
    "    zeroed[species] = {}\n",
    "    for asp, fdr_dict in asp_dict.items():\n",
    "        root_id = ROOT_TERMS[asp]\n",
    "        zeroed[species][asp] = {}\n",
    "\n",
    "        for fdr, prot_dict in fdr_dict.items():\n",
    "            new_prot_dict = {}\n",
    "            for prot, termset in prot_dict.items():\n",
    "                # remove the root term if present\n",
    "                filtered_terms = {\n",
    "                    (gid, score, name)\n",
    "                    for (gid, score, name) in termset\n",
    "                    if gid != root_id\n",
    "                }\n",
    "                # assign even if empty\n",
    "                new_prot_dict[prot] = filtered_terms\n",
    "\n",
    "            zeroed[species][asp][fdr] = new_prot_dict\n",
    "\n",
    "# Now `zeroed` has the exact same structure as `filtered_deepest`,\n",
    "# except any protein whose only annotation was the root now has an empty set.\n"
   ]
  },
  {
   "cell_type": "code",
   "execution_count": 58,
   "id": "7d0b3da9",
   "metadata": {},
   "outputs": [
    {
     "name": "stdout",
     "output_type": "stream",
     "text": [
      "PlasmoDB-68_PknowlesiH: 5328 total proteins  →  PFP MF: 2220, BP: 2592, CC: 1950;  3261 proteins with ≥1 PFP entry, 2067 without\n",
      "PlasmoDB-68_PadleriG01: 5325 total proteins  →  PFP MF: 2422, BP: 2863, CC: 2453;  3609 proteins with ≥1 PFP entry, 1716 without\n",
      "PlasmoDB-68_PvinckeibrucechwattiDA: 5225 total proteins  →  PFP MF: 2259, BP: 2680, CC: 2526;  3456 proteins with ≥1 PFP entry, 1769 without\n",
      "PlasmoDB-68_PbergheiANKA: 4958 total proteins  →  PFP MF: 1992, BP: 2272, CC: 1712;  2908 proteins with ≥1 PFP entry, 2050 without\n",
      "PlasmoDB-68_Pgallinaceum8A: 5286 total proteins  →  PFP MF: 2172, BP: 2607, CC: 2073;  3297 proteins with ≥1 PFP entry, 1989 without\n",
      "PlasmoDB-68_PcoatneyiHackeri: 5516 total proteins  →  PFP MF: 2835, BP: 3247, CC: 2845;  4013 proteins with ≥1 PFP entry, 1503 without\n",
      "PlasmoDB-68_PmalariaeUG01: 5942 total proteins  →  PFP MF: 2478, BP: 2868, CC: 2035;  3511 proteins with ≥1 PFP entry, 2431 without\n",
      "PlasmoDB-68_Pyoeliiyoelii17XNL2023: 7047 total proteins  →  PFP MF: 2169, BP: 2564, CC: 2961;  3405 proteins with ≥1 PFP entry, 3642 without\n",
      "PlasmoDB-68_PovalecurtisiGH01: 6671 total proteins  →  PFP MF: 2488, BP: 2824, CC: 2718;  3572 proteins with ≥1 PFP entry, 3099 without\n",
      "PlasmoDB-68_PcynomolgiM: 6068 total proteins  →  PFP MF: 2597, BP: 2956, CC: 3575;  3860 proteins with ≥1 PFP entry, 2208 without\n",
      "PlasmoDB-68_PgaboniG01: 5134 total proteins  →  PFP MF: 2304, BP: 2732, CC: 2476;  3480 proteins with ≥1 PFP entry, 1654 without\n",
      "PlasmoDB-68_PvivaxSal1: 5530 total proteins  →  PFP MF: 2341, BP: 2606, CC: 2263;  3333 proteins with ≥1 PFP entry, 2197 without\n",
      "PlasmoDB-68_Pchabaudichabaudi: 5199 total proteins  →  PFP MF: 2085, BP: 2432, CC: 1929;  3095 proteins with ≥1 PFP entry, 2104 without\n",
      "PlasmoDB-68_PblacklockiG01: 5100 total proteins  →  PFP MF: 2328, BP: 2741, CC: 2362;  3470 proteins with ≥1 PFP entry, 1630 without\n",
      "PlasmoDB-68_PfragileNilgiri: 5672 total proteins  →  PFP MF: 3048, BP: 3448, CC: 3014;  4220 proteins with ≥1 PFP entry, 1452 without\n",
      "PlasmoDB-68_PovalewallikeriPowCR01: 6228 total proteins  →  PFP MF: 2584, BP: 2976, CC: 2556;  3702 proteins with ≥1 PFP entry, 2526 without\n",
      "PlasmoDB-68_PinuiSanAntonio1: 5832 total proteins  →  PFP MF: 3290, BP: 3682, CC: 3312;  4425 proteins with ≥1 PFP entry, 1407 without\n",
      "PlasmoDB-68_PreichenowiCDC: 5699 total proteins  →  PFP MF: 2121, BP: 2485, CC: 1772;  3099 proteins with ≥1 PFP entry, 2600 without\n",
      "PlasmoDB-68_Pfalciparum3D7: 5389 total proteins  →  PFP MF: 1743, BP: 1905, CC: 933;  2280 proteins with ≥1 PFP entry, 3109 without\n"
     ]
    }
   ],
   "source": [
    "import pickle\n",
    "from pathlib import Path\n",
    "\n",
    "orig_dir   = Path(\"genomes_to_annotate_with_PlasmoFP/gene_dicts_out_complete_and_filtered_2\")\n",
    "out_dir    = Path(\"genomes_to_annotate_with_PlasmoFP/with_PFP_predictions_complete_2\")\n",
    "out_dir.mkdir(exist_ok=True)\n",
    "\n",
    "pfp_preds = zeroed  # or deepest_annotations\n",
    "\n",
    "for gene_fp in orig_dir.glob(\"PlasmoDB-68_*_gene_dict_complete.pkl\"):\n",
    "    species  = gene_fp.stem.rsplit(\"_gene_dict\", 1)[0]\n",
    "    orig     = pickle.load(open(gene_fp, \"rb\"))\n",
    "    augmented = {}\n",
    "\n",
    "    # 1) pre‐compute which proteins got predictions in each aspect\n",
    "    proteins_with_preds = {\"MF\": set(), \"BP\": set(), \"CC\": set()}\n",
    "    for asp, asp_dict in pfp_preds.get(species, {}).items():\n",
    "        for prot_dict in asp_dict.values():\n",
    "            proteins_with_preds[asp].update(prot_dict.keys())\n",
    "\n",
    "    # 2) union across aspects → proteins with any PFP entry\n",
    "    proteins_with_any = set().union(*proteins_with_preds.values())\n",
    "\n",
    "    # 3) augment each record, only injecting PFP fields for those in proteins_with_any\n",
    "    for prot, rec in orig.items():\n",
    "        new_rec = rec.copy()\n",
    "        if prot in proteins_with_any:\n",
    "            for asp, label in [(\"MF\",\"PFP MF\"), (\"BP\",\"PFP BP\"), (\"CC\",\"PFP CC\")]:\n",
    "                aspect_preds = {}\n",
    "                for fdr, prot_dict in pfp_preds.get(species, {})\\\n",
    "                                                   .get(asp, {})\\\n",
    "                                                   .items():\n",
    "                    aspect_preds[fdr] = prot_dict.get(prot, set())\n",
    "                new_rec[label] = aspect_preds\n",
    "        augmented[prot] = new_rec\n",
    "\n",
    "    # 4) save out\n",
    "    out_fp = out_dir / f\"{species}_gene_dict_with_PFP.pkl\"\n",
    "    with open(out_fp, \"wb\") as f:\n",
    "        pickle.dump(augmented, f)\n",
    "\n",
    "    # 5) compute and print stats\n",
    "    total        = len(orig)\n",
    "    mf_cnt       = len(proteins_with_preds[\"MF\"])\n",
    "    bp_cnt       = len(proteins_with_preds[\"BP\"])\n",
    "    cc_cnt       = len(proteins_with_preds[\"CC\"])\n",
    "    any_cnt      = len(proteins_with_any)\n",
    "    none_cnt     = total - any_cnt\n",
    "\n",
    "    print(\n",
    "        f\"{species}: {total} total proteins  →  \"\n",
    "        f\"PFP MF: {mf_cnt}, BP: {bp_cnt}, CC: {cc_cnt};  \"\n",
    "        f\"{any_cnt} proteins with ≥1 PFP entry, {none_cnt} without\"\n",
    "    )\n"
   ]
  },
  {
   "cell_type": "code",
   "execution_count": 59,
   "id": "3ac0a3a6",
   "metadata": {},
   "outputs": [
    {
     "name": "stdout",
     "output_type": "stream",
     "text": [
      "Wrote PlasmoDB-68_PadleriG01_annotation_summary.csv\n",
      "Wrote PlasmoDB-68_PbergheiANKA_annotation_summary.csv\n",
      "Wrote PlasmoDB-68_PblacklockiG01_annotation_summary.csv\n",
      "Wrote PlasmoDB-68_Pchabaudichabaudi_annotation_summary.csv\n",
      "Wrote PlasmoDB-68_PcoatneyiHackeri_annotation_summary.csv\n",
      "Wrote PlasmoDB-68_PcynomolgiM_annotation_summary.csv\n",
      "Wrote PlasmoDB-68_Pfalciparum3D7_annotation_summary.csv\n",
      "Wrote PlasmoDB-68_PfragileNilgiri_annotation_summary.csv\n",
      "Wrote PlasmoDB-68_PgaboniG01_annotation_summary.csv\n",
      "Wrote PlasmoDB-68_Pgallinaceum8A_annotation_summary.csv\n",
      "Wrote PlasmoDB-68_PinuiSanAntonio1_annotation_summary.csv\n",
      "Wrote PlasmoDB-68_PknowlesiH_annotation_summary.csv\n",
      "Wrote PlasmoDB-68_PmalariaeUG01_annotation_summary.csv\n",
      "Wrote PlasmoDB-68_PovalecurtisiGH01_annotation_summary.csv\n",
      "Wrote PlasmoDB-68_PovalewallikeriPowCR01_annotation_summary.csv\n",
      "Wrote PlasmoDB-68_PreichenowiCDC_annotation_summary.csv\n",
      "Wrote PlasmoDB-68_PvinckeibrucechwattiDA_annotation_summary.csv\n",
      "Wrote PlasmoDB-68_PvivaxSal1_annotation_summary.csv\n",
      "Wrote PlasmoDB-68_Pyoeliiyoelii17XNL2023_annotation_summary.csv\n"
     ]
    }
   ],
   "source": [
    "import pickle\n",
    "import pandas as pd\n",
    "from pathlib import Path\n",
    "\n",
    "# CONFIG\n",
    "dict_dir  = Path(\"genomes_to_annotate_with_PlasmoFP/with_PFP_predictions_complete_2\")\n",
    "out_dir   = Path(\"genomes_to_annotate_with_PlasmoFP/gene_dicts_out_complete_and_filtered_2/annotation_summaries_2\")\n",
    "out_dir.mkdir(exist_ok=True)\n",
    "\n",
    "FDRS     = [0.01, 0.05, 0.10, 0.20, 0.30]\n",
    "GO_KEYS  = [\n",
    "    (\"GO Function\", \"GO IEA Function\"),\n",
    "    (\"GO Process\",  \"GO IEA Process\"),\n",
    "    (\"GO Component\",\"GO IEA Component\"),\n",
    "]\n",
    "PFP_KEYS = {\"MF\":\"PFP MF\",\"BP\":\"PFP BP\",\"CC\":\"PFP CC\"}\n",
    "\n",
    "def triage(triples):\n",
    "    nonempty = sum(1 for x in triples if len(x) > 0)\n",
    "    return (\"existing\" if nonempty == 3\n",
    "            else \"none\"    if nonempty == 0\n",
    "            else \"partial\")\n",
    "\n",
    "for pkl_fp in sorted(dict_dir.glob(\"PlasmoDB-68_*_gene_dict_with_PFP.pkl\")):\n",
    "    species   = pkl_fp.stem.rsplit(\"_gene_dict\",1)[0]\n",
    "    gene_dict = pickle.load(open(pkl_fp, \"rb\"))\n",
    "\n",
    "    # initialize counters\n",
    "    summary = {\n",
    "        \"Species\":       species,\n",
    "        \"Total_genes\":   len(gene_dict),\n",
    "        \"GO_existing\":   0,\n",
    "        \"GO_partial\":    0,\n",
    "        \"GO_none\":       0,\n",
    "    }\n",
    "    for f in FDRS:\n",
    "        summary[f\"PFP_{f:.2f}_existing\"] = 0\n",
    "        summary[f\"PFP_{f:.2f}_partial\"]  = 0\n",
    "        summary[f\"PFP_{f:.2f}_none\"]     = 0\n",
    "\n",
    "    # iterate **only** over keys in gene_dict\n",
    "    for prot, rec in gene_dict.items():\n",
    "        # A) original GO coverage\n",
    "        go_sets = [ set(rec[a])|set(rec[b]) for (a,b) in GO_KEYS ]\n",
    "        cat_go  = triage(go_sets)\n",
    "        summary[f\"GO_{cat_go}\"] += 1\n",
    "\n",
    "        # B) augmented PFP coverage, at each FDR\n",
    "        for f in FDRS:\n",
    "            comb = []\n",
    "            for (a,b), asp in zip(GO_KEYS, [\"MF\",\"BP\",\"CC\"]):\n",
    "                orig = set(rec[a])|set(rec[b])\n",
    "                pfp  = rec.get(PFP_KEYS[asp], {}).get(f, set())\n",
    "                comb.append(orig | pfp)\n",
    "            cat_pfp = triage(comb)\n",
    "            summary[f\"PFP_{f:.2f}_{cat_pfp}\"] += 1\n",
    "\n",
    "    # write out one‐row CSV\n",
    "    df     = pd.DataFrame([summary])\n",
    "    out_fp = out_dir / f\"{species}_annotation_summary.csv\"\n",
    "    df.to_csv(out_fp, index=False)\n",
    "    print(f\"Wrote {out_fp.name}\")\n"
   ]
  },
  {
   "cell_type": "code",
   "execution_count": 60,
   "id": "5d41806a",
   "metadata": {},
   "outputs": [
    {
     "name": "stdout",
     "output_type": "stream",
     "text": [
      "Wrote master summary with 19 species to genomes_to_annotate_with_PlasmoFP/gene_dicts_out_complete_and_filtered_2/annotation_summaries_2/master_annotation_summary.csv\n",
      "                               Species  Total_genes  GO_existing  GO_partial  \\\n",
      "0               PlasmoDB-68_PadleriG01         5325          872        2748   \n",
      "2             PlasmoDB-68_PbergheiANKA         4958         1201        2487   \n",
      "4           PlasmoDB-68_PblacklockiG01         5100          828        2679   \n",
      "6        PlasmoDB-68_Pchabaudichabaudi         5199         1076        2646   \n",
      "8         PlasmoDB-68_PcoatneyiHackeri         5516          726        2709   \n",
      "10             PlasmoDB-68_PcynomolgiM         6068          439        1999   \n",
      "12          PlasmoDB-68_Pfalciparum3D7         5389         2278        2265   \n",
      "14         PlasmoDB-68_PfragileNilgiri         5672          732        2722   \n",
      "16              PlasmoDB-68_PgaboniG01         5134          847        2561   \n",
      "18          PlasmoDB-68_Pgallinaceum8A         5286          975        2804   \n",
      "20        PlasmoDB-68_PinuiSanAntonio1         5832          719        2580   \n",
      "22              PlasmoDB-68_PknowlesiH         5328         1082        2651   \n",
      "24           PlasmoDB-68_PmalariaeUG01         5942          998        3434   \n",
      "26       PlasmoDB-68_PovalecurtisiGH01         6671          821        2503   \n",
      "28  PlasmoDB-68_PovalewallikeriPowCR01         6228          713        3253   \n",
      "30          PlasmoDB-68_PreichenowiCDC         5699         1254        3066   \n",
      "32  PlasmoDB-68_PvinckeibrucechwattiDA         5225          732        2588   \n",
      "34              PlasmoDB-68_PvivaxSal1         5530         1309        2410   \n",
      "36  PlasmoDB-68_Pyoeliiyoelii17XNL2023         7047          617        2726   \n",
      "\n",
      "    GO_none  PFP_0.01_existing  PFP_0.01_partial  PFP_0.01_none  \\\n",
      "0      1705               1049              2910           1366   \n",
      "2      1270               1377              2523           1058   \n",
      "4      1593               1011              2808           1281   \n",
      "6      1477               1252              2719           1228   \n",
      "8      2081                919              2837           1760   \n",
      "10     3630                612              2346           3110   \n",
      "12      846               2371              2284            734   \n",
      "14     2218                924              2870           1878   \n",
      "16     1726               1028              2716           1390   \n",
      "18     1507               1160              2875           1251   \n",
      "20     2533                910              2723           2199   \n",
      "22     1595               1254              2684           1390   \n",
      "24     1510               1171              3475           1296   \n",
      "26     3347                992              2655           3024   \n",
      "28     2262                869              3311           2048   \n",
      "30     1379               1419              3124           1156   \n",
      "32     1905                925              2710           1590   \n",
      "34     1811               1450              2494           1586   \n",
      "36     3704                768              2955           3324   \n",
      "\n",
      "    PFP_0.05_existing  PFP_0.05_partial  PFP_0.05_none  PFP_0.10_existing  \\\n",
      "0                1389              3406            530               1723   \n",
      "2                1720              2822            416               1997   \n",
      "4                1341              3278            481               1661   \n",
      "6                1563              3061            575               1874   \n",
      "8                1273              3464            779               1591   \n",
      "10                980              3147           1941               1268   \n",
      "12               2604              2491            294               2828   \n",
      "14               1277              3633            762               1593   \n",
      "16               1374              3221            539               1706   \n",
      "18               1502              3211            573               1813   \n",
      "20               1246              3770            816               1566   \n",
      "22               1550              3023            755               1845   \n",
      "24               1482              3902            558               1791   \n",
      "26               1324              3321           2026               1600   \n",
      "28               1193              3947           1088               1489   \n",
      "30               1715              3458            526               2013   \n",
      "32               1271              3206            748               1587   \n",
      "34               1737              2949            844               2005   \n",
      "36               1117              3659           2271               1424   \n",
      "\n",
      "    PFP_0.10_partial  PFP_0.10_none  PFP_0.20_existing  PFP_0.20_partial  \\\n",
      "0               3261            341               2358              2637   \n",
      "2               2705            256               2493              2221   \n",
      "4               3149            290               2234              2587   \n",
      "6               2937            388               2411              2410   \n",
      "8               3571            354               2163              3023   \n",
      "10              3342           1458               1776              2905   \n",
      "12              2379            182               3242              1977   \n",
      "14              3740            339               2247              3123   \n",
      "16              3094            334               2284              2526   \n",
      "18              3091            382               2394              2521   \n",
      "20              3955            311               2243              3300   \n",
      "22              2966            517               2378              2448   \n",
      "24              3810            341               2303              3316   \n",
      "26              3401           1670               2155              2889   \n",
      "28              4003            736               2018              3499   \n",
      "30              3291            395               2558              2758   \n",
      "32              3146            492               2195              2556   \n",
      "34              3039            486               2516              2561   \n",
      "36              3615           2008               1950              3105   \n",
      "\n",
      "    PFP_0.20_none  PFP_0.30_existing  PFP_0.30_partial  PFP_0.30_none  \n",
      "0             330               3004              1991            330  \n",
      "2             244               3023              1691            244  \n",
      "4             279               2891              1930            279  \n",
      "6             378               2924              1897            378  \n",
      "8             330               2890              2296            330  \n",
      "10           1387               2368              2313           1387  \n",
      "12            170               3682              1537            170  \n",
      "14            302               3028              2342            302  \n",
      "16            324               2895              1915            324  \n",
      "18            371               2978              1937            371  \n",
      "20            289               3137              2406            289  \n",
      "22            502               2956              1870            502  \n",
      "24            323               2929              2690            323  \n",
      "26           1627               2783              2262           1626  \n",
      "28            711               2718              2799            711  \n",
      "30            383               3130              2186            383  \n",
      "32            474               2766              1985            474  \n",
      "34            453               3127              1951            452  \n",
      "36           1992               2561              2495           1991  \n"
     ]
    }
   ],
   "source": [
    "import pandas as pd\n",
    "from pathlib import Path\n",
    "\n",
    "# Path to your per‐species summaries\n",
    "summaries_dir = Path(\"genomes_to_annotate_with_PlasmoFP/gene_dicts_out_complete_and_filtered_2/annotation_summaries_2\")\n",
    "\n",
    "# Glob all CSVs\n",
    "csv_files = sorted(summaries_dir.glob(\"*_annotation_summary.csv\"))\n",
    "\n",
    "# Read and concatenate\n",
    "dfs = []\n",
    "for fp in csv_files:\n",
    "    df = pd.read_csv(fp)\n",
    "    dfs.append(df)\n",
    "master_df = pd.concat(dfs, ignore_index=True)\n",
    "\n",
    "# Optional: sort by Species\n",
    "master_df = master_df.sort_values(\"Species\").reset_index(drop=True)\n",
    "#drop duplicate rows \n",
    "master_df = master_df.drop_duplicates(subset=[\"Species\"])\n",
    "# Save master CSV\n",
    "out_fp = summaries_dir / \"master_annotation_summary.csv\"\n",
    "master_df.to_csv(out_fp, index=False)\n",
    "\n",
    "print(f\"Wrote master summary with {len(master_df)} species to {out_fp}\")\n",
    "print(master_df)\n"
   ]
  }
 ],
 "metadata": {
  "kernelspec": {
   "display_name": "NLP",
   "language": "python",
   "name": "python3"
  },
  "language_info": {
   "codemirror_mode": {
    "name": "ipython",
    "version": 3
   },
   "file_extension": ".py",
   "mimetype": "text/x-python",
   "name": "python",
   "nbconvert_exporter": "python",
   "pygments_lexer": "ipython3",
   "version": "3.9.15"
  }
 },
 "nbformat": 4,
 "nbformat_minor": 5
}

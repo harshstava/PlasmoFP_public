{
 "cells": [
  {
   "cell_type": "code",
   "execution_count": 1,
   "metadata": {
    "colab": {
     "base_uri": "https://localhost:8080/"
    },
    "executionInfo": {
     "elapsed": 4591,
     "status": "ok",
     "timestamp": 1729034878893,
     "user": {
      "displayName": "Harsh Srivastava",
      "userId": "15175257498592383309"
     },
     "user_tz": 240
    },
    "id": "J90Wc-ZMf0-w",
    "outputId": "19db17f2-0551-46f5-b6bc-439dbe3013fd"
   },
   "outputs": [
    {
     "name": "stdout",
     "output_type": "stream",
     "text": [
      "\r0% [Working]\r            \rHit:1 http://security.ubuntu.com/ubuntu jammy-security InRelease\n",
      "Hit:2 https://cloud.r-project.org/bin/linux/ubuntu jammy-cran40/ InRelease\n",
      "Hit:3 https://developer.download.nvidia.com/compute/cuda/repos/ubuntu2204/x86_64  InRelease\n",
      "Ign:4 https://r2u.stat.illinois.edu/ubuntu jammy InRelease\n",
      "Hit:5 https://r2u.stat.illinois.edu/ubuntu jammy Release\n",
      "Hit:6 http://archive.ubuntu.com/ubuntu jammy InRelease\n",
      "Hit:7 http://archive.ubuntu.com/ubuntu jammy-updates InRelease\n",
      "Hit:9 http://archive.ubuntu.com/ubuntu jammy-backports InRelease\n",
      "Hit:10 https://ppa.launchpadcontent.net/deadsnakes/ppa/ubuntu jammy InRelease\n",
      "Hit:11 https://ppa.launchpadcontent.net/graphics-drivers/ppa/ubuntu jammy InRelease\n",
      "Hit:12 https://ppa.launchpadcontent.net/ubuntugis/ppa/ubuntu jammy InRelease\n",
      "Reading package lists... Done\n",
      "W: Skipping acquire of configured file 'main/source/Sources' as repository 'https://r2u.stat.illinois.edu/ubuntu jammy InRelease' does not seem to provide it (sources.list entry misspelt?)\n",
      "Reading package lists... Done\n",
      "Building dependency tree... Done\n",
      "Reading state information... Done\n",
      "python3-pip is already the newest version (22.0.2+dfsg-1ubuntu0.4).\n",
      "python3.7 is already the newest version (3.7.17-1+jammy1).\n",
      "python3.7-venv is already the newest version (3.7.17-1+jammy1).\n",
      "0 upgraded, 0 newly installed, 0 to remove and 51 not upgraded.\n"
     ]
    }
   ],
   "source": [
    "!sudo apt-get update\n",
    "!sudo apt-get install python3.7 python3.7-venv python3-pip -y\n"
   ]
  },
  {
   "cell_type": "code",
   "execution_count": 6,
   "metadata": {
    "colab": {
     "base_uri": "https://localhost:8080/"
    },
    "executionInfo": {
     "elapsed": 330,
     "status": "ok",
     "timestamp": 1729034774969,
     "user": {
      "displayName": "Harsh Srivastava",
      "userId": "15175257498592383309"
     },
     "user_tz": 240
    },
    "id": "rENPcynTgOHY",
    "outputId": "54c68c9c-6d07-4017-e880-c6607102151d"
   },
   "outputs": [
    {
     "name": "stdout",
     "output_type": "stream",
     "text": [
      "fatal: destination path 'proteinfer' already exists and is not an empty directory.\n"
     ]
    }
   ],
   "source": [
    "!git clone https://github.com/google-research/proteinfer\n"
   ]
  },
  {
   "cell_type": "code",
   "execution_count": 5,
   "metadata": {
    "colab": {
     "base_uri": "https://localhost:8080/"
    },
    "executionInfo": {
     "elapsed": 154,
     "status": "ok",
     "timestamp": 1729034903305,
     "user": {
      "displayName": "Harsh Srivastava",
      "userId": "15175257498592383309"
     },
     "user_tz": 240
    },
    "id": "YTzO-CvfgQdN",
    "outputId": "b3896c68-a7c0-4ab2-ce28-06914a5717a8"
   },
   "outputs": [
    {
     "name": "stdout",
     "output_type": "stream",
     "text": [
      "/content/proteinfer\n"
     ]
    }
   ],
   "source": [
    "%cd /content/proteinfer\n"
   ]
  },
  {
   "cell_type": "code",
   "execution_count": 6,
   "metadata": {
    "colab": {
     "base_uri": "https://localhost:8080/"
    },
    "executionInfo": {
     "elapsed": 288,
     "status": "ok",
     "timestamp": 1729034908456,
     "user": {
      "displayName": "Harsh Srivastava",
      "userId": "15175257498592383309"
     },
     "user_tz": 240
    },
    "id": "QV72c-JDgYxJ",
    "outputId": "bd1a263d-d2ad-4a91-9cae-106ecb577a87"
   },
   "outputs": [
    {
     "name": "stdout",
     "output_type": "stream",
     "text": [
      "3.10.12 (main, Sep 11 2024, 15:47:36) [GCC 11.4.0]\n"
     ]
    }
   ],
   "source": [
    "!/content/proteinfer/env/bin/python -c \"import sys; print(sys.version)\"\n"
   ]
  },
  {
   "cell_type": "code",
   "execution_count": 7,
   "metadata": {
    "colab": {
     "base_uri": "https://localhost:8080/"
    },
    "executionInfo": {
     "elapsed": 542,
     "status": "ok",
     "timestamp": 1729034970710,
     "user": {
      "displayName": "Harsh Srivastava",
      "userId": "15175257498592383309"
     },
     "user_tz": 240
    },
    "id": "C8t4IrAPg-Cp",
    "outputId": "5b92bbe6-152d-4032-9785-c8f8a7f8277b"
   },
   "outputs": [
    {
     "name": "stdout",
     "output_type": "stream",
     "text": [
      "created virtual environment CPython3.7.17.final.0-64 in 194ms\n",
      "  creator CPython3Posix(dest=/content/proteinfer/env, clear=False, no_vcs_ignore=False, global=False)\n",
      "  seeder FromAppData(download=False, pip=bundle, setuptools=bundle, wheel=bundle, via=copy, app_data_dir=/root/.local/share/virtualenv)\n",
      "    added seed packages: pip==24.0, setuptools==68.0.0, wheel==0.42.0\n",
      "  activators BashActivator,CShellActivator,FishActivator,NushellActivator,PowerShellActivator,PythonActivator\n"
     ]
    }
   ],
   "source": [
    "!virtualenv -p /usr/bin/python3.7 /content/proteinfer/env\n"
   ]
  },
  {
   "cell_type": "code",
   "execution_count": 8,
   "metadata": {
    "colab": {
     "base_uri": "https://localhost:8080/"
    },
    "executionInfo": {
     "elapsed": 152,
     "status": "ok",
     "timestamp": 1729034979458,
     "user": {
      "displayName": "Harsh Srivastava",
      "userId": "15175257498592383309"
     },
     "user_tz": 240
    },
    "id": "xeCJ5jNvhAUT",
    "outputId": "0b2d63ef-941f-4561-d9c9-a0e49433c73c"
   },
   "outputs": [
    {
     "name": "stdout",
     "output_type": "stream",
     "text": [
      "Python 3.7.17\n"
     ]
    }
   ],
   "source": [
    "!/content/proteinfer/env/bin/python --version\n"
   ]
  },
  {
   "cell_type": "code",
   "execution_count": 9,
   "metadata": {
    "colab": {
     "base_uri": "https://localhost:8080/"
    },
    "executionInfo": {
     "elapsed": 65652,
     "status": "ok",
     "timestamp": 1729035052691,
     "user": {
      "displayName": "Harsh Srivastava",
      "userId": "15175257498592383309"
     },
     "user_tz": 240
    },
    "id": "fa1wlCH3hCEb",
    "outputId": "e89cf2da-0ed7-4e68-caf3-125bd53910ef"
   },
   "outputs": [
    {
     "name": "stdout",
     "output_type": "stream",
     "text": [
      "Collecting absl-py==0.7.1 (from -r /content/proteinfer/requirements.txt (line 1))\n",
      "  Using cached absl-py-0.7.1.tar.gz (99 kB)\n",
      "  Preparing metadata (setup.py) ... \u001b[?25l\u001b[?25hdone\n",
      "Collecting astor==0.7.1 (from -r /content/proteinfer/requirements.txt (line 2))\n",
      "  Downloading astor-0.7.1-py2.py3-none-any.whl.metadata (4.3 kB)\n",
      "Collecting biopython==1.78 (from -r /content/proteinfer/requirements.txt (line 3))\n",
      "  Downloading biopython-1.78-cp37-cp37m-manylinux1_x86_64.whl.metadata (12 kB)\n",
      "Collecting backports.weakref==1.0.post1 (from -r /content/proteinfer/requirements.txt (line 4))\n",
      "  Downloading backports.weakref-1.0.post1-py2.py3-none-any.whl.metadata (2.3 kB)\n",
      "Collecting enum34==1.1.6 (from -r /content/proteinfer/requirements.txt (line 5))\n",
      "  Downloading enum34-1.1.6-py3-none-any.whl.metadata (1.7 kB)\n",
      "Collecting funcsigs==1.0.2 (from -r /content/proteinfer/requirements.txt (line 6))\n",
      "  Downloading funcsigs-1.0.2-py2.py3-none-any.whl.metadata (14 kB)\n",
      "Collecting gast==0.2.2 (from -r /content/proteinfer/requirements.txt (line 7))\n",
      "  Downloading gast-0.2.2.tar.gz (10 kB)\n",
      "  Preparing metadata (setup.py) ... \u001b[?25l\u001b[?25hdone\n",
      "Collecting grpcio==1.19.0 (from -r /content/proteinfer/requirements.txt (line 8))\n",
      "  Downloading grpcio-1.19.0-cp37-cp37m-manylinux1_x86_64.whl.metadata (3.4 kB)\n",
      "Collecting h5py==2.9.0 (from -r /content/proteinfer/requirements.txt (line 9))\n",
      "  Downloading h5py-2.9.0-cp37-cp37m-manylinux1_x86_64.whl.metadata (2.0 kB)\n",
      "Collecting Keras-Applications==1.0.8 (from -r /content/proteinfer/requirements.txt (line 10))\n",
      "  Downloading Keras_Applications-1.0.8-py3-none-any.whl.metadata (1.7 kB)\n",
      "Collecting Keras-Preprocessing==1.0.9 (from -r /content/proteinfer/requirements.txt (line 11))\n",
      "  Downloading Keras_Preprocessing-1.0.9-py2.py3-none-any.whl.metadata (1.9 kB)\n",
      "Collecting Markdown==3.0.1 (from -r /content/proteinfer/requirements.txt (line 12))\n",
      "  Downloading Markdown-3.0.1-py2.py3-none-any.whl.metadata (2.2 kB)\n",
      "Collecting mock==2.0.0 (from -r /content/proteinfer/requirements.txt (line 13))\n",
      "  Downloading mock-2.0.0-py2.py3-none-any.whl.metadata (3.2 kB)\n",
      "Collecting numpy==1.16.5 (from -r /content/proteinfer/requirements.txt (line 14))\n",
      "  Downloading numpy-1.16.5-cp37-cp37m-manylinux1_x86_64.whl.metadata (2.1 kB)\n",
      "Collecting pandas==1.1.2 (from -r /content/proteinfer/requirements.txt (line 15))\n",
      "  Downloading pandas-1.1.2-cp37-cp37m-manylinux1_x86_64.whl.metadata (4.7 kB)\n",
      "Collecting pbr==5.1.3 (from -r /content/proteinfer/requirements.txt (line 16))\n",
      "  Downloading pbr-5.1.3-py2.py3-none-any.whl.metadata (3.1 kB)\n",
      "Collecting plotly==4.11.0 (from -r /content/proteinfer/requirements.txt (line 17))\n",
      "  Downloading plotly-4.11.0-py2.py3-none-any.whl.metadata (7.4 kB)\n",
      "Collecting plotnine==0.7.0 (from -r /content/proteinfer/requirements.txt (line 18))\n",
      "  Downloading plotnine-0.7.0-py3-none-any.whl.metadata (1.6 kB)\n",
      "Collecting protobuf<4 (from -r /content/proteinfer/requirements.txt (line 19))\n",
      "  Downloading protobuf-3.20.3-cp37-cp37m-manylinux_2_5_x86_64.manylinux1_x86_64.whl.metadata (679 bytes)\n",
      "Collecting python-dateutil==2.8.0 (from -r /content/proteinfer/requirements.txt (line 20))\n",
      "  Downloading python_dateutil-2.8.0-py2.py3-none-any.whl.metadata (7.6 kB)\n",
      "Collecting pytz==2018.9 (from -r /content/proteinfer/requirements.txt (line 21))\n",
      "  Downloading pytz-2018.9-py2.py3-none-any.whl.metadata (20 kB)\n",
      "Collecting scikit-learn==0.23.2 (from -r /content/proteinfer/requirements.txt (line 22))\n",
      "  Downloading scikit_learn-0.23.2-cp37-cp37m-manylinux1_x86_64.whl.metadata (7.3 kB)\n",
      "Collecting six==1.12.0 (from -r /content/proteinfer/requirements.txt (line 23))\n",
      "  Downloading six-1.12.0-py2.py3-none-any.whl.metadata (1.9 kB)\n",
      "Collecting tensorflow-gpu==1.15.4 (from -r /content/proteinfer/requirements.txt (line 24))\n",
      "  Downloading tensorflow_gpu-1.15.4-cp37-cp37m-manylinux2010_x86_64.whl.metadata (2.8 kB)\n",
      "Collecting tensorflow-estimator==1.15.1 (from -r /content/proteinfer/requirements.txt (line 25))\n",
      "  Downloading tensorflow_estimator-1.15.1-py2.py3-none-any.whl.metadata (1.3 kB)\n",
      "Collecting tensorflow-hub==0.9.0 (from -r /content/proteinfer/requirements.txt (line 26))\n",
      "  Downloading tensorflow_hub-0.9.0-py2.py3-none-any.whl.metadata (1.7 kB)\n",
      "Collecting termcolor==1.1.0 (from -r /content/proteinfer/requirements.txt (line 27))\n",
      "  Downloading termcolor-1.1.0.tar.gz (3.9 kB)\n",
      "  Preparing metadata (setup.py) ... \u001b[?25l\u001b[?25hdone\n",
      "Collecting tqdm==4.62.2 (from -r /content/proteinfer/requirements.txt (line 28))\n",
      "  Downloading tqdm-4.62.2-py2.py3-none-any.whl.metadata (56 kB)\n",
      "\u001b[2K     \u001b[90m━━━━━━━━━━━━━━━━━━━━━━━━━━━━━━━━━━━━━━━━\u001b[0m \u001b[32m57.0/57.0 kB\u001b[0m \u001b[31m3.1 MB/s\u001b[0m eta \u001b[36m0:00:00\u001b[0m\n",
      "\u001b[?25hCollecting Werkzeug==0.15.1 (from -r /content/proteinfer/requirements.txt (line 29))\n",
      "  Downloading Werkzeug-0.15.1-py2.py3-none-any.whl.metadata (4.8 kB)\n",
      "Collecting retrying>=1.3.3 (from plotly==4.11.0->-r /content/proteinfer/requirements.txt (line 17))\n",
      "  Downloading retrying-1.3.4-py3-none-any.whl.metadata (6.9 kB)\n",
      "Collecting mizani>=0.7.1 (from plotnine==0.7.0->-r /content/proteinfer/requirements.txt (line 18))\n",
      "  Downloading mizani-0.7.3-py3-none-any.whl.metadata (677 bytes)\n",
      "Collecting matplotlib>=3.1.1 (from plotnine==0.7.0->-r /content/proteinfer/requirements.txt (line 18))\n",
      "  Downloading matplotlib-3.5.3-cp37-cp37m-manylinux_2_5_x86_64.manylinux1_x86_64.whl.metadata (6.7 kB)\n",
      "Collecting scipy>=1.2.0 (from plotnine==0.7.0->-r /content/proteinfer/requirements.txt (line 18))\n",
      "  Downloading scipy-1.7.3-cp37-cp37m-manylinux_2_12_x86_64.manylinux2010_x86_64.whl.metadata (2.2 kB)\n",
      "Collecting patsy>=0.5.1 (from plotnine==0.7.0->-r /content/proteinfer/requirements.txt (line 18))\n",
      "  Downloading patsy-0.5.6-py2.py3-none-any.whl.metadata (3.5 kB)\n",
      "Collecting statsmodels>=0.11.1 (from plotnine==0.7.0->-r /content/proteinfer/requirements.txt (line 18))\n",
      "  Downloading statsmodels-0.13.5-cp37-cp37m-manylinux_2_17_x86_64.manylinux2014_x86_64.whl.metadata (9.5 kB)\n",
      "Collecting descartes>=1.1.0 (from plotnine==0.7.0->-r /content/proteinfer/requirements.txt (line 18))\n",
      "  Downloading descartes-1.1.0-py3-none-any.whl.metadata (2.4 kB)\n",
      "Collecting joblib>=0.11 (from scikit-learn==0.23.2->-r /content/proteinfer/requirements.txt (line 22))\n",
      "  Downloading joblib-1.3.2-py3-none-any.whl.metadata (5.4 kB)\n",
      "Collecting threadpoolctl>=2.0.0 (from scikit-learn==0.23.2->-r /content/proteinfer/requirements.txt (line 22))\n",
      "  Downloading threadpoolctl-3.1.0-py3-none-any.whl.metadata (9.2 kB)\n",
      "Collecting google-pasta>=0.1.6 (from tensorflow-gpu==1.15.4->-r /content/proteinfer/requirements.txt (line 24))\n",
      "  Downloading google_pasta-0.2.0-py3-none-any.whl.metadata (814 bytes)\n",
      "Collecting opt-einsum>=2.3.2 (from tensorflow-gpu==1.15.4->-r /content/proteinfer/requirements.txt (line 24))\n",
      "  Downloading opt_einsum-3.3.0-py3-none-any.whl.metadata (6.5 kB)\n",
      "Collecting tensorboard<1.16.0,>=1.15.0 (from tensorflow-gpu==1.15.4->-r /content/proteinfer/requirements.txt (line 24))\n",
      "  Downloading tensorboard-1.15.0-py3-none-any.whl.metadata (1.8 kB)\n",
      "Collecting wrapt>=1.11.1 (from tensorflow-gpu==1.15.4->-r /content/proteinfer/requirements.txt (line 24))\n",
      "  Downloading wrapt-1.16.0-cp37-cp37m-manylinux_2_5_x86_64.manylinux1_x86_64.manylinux_2_17_x86_64.manylinux2014_x86_64.whl.metadata (6.6 kB)\n",
      "Requirement already satisfied: wheel>=0.26 in ./env/lib/python3.7/site-packages (from tensorflow-gpu==1.15.4->-r /content/proteinfer/requirements.txt (line 24)) (0.42.0)\n",
      "Collecting cycler>=0.10 (from matplotlib>=3.1.1->plotnine==0.7.0->-r /content/proteinfer/requirements.txt (line 18))\n",
      "  Downloading cycler-0.11.0-py3-none-any.whl.metadata (785 bytes)\n",
      "Collecting fonttools>=4.22.0 (from matplotlib>=3.1.1->plotnine==0.7.0->-r /content/proteinfer/requirements.txt (line 18))\n",
      "  Downloading fonttools-4.38.0-py3-none-any.whl.metadata (138 kB)\n",
      "\u001b[2K     \u001b[90m━━━━━━━━━━━━━━━━━━━━━━━━━━━━━━━━━━━━━━━━\u001b[0m \u001b[32m138.5/138.5 kB\u001b[0m \u001b[31m7.4 MB/s\u001b[0m eta \u001b[36m0:00:00\u001b[0m\n",
      "\u001b[?25hCollecting kiwisolver>=1.0.1 (from matplotlib>=3.1.1->plotnine==0.7.0->-r /content/proteinfer/requirements.txt (line 18))\n",
      "  Downloading kiwisolver-1.4.5-cp37-cp37m-manylinux_2_5_x86_64.manylinux1_x86_64.whl.metadata (6.4 kB)\n",
      "INFO: pip is looking at multiple versions of matplotlib to determine which version is compatible with other requirements. This could take a while.\n",
      "Collecting matplotlib>=3.1.1 (from plotnine==0.7.0->-r /content/proteinfer/requirements.txt (line 18))\n",
      "  Downloading matplotlib-3.5.2-cp37-cp37m-manylinux_2_5_x86_64.manylinux1_x86_64.whl.metadata (6.7 kB)\n",
      "  Downloading matplotlib-3.5.1-cp37-cp37m-manylinux_2_5_x86_64.manylinux1_x86_64.whl.metadata (6.7 kB)\n",
      "  Downloading matplotlib-3.5.0-cp37-cp37m-manylinux_2_5_x86_64.manylinux1_x86_64.whl.metadata (6.7 kB)\n",
      "  Downloading matplotlib-3.4.3-cp37-cp37m-manylinux1_x86_64.whl.metadata (5.7 kB)\n",
      "Collecting pillow>=6.2.0 (from matplotlib>=3.1.1->plotnine==0.7.0->-r /content/proteinfer/requirements.txt (line 18))\n",
      "  Downloading Pillow-9.5.0-cp37-cp37m-manylinux_2_28_x86_64.whl.metadata (9.5 kB)\n",
      "Collecting pyparsing>=2.2.1 (from matplotlib>=3.1.1->plotnine==0.7.0->-r /content/proteinfer/requirements.txt (line 18))\n",
      "  Downloading pyparsing-3.1.4-py3-none-any.whl.metadata (5.1 kB)\n",
      "Collecting palettable (from mizani>=0.7.1->plotnine==0.7.0->-r /content/proteinfer/requirements.txt (line 18))\n",
      "  Downloading palettable-3.3.3-py2.py3-none-any.whl.metadata (3.3 kB)\n",
      "Collecting packaging>=21.3 (from statsmodels>=0.11.1->plotnine==0.7.0->-r /content/proteinfer/requirements.txt (line 18))\n",
      "  Downloading packaging-24.0-py3-none-any.whl.metadata (3.2 kB)\n",
      "INFO: pip is looking at multiple versions of statsmodels to determine which version is compatible with other requirements. This could take a while.\n",
      "Collecting statsmodels>=0.11.1 (from plotnine==0.7.0->-r /content/proteinfer/requirements.txt (line 18))\n",
      "  Downloading statsmodels-0.13.4-cp37-cp37m-manylinux_2_17_x86_64.manylinux2014_x86_64.whl.metadata (9.5 kB)\n",
      "  Downloading statsmodels-0.13.3-cp37-cp37m-manylinux_2_17_x86_64.manylinux2014_x86_64.whl.metadata (9.5 kB)\n",
      "  Downloading statsmodels-0.13.2-cp37-cp37m-manylinux_2_17_x86_64.manylinux2014_x86_64.whl.metadata (8.1 kB)\n",
      "  Downloading statsmodels-0.13.1-cp37-cp37m-manylinux_2_17_x86_64.manylinux2014_x86_64.whl.metadata (8.0 kB)\n",
      "  Downloading statsmodels-0.13.0-cp37-cp37m-manylinux_2_17_x86_64.manylinux2014_x86_64.whl.metadata (8.0 kB)\n",
      "  Downloading statsmodels-0.12.2-cp37-cp37m-manylinux1_x86_64.whl.metadata (8.2 kB)\n",
      "Requirement already satisfied: setuptools>=41.0.0 in ./env/lib/python3.7/site-packages (from tensorboard<1.16.0,>=1.15.0->tensorflow-gpu==1.15.4->-r /content/proteinfer/requirements.txt (line 24)) (68.0.0)\n",
      "Collecting typing-extensions (from kiwisolver>=1.0.1->matplotlib>=3.1.1->plotnine==0.7.0->-r /content/proteinfer/requirements.txt (line 18))\n",
      "  Downloading typing_extensions-4.7.1-py3-none-any.whl.metadata (3.1 kB)\n",
      "Downloading astor-0.7.1-py2.py3-none-any.whl (27 kB)\n",
      "Downloading biopython-1.78-cp37-cp37m-manylinux1_x86_64.whl (2.3 MB)\n",
      "\u001b[2K   \u001b[90m━━━━━━━━━━━━━━━━━━━━━━━━━━━━━━━━━━━━━━━━\u001b[0m \u001b[32m2.3/2.3 MB\u001b[0m \u001b[31m47.8 MB/s\u001b[0m eta \u001b[36m0:00:00\u001b[0m\n",
      "\u001b[?25hDownloading backports.weakref-1.0.post1-py2.py3-none-any.whl (5.2 kB)\n",
      "Downloading enum34-1.1.6-py3-none-any.whl (12 kB)\n",
      "Downloading funcsigs-1.0.2-py2.py3-none-any.whl (17 kB)\n",
      "Downloading grpcio-1.19.0-cp37-cp37m-manylinux1_x86_64.whl (10.8 MB)\n",
      "\u001b[2K   \u001b[90m━━━━━━━━━━━━━━━━━━━━━━━━━━━━━━━━━━━━━━━━\u001b[0m \u001b[32m10.8/10.8 MB\u001b[0m \u001b[31m67.8 MB/s\u001b[0m eta \u001b[36m0:00:00\u001b[0m\n",
      "\u001b[?25hDownloading h5py-2.9.0-cp37-cp37m-manylinux1_x86_64.whl (2.8 MB)\n",
      "\u001b[2K   \u001b[90m━━━━━━━━━━━━━━━━━━━━━━━━━━━━━━━━━━━━━━━━\u001b[0m \u001b[32m2.8/2.8 MB\u001b[0m \u001b[31m48.5 MB/s\u001b[0m eta \u001b[36m0:00:00\u001b[0m\n",
      "\u001b[?25hDownloading Keras_Applications-1.0.8-py3-none-any.whl (50 kB)\n",
      "\u001b[2K   \u001b[90m━━━━━━━━━━━━━━━━━━━━━━━━━━━━━━━━━━━━━━━━\u001b[0m \u001b[32m50.7/50.7 kB\u001b[0m \u001b[31m4.4 MB/s\u001b[0m eta \u001b[36m0:00:00\u001b[0m\n",
      "\u001b[?25hDownloading Keras_Preprocessing-1.0.9-py2.py3-none-any.whl (59 kB)\n",
      "\u001b[2K   \u001b[90m━━━━━━━━━━━━━━━━━━━━━━━━━━━━━━━━━━━━━━━━\u001b[0m \u001b[32m59.1/59.1 kB\u001b[0m \u001b[31m5.8 MB/s\u001b[0m eta \u001b[36m0:00:00\u001b[0m\n",
      "\u001b[?25hDownloading Markdown-3.0.1-py2.py3-none-any.whl (89 kB)\n",
      "\u001b[2K   \u001b[90m━━━━━━━━━━━━━━━━━━━━━━━━━━━━━━━━━━━━━━━━\u001b[0m \u001b[32m89.4/89.4 kB\u001b[0m \u001b[31m7.6 MB/s\u001b[0m eta \u001b[36m0:00:00\u001b[0m\n",
      "\u001b[?25hDownloading mock-2.0.0-py2.py3-none-any.whl (56 kB)\n",
      "\u001b[2K   \u001b[90m━━━━━━━━━━━━━━━━━━━━━━━━━━━━━━━━━━━━━━━━\u001b[0m \u001b[32m56.8/56.8 kB\u001b[0m \u001b[31m5.7 MB/s\u001b[0m eta \u001b[36m0:00:00\u001b[0m\n",
      "\u001b[?25hDownloading numpy-1.16.5-cp37-cp37m-manylinux1_x86_64.whl (17.3 MB)\n",
      "\u001b[2K   \u001b[90m━━━━━━━━━━━━━━━━━━━━━━━━━━━━━━━━━━━━━━━━\u001b[0m \u001b[32m17.3/17.3 MB\u001b[0m \u001b[31m85.4 MB/s\u001b[0m eta \u001b[36m0:00:00\u001b[0m\n",
      "\u001b[?25hDownloading pandas-1.1.2-cp37-cp37m-manylinux1_x86_64.whl (10.5 MB)\n",
      "\u001b[2K   \u001b[90m━━━━━━━━━━━━━━━━━━━━━━━━━━━━━━━━━━━━━━━━\u001b[0m \u001b[32m10.5/10.5 MB\u001b[0m \u001b[31m106.3 MB/s\u001b[0m eta \u001b[36m0:00:00\u001b[0m\n",
      "\u001b[?25hDownloading pbr-5.1.3-py2.py3-none-any.whl (107 kB)\n",
      "\u001b[2K   \u001b[90m━━━━━━━━━━━━━━━━━━━━━━━━━━━━━━━━━━━━━━━━\u001b[0m \u001b[32m107.3/107.3 kB\u001b[0m \u001b[31m9.7 MB/s\u001b[0m eta \u001b[36m0:00:00\u001b[0m\n",
      "\u001b[?25hDownloading plotly-4.11.0-py2.py3-none-any.whl (13.1 MB)\n",
      "\u001b[2K   \u001b[90m━━━━━━━━━━━━━━━━━━━━━━━━━━━━━━━━━━━━━━━━\u001b[0m \u001b[32m13.1/13.1 MB\u001b[0m \u001b[31m73.1 MB/s\u001b[0m eta \u001b[36m0:00:00\u001b[0m\n",
      "\u001b[?25hDownloading plotnine-0.7.0-py3-none-any.whl (4.4 MB)\n",
      "\u001b[2K   \u001b[90m━━━━━━━━━━━━━━━━━━━━━━━━━━━━━━━━━━━━━━━━\u001b[0m \u001b[32m4.4/4.4 MB\u001b[0m \u001b[31m42.4 MB/s\u001b[0m eta \u001b[36m0:00:00\u001b[0m\n",
      "\u001b[?25hDownloading python_dateutil-2.8.0-py2.py3-none-any.whl (226 kB)\n",
      "\u001b[2K   \u001b[90m━━━━━━━━━━━━━━━━━━━━━━━━━━━━━━━━━━━━━━━━\u001b[0m \u001b[32m226.8/226.8 kB\u001b[0m \u001b[31m20.1 MB/s\u001b[0m eta \u001b[36m0:00:00\u001b[0m\n",
      "\u001b[?25hDownloading pytz-2018.9-py2.py3-none-any.whl (510 kB)\n",
      "\u001b[2K   \u001b[90m━━━━━━━━━━━━━━━━━━━━━━━━━━━━━━━━━━━━━━━━\u001b[0m \u001b[32m510.7/510.7 kB\u001b[0m \u001b[31m35.4 MB/s\u001b[0m eta \u001b[36m0:00:00\u001b[0m\n",
      "\u001b[?25hDownloading scikit_learn-0.23.2-cp37-cp37m-manylinux1_x86_64.whl (6.8 MB)\n",
      "\u001b[2K   \u001b[90m━━━━━━━━━━━━━━━━━━━━━━━━━━━━━━━━━━━━━━━━\u001b[0m \u001b[32m6.8/6.8 MB\u001b[0m \u001b[31m81.9 MB/s\u001b[0m eta \u001b[36m0:00:00\u001b[0m\n",
      "\u001b[?25hDownloading six-1.12.0-py2.py3-none-any.whl (10 kB)\n",
      "Downloading tensorflow_gpu-1.15.4-cp37-cp37m-manylinux2010_x86_64.whl (411.0 MB)\n",
      "\u001b[2K   \u001b[90m━━━━━━━━━━━━━━━━━━━━━━━━━━━━━━━━━━━━━━━━\u001b[0m \u001b[32m411.0/411.0 MB\u001b[0m \u001b[31m3.8 MB/s\u001b[0m eta \u001b[36m0:00:00\u001b[0m\n",
      "\u001b[?25hDownloading tensorflow_estimator-1.15.1-py2.py3-none-any.whl (503 kB)\n",
      "\u001b[2K   \u001b[90m━━━━━━━━━━━━━━━━━━━━━━━━━━━━━━━━━━━━━━━━\u001b[0m \u001b[32m503.4/503.4 kB\u001b[0m \u001b[31m34.9 MB/s\u001b[0m eta \u001b[36m0:00:00\u001b[0m\n",
      "\u001b[?25hDownloading tensorflow_hub-0.9.0-py2.py3-none-any.whl (103 kB)\n",
      "\u001b[2K   \u001b[90m━━━━━━━━━━━━━━━━━━━━━━━━━━━━━━━━━━━━━━━━\u001b[0m \u001b[32m103.3/103.3 kB\u001b[0m \u001b[31m9.1 MB/s\u001b[0m eta \u001b[36m0:00:00\u001b[0m\n",
      "\u001b[?25hDownloading tqdm-4.62.2-py2.py3-none-any.whl (76 kB)\n",
      "\u001b[2K   \u001b[90m━━━━━━━━━━━━━━━━━━━━━━━━━━━━━━━━━━━━━━━━\u001b[0m \u001b[32m76.2/76.2 kB\u001b[0m \u001b[31m6.7 MB/s\u001b[0m eta \u001b[36m0:00:00\u001b[0m\n",
      "\u001b[?25hDownloading Werkzeug-0.15.1-py2.py3-none-any.whl (328 kB)\n",
      "\u001b[2K   \u001b[90m━━━━━━━━━━━━━━━━━━━━━━━━━━━━━━━━━━━━━━━━\u001b[0m \u001b[32m328.7/328.7 kB\u001b[0m \u001b[31m28.6 MB/s\u001b[0m eta \u001b[36m0:00:00\u001b[0m\n",
      "\u001b[?25hDownloading protobuf-3.20.3-cp37-cp37m-manylinux_2_5_x86_64.manylinux1_x86_64.whl (1.0 MB)\n",
      "\u001b[2K   \u001b[90m━━━━━━━━━━━━━━━━━━━━━━━━━━━━━━━━━━━━━━━━\u001b[0m \u001b[32m1.0/1.0 MB\u001b[0m \u001b[31m52.8 MB/s\u001b[0m eta \u001b[36m0:00:00\u001b[0m\n",
      "\u001b[?25hDownloading descartes-1.1.0-py3-none-any.whl (5.8 kB)\n",
      "Downloading google_pasta-0.2.0-py3-none-any.whl (57 kB)\n",
      "\u001b[2K   \u001b[90m━━━━━━━━━━━━━━━━━━━━━━━━━━━━━━━━━━━━━━━━\u001b[0m \u001b[32m57.5/57.5 kB\u001b[0m \u001b[31m5.4 MB/s\u001b[0m eta \u001b[36m0:00:00\u001b[0m\n",
      "\u001b[?25hDownloading joblib-1.3.2-py3-none-any.whl (302 kB)\n",
      "\u001b[2K   \u001b[90m━━━━━━━━━━━━━━━━━━━━━━━━━━━━━━━━━━━━━━━━\u001b[0m \u001b[32m302.2/302.2 kB\u001b[0m \u001b[31m23.2 MB/s\u001b[0m eta \u001b[36m0:00:00\u001b[0m\n",
      "\u001b[?25hDownloading matplotlib-3.4.3-cp37-cp37m-manylinux1_x86_64.whl (10.3 MB)\n",
      "\u001b[2K   \u001b[90m━━━━━━━━━━━━━━━━━━━━━━━━━━━━━━━━━━━━━━━━\u001b[0m \u001b[32m10.3/10.3 MB\u001b[0m \u001b[31m90.8 MB/s\u001b[0m eta \u001b[36m0:00:00\u001b[0m\n",
      "\u001b[?25hDownloading mizani-0.7.3-py3-none-any.whl (63 kB)\n",
      "\u001b[2K   \u001b[90m━━━━━━━━━━━━━━━━━━━━━━━━━━━━━━━━━━━━━━━━\u001b[0m \u001b[32m63.1/63.1 kB\u001b[0m \u001b[31m6.3 MB/s\u001b[0m eta \u001b[36m0:00:00\u001b[0m\n",
      "\u001b[?25hDownloading opt_einsum-3.3.0-py3-none-any.whl (65 kB)\n",
      "\u001b[2K   \u001b[90m━━━━━━━━━━━━━━━━━━━━━━━━━━━━━━━━━━━━━━━━\u001b[0m \u001b[32m65.5/65.5 kB\u001b[0m \u001b[31m6.6 MB/s\u001b[0m eta \u001b[36m0:00:00\u001b[0m\n",
      "\u001b[?25hDownloading patsy-0.5.6-py2.py3-none-any.whl (233 kB)\n",
      "\u001b[2K   \u001b[90m━━━━━━━━━━━━━━━━━━━━━━━━━━━━━━━━━━━━━━━━\u001b[0m \u001b[32m233.9/233.9 kB\u001b[0m \u001b[31m21.3 MB/s\u001b[0m eta \u001b[36m0:00:00\u001b[0m\n",
      "\u001b[?25hDownloading retrying-1.3.4-py3-none-any.whl (11 kB)\n",
      "Downloading scipy-1.7.3-cp37-cp37m-manylinux_2_12_x86_64.manylinux2010_x86_64.whl (38.1 MB)\n",
      "\u001b[2K   \u001b[90m━━━━━━━━━━━━━━━━━━━━━━━━━━━━━━━━━━━━━━━━\u001b[0m \u001b[32m38.1/38.1 MB\u001b[0m \u001b[31m55.7 MB/s\u001b[0m eta \u001b[36m0:00:00\u001b[0m\n",
      "\u001b[?25hDownloading statsmodels-0.12.2-cp37-cp37m-manylinux1_x86_64.whl (9.5 MB)\n",
      "\u001b[2K   \u001b[90m━━━━━━━━━━━━━━━━━━━━━━━━━━━━━━━━━━━━━━━━\u001b[0m \u001b[32m9.5/9.5 MB\u001b[0m \u001b[31m93.2 MB/s\u001b[0m eta \u001b[36m0:00:00\u001b[0m\n",
      "\u001b[?25hDownloading tensorboard-1.15.0-py3-none-any.whl (3.8 MB)\n",
      "\u001b[2K   \u001b[90m━━━━━━━━━━━━━━━━━━━━━━━━━━━━━━━━━━━━━━━━\u001b[0m \u001b[32m3.8/3.8 MB\u001b[0m \u001b[31m93.5 MB/s\u001b[0m eta \u001b[36m0:00:00\u001b[0m\n",
      "\u001b[?25hDownloading threadpoolctl-3.1.0-py3-none-any.whl (14 kB)\n",
      "Downloading wrapt-1.16.0-cp37-cp37m-manylinux_2_5_x86_64.manylinux1_x86_64.manylinux_2_17_x86_64.manylinux2014_x86_64.whl (77 kB)\n",
      "\u001b[2K   \u001b[90m━━━━━━━━━━━━━━━━━━━━━━━━━━━━━━━━━━━━━━━━\u001b[0m \u001b[32m77.5/77.5 kB\u001b[0m \u001b[31m6.6 MB/s\u001b[0m eta \u001b[36m0:00:00\u001b[0m\n",
      "\u001b[?25hDownloading cycler-0.11.0-py3-none-any.whl (6.4 kB)\n",
      "Downloading kiwisolver-1.4.5-cp37-cp37m-manylinux_2_5_x86_64.manylinux1_x86_64.whl (1.1 MB)\n",
      "\u001b[2K   \u001b[90m━━━━━━━━━━━━━━━━━━━━━━━━━━━━━━━━━━━━━━━━\u001b[0m \u001b[32m1.1/1.1 MB\u001b[0m \u001b[31m61.4 MB/s\u001b[0m eta \u001b[36m0:00:00\u001b[0m\n",
      "\u001b[?25hDownloading Pillow-9.5.0-cp37-cp37m-manylinux_2_28_x86_64.whl (3.4 MB)\n",
      "\u001b[2K   \u001b[90m━━━━━━━━━━━━━━━━━━━━━━━━━━━━━━━━━━━━━━━━\u001b[0m \u001b[32m3.4/3.4 MB\u001b[0m \u001b[31m91.1 MB/s\u001b[0m eta \u001b[36m0:00:00\u001b[0m\n",
      "\u001b[?25hDownloading pyparsing-3.1.4-py3-none-any.whl (104 kB)\n",
      "\u001b[2K   \u001b[90m━━━━━━━━━━━━━━━━━━━━━━━━━━━━━━━━━━━━━━━━\u001b[0m \u001b[32m104.1/104.1 kB\u001b[0m \u001b[31m9.6 MB/s\u001b[0m eta \u001b[36m0:00:00\u001b[0m\n",
      "\u001b[?25hDownloading palettable-3.3.3-py2.py3-none-any.whl (332 kB)\n",
      "\u001b[2K   \u001b[90m━━━━━━━━━━━━━━━━━━━━━━━━━━━━━━━━━━━━━━━━\u001b[0m \u001b[32m332.3/332.3 kB\u001b[0m \u001b[31m24.9 MB/s\u001b[0m eta \u001b[36m0:00:00\u001b[0m\n",
      "\u001b[?25hDownloading typing_extensions-4.7.1-py3-none-any.whl (33 kB)\n",
      "Building wheels for collected packages: absl-py, gast, termcolor\n",
      "  Building wheel for absl-py (setup.py) ... \u001b[?25l\u001b[?25hdone\n",
      "  Created wheel for absl-py: filename=absl_py-0.7.1-py3-none-any.whl size=117841 sha256=0fe4675108ea0afee5507347a4e7cb5619a2d60c792d822cff9bbd947c03050f\n",
      "  Stored in directory: /root/.cache/pip/wheels/de/06/32/01e3d0016e2e4e1b0757ce35f07d75c1033e142fde22239093\n",
      "  Building wheel for gast (setup.py) ... \u001b[?25l\u001b[?25hdone\n",
      "  Created wheel for gast: filename=gast-0.2.2-py3-none-any.whl size=7537 sha256=117323381ee3475822cbb1dee87d77d543d0e094454449f8db2e6e06e0ecf9f5\n",
      "  Stored in directory: /root/.cache/pip/wheels/21/7f/02/420f32a803f7d0967b48dd823da3f558c5166991bfd204eef3\n",
      "  Building wheel for termcolor (setup.py) ... \u001b[?25l\u001b[?25hdone\n",
      "  Created wheel for termcolor: filename=termcolor-1.1.0-py3-none-any.whl size=4832 sha256=5233627b4735e181d9793f351061525dfb065a3b878e9f9e0e02de1a26ce4057\n",
      "  Stored in directory: /root/.cache/pip/wheels/3f/e3/ec/8a8336ff196023622fbcb36de0c5a5c218cbb24111d1d4c7f2\n",
      "Successfully built absl-py gast termcolor\n",
      "Installing collected packages: termcolor, tensorflow-estimator, pytz, pbr, funcsigs, enum34, backports.weakref, wrapt, Werkzeug, typing-extensions, tqdm, threadpoolctl, six, pyparsing, protobuf, pillow, palettable, numpy, Markdown, joblib, gast, cycler, astor, tensorflow-hub, scipy, retrying, python-dateutil, patsy, opt-einsum, mock, kiwisolver, Keras-Preprocessing, h5py, grpcio, google-pasta, biopython, absl-py, tensorboard, scikit-learn, plotly, pandas, matplotlib, Keras-Applications, tensorflow-gpu, statsmodels, mizani, descartes, plotnine\n",
      "Successfully installed Keras-Applications-1.0.8 Keras-Preprocessing-1.0.9 Markdown-3.0.1 Werkzeug-0.15.1 absl-py-0.7.1 astor-0.7.1 backports.weakref-1.0.post1 biopython-1.78 cycler-0.11.0 descartes-1.1.0 enum34-1.1.6 funcsigs-1.0.2 gast-0.2.2 google-pasta-0.2.0 grpcio-1.19.0 h5py-2.9.0 joblib-1.3.2 kiwisolver-1.4.5 matplotlib-3.4.3 mizani-0.7.3 mock-2.0.0 numpy-1.16.5 opt-einsum-3.3.0 palettable-3.3.3 pandas-1.1.2 patsy-0.5.6 pbr-5.1.3 pillow-9.5.0 plotly-4.11.0 plotnine-0.7.0 protobuf-3.20.3 pyparsing-3.1.4 python-dateutil-2.8.0 pytz-2018.9 retrying-1.3.4 scikit-learn-0.23.2 scipy-1.7.3 six-1.12.0 statsmodels-0.12.2 tensorboard-1.15.0 tensorflow-estimator-1.15.1 tensorflow-gpu-1.15.4 tensorflow-hub-0.9.0 termcolor-1.1.0 threadpoolctl-3.1.0 tqdm-4.62.2 typing-extensions-4.7.1 wrapt-1.16.0\n"
     ]
    }
   ],
   "source": [
    "!/content/proteinfer/env/bin/pip install -r /content/proteinfer/requirements.txt\n"
   ]
  },
  {
   "cell_type": "code",
   "execution_count": 10,
   "metadata": {
    "colab": {
     "base_uri": "https://localhost:8080/"
    },
    "executionInfo": {
     "elapsed": 141,
     "status": "ok",
     "timestamp": 1729035057174,
     "user": {
      "displayName": "Harsh Srivastava",
      "userId": "15175257498592383309"
     },
     "user_tz": 240
    },
    "id": "f5Sal0RmhOBn",
    "outputId": "97159229-b6a6-4bfb-bd67-2cbbcc4a4562"
   },
   "outputs": [
    {
     "name": "stdout",
     "output_type": "stream",
     "text": [
      "/content/proteinfer\n"
     ]
    }
   ],
   "source": [
    "%cd /content/proteinfer\n"
   ]
  },
  {
   "cell_type": "code",
   "execution_count": 11,
   "metadata": {
    "colab": {
     "base_uri": "https://localhost:8080/"
    },
    "executionInfo": {
     "elapsed": 9015,
     "status": "ok",
     "timestamp": 1729035072536,
     "user": {
      "displayName": "Harsh Srivastava",
      "userId": "15175257498592383309"
     },
     "user_tz": 240
    },
    "id": "IP_kBXR_hTuu",
    "outputId": "23d96dcf-b885-4a83-8762-82d12a6bfde5"
   },
   "outputs": [
    {
     "name": "stdout",
     "output_type": "stream",
     "text": [
      "I1015 23:31:05.704633 132923655995904 install_models.py:44] Downloading models\n",
      "\n",
      "Downloading and unzipping Pfam models to cached_models: 100% 1/1 [00:02<00:00,  2.38s/it]\n",
      "\n",
      "Downloading and unzipping EC models to cached_models: 100% 1/1 [00:01<00:00,  1.49s/it]\n",
      "\n",
      "Downloading and unzipping GO models to cached_models: 100% 1/1 [00:02<00:00,  2.34s/it]\n",
      "\n",
      "Overall progress: 100% 3/3 [00:06<00:00,  2.07s/it]\n",
      "\n",
      "\n"
     ]
    }
   ],
   "source": [
    "!/content/proteinfer/env/bin/python install_models.py\n"
   ]
  },
  {
   "cell_type": "code",
   "execution_count": 12,
   "metadata": {
    "colab": {
     "base_uri": "https://localhost:8080/"
    },
    "executionInfo": {
     "elapsed": 8317,
     "status": "ok",
     "timestamp": 1729035091162,
     "user": {
      "displayName": "Harsh Srivastava",
      "userId": "15175257498592383309"
     },
     "user_tz": 240
    },
    "id": "SWKA4TGWhXps",
    "outputId": "089610c8-de1a-4723-bf15-922745916cf8"
   },
   "outputs": [
    {
     "name": "stdout",
     "output_type": "stream",
     "text": [
      "I1015 23:31:24.966856 133997605921280 proteinfer.py:392] Running with 1 ensemble elements\n",
      "I1015 23:31:24.967089 133997605921280 proteinfer.py:189] Parsing input from testdata/test_hemoglobin.fasta\n",
      "Loading models: 100% 3/3 [00:03<00:00,  1.17s/it]\n",
      "\n",
      "Annotating batches of sequences: 100% 1/1 [00:00<00:00,  1.93it/s]\n",
      "\n",
      "Annotating batches of sequences: 100% 1/1 [00:00<00:00,  2.20it/s]\n",
      "\n",
      "Annotating batches of sequences: 100% 1/1 [00:00<00:00,  2.04it/s]\n",
      "\n",
      "Progress: 100% 3/3 [00:01<00:00,  1.71it/s]\n",
      "\n",
      "\n",
      "I1015 23:31:30.318562 133997605921280 proteinfer.py:340] Writing output to /content/hemoglobin_predictions.tsv\n"
     ]
    }
   ],
   "source": [
    "!/content/proteinfer/env/bin/python proteinfer.py -i testdata/test_hemoglobin.fasta -o /content/hemoglobin_predictions.tsv\n"
   ]
  },
  {
   "cell_type": "code",
   "execution_count": 13,
   "metadata": {
    "colab": {
     "base_uri": "https://localhost:8080/"
    },
    "executionInfo": {
     "elapsed": 292,
     "status": "ok",
     "timestamp": 1729035101309,
     "user": {
      "displayName": "Harsh Srivastava",
      "userId": "15175257498592383309"
     },
     "user_tz": 240
    },
    "id": "zQCo2EU8hd6G",
    "outputId": "8e444312-a899-4d8a-c41b-a61a9f5c81d6"
   },
   "outputs": [
    {
     "name": "stdout",
     "output_type": "stream",
     "text": [
      "sequence_name\tpredicted_label\tconfidence\tdescription\n",
      "sp|P69891|HBG1_HUMAN\tPfam:CL0090\t1.0\tGlobin\n",
      "sp|P69891|HBG1_HUMAN\tPfam:PF00042\t1.0\tGlobin\n",
      "sp|Q7AP54|HBP2_LISMO\tPfam:CL0159\t1.0\tE-set\n",
      "sp|Q7AP54|HBP2_LISMO\tPfam:PF05031\t1.0\tIron Transport-associated domain\n",
      "sp|P69891|HBG1_HUMAN\tGO:0017001\t1.0\tantibiotic catabolic process\n",
      "sp|P69891|HBG1_HUMAN\tGO:0016999\t1.0\tantibiotic metabolic process\n",
      "sp|P69891|HBG1_HUMAN\tGO:0005488\t1.0\tbinding\n",
      "sp|P69891|HBG1_HUMAN\tGO:0009056\t1.0\tcatabolic process\n",
      "sp|P69891|HBG1_HUMAN\tGO:0043169\t1.0\tcation binding\n",
      "sp|P69891|HBG1_HUMAN\tGO:0044464\t1.0\tcell part\n",
      "sp|P69891|HBG1_HUMAN\tGO:0044248\t1.0\tcellular catabolic process\n",
      "sp|P69891|HBG1_HUMAN\tGO:0022607\t1.0\tcellular component assembly\n",
      "sp|P69891|HBG1_HUMAN\tGO:0016043\t1.0\tcellular component organization\n",
      "sp|P69891|HBG1_HUMAN\tGO:0071840\t1.0\tcellular component organization or biogenesis\n",
      "sp|P69891|HBG1_HUMAN\tGO:1990748\t1.0\tcellular detoxification\n",
      "sp|P69891|HBG1_HUMAN\tGO:0044237\t1.0\tcellular metabolic process\n",
      "sp|P69891|HBG1_HUMAN\tGO:0098869\t1.0\tcellular oxidant detoxification\n",
      "sp|P69891|HBG1_HUMAN\tGO:0009987\t1.0\tcellular process\n",
      "sp|P69891|HBG1_HUMAN\tGO:0005575\t1.0\tcellular_component\n",
      "sp|P69891|HBG1_HUMAN\tGO:0048037\t1.0\tcofactor binding\n",
      "sp|P69891|HBG1_HUMAN\tGO:0051187\t1.0\tcofactor catabolic process\n",
      "sp|P69891|HBG1_HUMAN\tGO:0051186\t1.0\tcofactor metabolic process\n",
      "sp|P69891|HBG1_HUMAN\tGO:0044444\t1.0\tcytoplasmic part\n",
      "sp|P69891|HBG1_HUMAN\tGO:0044445\t1.0\tcytosolic part\n",
      "sp|P69891|HBG1_HUMAN\tGO:0098754\t1.0\tdetoxification\n",
      "sp|P69891|HBG1_HUMAN\tGO:0008144\t1.0\tdrug binding\n",
      "sp|P69891|HBG1_HUMAN\tGO:0042737\t1.0\tdrug catabolic process\n",
      "sp|P69891|HBG1_HUMAN\tGO:0017144\t1.0\tdrug metabolic process\n",
      "sp|P69891|HBG1_HUMAN\tGO:0031838\t1.0\thaptoglobin-hemoglobin complex\n",
      "sp|P69891|HBG1_HUMAN\tGO:0020037\t1.0\theme binding\n",
      "sp|P69891|HBG1_HUMAN\tGO:0005833\t1.0\themoglobin complex\n",
      "sp|P69891|HBG1_HUMAN\tGO:1901363\t1.0\theterocyclic compound binding\n",
      "sp|P69891|HBG1_HUMAN\tGO:0042744\t1.0\thydrogen peroxide catabolic process\n",
      "sp|P69891|HBG1_HUMAN\tGO:0042743\t1.0\thydrogen peroxide metabolic process\n",
      "sp|P69891|HBG1_HUMAN\tGO:0044424\t1.0\tintracellular part\n",
      "sp|P69891|HBG1_HUMAN\tGO:0043167\t1.0\tion binding\n",
      "sp|P69891|HBG1_HUMAN\tGO:0008152\t1.0\tmetabolic process\n",
      "sp|P69891|HBG1_HUMAN\tGO:0046872\t1.0\tmetal ion binding\n",
      "sp|P69891|HBG1_HUMAN\tGO:0003674\t1.0\tmolecular_function\n",
      "sp|P69891|HBG1_HUMAN\tGO:0043177\t1.0\torganic acid binding\n",
      "sp|P69891|HBG1_HUMAN\tGO:0097159\t1.0\torganic cyclic compound binding\n",
      "sp|P69891|HBG1_HUMAN\tGO:0019825\t1.0\toxygen binding\n",
      "sp|P69891|HBG1_HUMAN\tGO:0005344\t1.0\toxygen carrier activity\n",
      "sp|P69891|HBG1_HUMAN\tGO:0051259\t1.0\tprotein complex oligomerization\n",
      "sp|P69891|HBG1_HUMAN\tGO:0051291\t1.0\tprotein heterooligomerization\n",
      "sp|P69891|HBG1_HUMAN\tGO:0032991\t1.0\tprotein-containing complex\n",
      "sp|P69891|HBG1_HUMAN\tGO:0065003\t1.0\tprotein-containing complex assembly\n",
      "sp|P69891|HBG1_HUMAN\tGO:0043933\t1.0\tprotein-containing complex subunit organization\n",
      "sp|P69891|HBG1_HUMAN\tGO:0072593\t1.0\treactive oxygen species metabolic process\n",
      "sp|P69891|HBG1_HUMAN\tGO:0036094\t1.0\tsmall molecule binding\n",
      "sp|P69891|HBG1_HUMAN\tGO:0046906\t1.0\ttetrapyrrole binding\n",
      "sp|P69891|HBG1_HUMAN\tGO:0005215\t1.0\ttransporter activity\n",
      "sp|P69891|HBG1_HUMAN\tGO:0008150\t0.99\tbiological_process\n",
      "sp|P69891|HBG1_HUMAN\tGO:0032501\t0.92\tmulticellular organismal process\n",
      "sp|P69891|HBG1_HUMAN\tGO:0065007\t0.67\tbiological regulation\n",
      "sp|Q7AP54|HBP2_LISMO\tGO:0005488\t1.0\tbinding\n",
      "sp|Q7AP54|HBP2_LISMO\tGO:0008150\t1.0\tbiological_process\n",
      "sp|Q7AP54|HBP2_LISMO\tGO:0043169\t1.0\tcation binding\n",
      "sp|Q7AP54|HBP2_LISMO\tGO:0071241\t1.0\tcellular response to inorganic substance\n",
      "sp|Q7AP54|HBP2_LISMO\tGO:0071281\t1.0\tcellular response to iron ion\n",
      "sp|Q7AP54|HBP2_LISMO\tGO:0071248\t1.0\tcellular response to metal ion\n",
      "sp|Q7AP54|HBP2_LISMO\tGO:0005575\t1.0\tcellular_component\n",
      "sp|Q7AP54|HBP2_LISMO\tGO:0016021\t1.0\tintegral component of membrane\n",
      "sp|Q7AP54|HBP2_LISMO\tGO:0031224\t1.0\tintrinsic component of membrane\n",
      "sp|Q7AP54|HBP2_LISMO\tGO:0043167\t1.0\tion binding\n",
      "sp|Q7AP54|HBP2_LISMO\tGO:0044425\t1.0\tmembrane part\n",
      "sp|Q7AP54|HBP2_LISMO\tGO:0046872\t1.0\tmetal ion binding\n",
      "sp|Q7AP54|HBP2_LISMO\tGO:0003674\t1.0\tmolecular_function\n",
      "sp|Q7AP54|HBP2_LISMO\tGO:0042221\t1.0\tresponse to chemical\n",
      "sp|Q7AP54|HBP2_LISMO\tGO:0010035\t1.0\tresponse to inorganic substance\n",
      "sp|Q7AP54|HBP2_LISMO\tGO:0010039\t1.0\tresponse to iron ion\n",
      "sp|Q7AP54|HBP2_LISMO\tGO:0050896\t0.99\tresponse to stimulus\n",
      "sp|Q7AP54|HBP2_LISMO\tGO:0010038\t0.98\tresponse to metal ion\n",
      "sp|Q7AP54|HBP2_LISMO\tGO:0009987\t0.97\tcellular process\n",
      "sp|Q7AP54|HBP2_LISMO\tGO:0070887\t0.96\tcellular response to chemical stimulus\n",
      "sp|Q7AP54|HBP2_LISMO\tGO:0051716\t0.92\tcellular response to stimulus\n",
      "sp|Q7AP54|HBP2_LISMO\tGO:0005515\t0.71\tprotein binding\n"
     ]
    }
   ],
   "source": [
    "!cat /content/hemoglobin_predictions.tsv\n"
   ]
  },
  {
   "cell_type": "code",
   "execution_count": 14,
   "metadata": {
    "colab": {
     "base_uri": "https://localhost:8080/"
    },
    "executionInfo": {
     "elapsed": 293919,
     "status": "ok",
     "timestamp": 1729035494836,
     "user": {
      "displayName": "Harsh Srivastava",
      "userId": "15175257498592383309"
     },
     "user_tz": 240
    },
    "id": "oDgdFICPhg7I",
    "outputId": "7ce0073a-9dff-426b-cb7e-561f028da8d8"
   },
   "outputs": [
    {
     "name": "stdout",
     "output_type": "stream",
     "text": [
      "I1015 23:33:23.033097 138582009475584 proteinfer.py:392] Running with 1 ensemble elements\n",
      "I1015 23:33:23.033332 138582009475584 proteinfer.py:189] Parsing input from /content/Plasmodium_MA_component.fasta\n",
      "Loading models: 100% 3/3 [00:03<00:00,  1.17s/it]\n",
      "\n",
      "Annotating batches of sequences: 100% 23/23 [01:35<00:00,  4.15s/it]\n",
      "\n",
      "Annotating batches of sequences: 100% 23/23 [01:34<00:00,  4.12s/it]\n",
      "\n",
      "Annotating batches of sequences: 100% 23/23 [01:35<00:00,  4.14s/it]\n",
      "\n",
      "Progress: 100% 3/3 [04:46<00:00, 95.51s/it]\n",
      "\n",
      "\n",
      "I1015 23:38:13.794381 138582009475584 proteinfer.py:340] Writing output to /content/Plasmodium_predictions.tsv\n"
     ]
    }
   ],
   "source": [
    "!/content/proteinfer/env/bin/python proteinfer.py -i /content/Plasmodium_MA_component.fasta -o /content/Plasmodium_predictions.tsv\n"
   ]
  },
  {
   "cell_type": "code",
   "execution_count": 15,
   "metadata": {
    "colab": {
     "base_uri": "https://localhost:8080/"
    },
    "executionInfo": {
     "elapsed": 280699,
     "status": "ok",
     "timestamp": 1729035784382,
     "user": {
      "displayName": "Harsh Srivastava",
      "userId": "15175257498592383309"
     },
     "user_tz": 240
    },
    "id": "hXkyWxx0iz9E",
    "outputId": "5644527f-7b4d-41c9-c978-0ca9324f7795"
   },
   "outputs": [
    {
     "name": "stdout",
     "output_type": "stream",
     "text": [
      "I1015 23:38:25.819234 135030625776128 proteinfer.py:392] Running with 1 ensemble elements\n",
      "I1015 23:38:25.819470 135030625776128 proteinfer.py:189] Parsing input from /content/Plasmodium_MA_function.fasta\n",
      "Loading models: 100% 3/3 [00:03<00:00,  1.16s/it]\n",
      "\n",
      "Annotating batches of sequences: 100% 21/21 [01:30<00:00,  4.33s/it]\n",
      "\n",
      "Annotating batches of sequences: 100% 21/21 [01:30<00:00,  4.32s/it]\n",
      "\n",
      "Annotating batches of sequences: 100% 21/21 [01:30<00:00,  4.32s/it]\n",
      "\n",
      "Progress: 100% 3/3 [04:33<00:00, 91.15s/it]\n",
      "\n",
      "\n",
      "I1015 23:43:03.425977 135030625776128 proteinfer.py:340] Writing output to /content/Plasmodium_MFO_predictions.tsv\n"
     ]
    }
   ],
   "source": [
    "!/content/proteinfer/env/bin/python proteinfer.py -i /content/Plasmodium_MA_function.fasta -o /content/Plasmodium_MFO_predictions.tsv\n"
   ]
  },
  {
   "cell_type": "code",
   "execution_count": 16,
   "metadata": {
    "colab": {
     "base_uri": "https://localhost:8080/"
    },
    "executionInfo": {
     "elapsed": 281240,
     "status": "ok",
     "timestamp": 1729036065616,
     "user": {
      "displayName": "Harsh Srivastava",
      "userId": "15175257498592383309"
     },
     "user_tz": 240
    },
    "id": "6PyqvV5Gi3YI",
    "outputId": "d57f5ed0-9af5-4e2d-d9c3-3065422081b0"
   },
   "outputs": [
    {
     "name": "stdout",
     "output_type": "stream",
     "text": [
      "I1015 23:43:06.380767 131991398892032 proteinfer.py:392] Running with 1 ensemble elements\n",
      "I1015 23:43:06.380997 131991398892032 proteinfer.py:189] Parsing input from /content/Plasmodium_MA_process.fasta\n",
      "Loading models: 100% 3/3 [00:03<00:00,  1.16s/it]\n",
      "\n",
      "Annotating batches of sequences: 100% 22/22 [01:31<00:00,  4.14s/it]\n",
      "\n",
      "Annotating batches of sequences: 100% 22/22 [01:30<00:00,  4.13s/it]\n",
      "\n",
      "Annotating batches of sequences: 100% 22/22 [01:31<00:00,  4.14s/it]\n",
      "\n",
      "Progress: 100% 3/3 [04:34<00:00, 91.35s/it]\n",
      "\n",
      "\n",
      "I1015 23:47:44.604349 131991398892032 proteinfer.py:340] Writing output to /content/Plasmodium_BPO_predictions.tsv\n"
     ]
    }
   ],
   "source": [
    "!/content/proteinfer/env/bin/python proteinfer.py -i /content/Plasmodium_MA_process.fasta -o /content/Plasmodium_BPO_predictions.tsv\n"
   ]
  }
 ],
 "metadata": {
  "accelerator": "GPU",
  "colab": {
   "authorship_tag": "ABX9TyOtN0PnF2s5JUSU4y4Z3mQd",
   "gpuType": "A100",
   "machine_shape": "hm",
   "provenance": []
  },
  "kernelspec": {
   "display_name": "Python 3",
   "name": "python3"
  },
  "language_info": {
   "name": "python"
  }
 },
 "nbformat": 4,
 "nbformat_minor": 0
}

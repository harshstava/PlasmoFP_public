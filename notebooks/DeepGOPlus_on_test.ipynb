{
 "cells": [
  {
   "cell_type": "code",
   "execution_count": null,
   "metadata": {},
   "outputs": [],
   "source": [
    "import obonet \n",
    "from Bio import SeqIO\n",
    "from Bio.SeqRecord import SeqRecord\n",
    "from Bio.Seq import Seq\n",
    "import os\n",
    "import pandas as pd\n",
    "import numpy as np\n",
    "import re\n",
    "import requests\n",
    "from tqdm import tqdm\n",
    "import ast\n",
    "import pickle\n",
    "import math\n",
    "from sklearn.metrics import precision_recall_curve, auc\n",
    "import numpy as np \n",
    "import requests\n",
    "import urllib3\n",
    "#import sleep \n",
    "from time import sleep\n",
    "# Optional: Suppress warnings if SSL verification is disabled"
   ]
  },
  {
   "cell_type": "code",
   "execution_count": null,
   "metadata": {},
   "outputs": [],
   "source": [
    "test_MFO_sequences = list(SeqIO.parse(\"processed_data_90_30/function_test.fasta\", \"fasta\"))\n",
    "test_BPO_sequences = list(SeqIO.parse(\"processed_data_90_30/process_test.fasta\", \"fasta\"))\n",
    "test_CCO_sequences = list(SeqIO.parse(\"processed_data_90_30/component_test.fasta\", \"fasta\"))\n",
    "\n"
   ]
  },
  {
   "cell_type": "code",
   "execution_count": null,
   "metadata": {},
   "outputs": [],
   "source": [
    "print(\"Number of MFO test sequences: \", len(test_MFO_sequences))\n",
    "print(\"Number of BPO test sequences: \", len(test_BPO_sequences))\n",
    "print(\"Number of CCO test sequences: \", len(test_CCO_sequences))"
   ]
  },
  {
   "cell_type": "code",
   "execution_count": null,
   "metadata": {},
   "outputs": [],
   "source": [
    "plasmodium_MFO_sequences = list(SeqIO.parse(\"processed_data_90_30/Plasmodium_MA_function.fasta\", \"fasta\"))\n",
    "plasmodium_MFO_df = pd.read_csv(\"processed_data_90_30/Plasmodium_MA_function.tsv\", sep=\"\\t\")\n",
    "assert len(plasmodium_MFO_sequences) == len(plasmodium_MFO_df)\n",
    "\n",
    "plasmodium_BPO_sequences = list(SeqIO.parse(\"processed_data_90_30/Plasmodium_MA_process.fasta\", \"fasta\"))\n",
    "plasmodium_BPO_df = pd.read_csv(\"processed_data_90_30/Plasmodium_MA_process.tsv\", sep=\"\\t\")\n",
    "assert len(plasmodium_BPO_sequences) == len(plasmodium_BPO_df)\n",
    "\n",
    "plasmodium_CCO_sequences = list(SeqIO.parse(\"processed_data_90_30/Plasmodium_MA_component.fasta\", \"fasta\"))\n",
    "plasmodium_CCO_df = pd.read_csv(\"processed_data_90_30/Plasmodium_MA_component.tsv\", sep=\"\\t\")\n",
    "assert len(plasmodium_CCO_sequences) == len(plasmodium_CCO_df)\n",
    "\n",
    "#treat the Raw propagated GO terms as a list\n",
    "plasmodium_MFO_df['Raw propagated GO terms'] = plasmodium_MFO_df['Raw propagated GO terms'].apply(ast.literal_eval)\n",
    "plasmodium_BPO_df['Raw propagated GO terms'] = plasmodium_BPO_df['Raw propagated GO terms'].apply(ast.literal_eval)\n",
    "plasmodium_CCO_df['Raw propagated GO terms'] = plasmodium_CCO_df['Raw propagated GO terms'].apply(ast.literal_eval)"
   ]
  },
  {
   "cell_type": "code",
   "execution_count": null,
   "metadata": {},
   "outputs": [],
   "source": [
    "urllib3.disable_warnings(urllib3.exceptions.InsecureRequestWarning)\n",
    "# url = 'https://deepgo.cbrc.kaust.edu.sa/deepgo/api/create'\n",
    "def process_batch(batch_sequences):\n",
    "    url = \"https://deepgo.cbrc.kaust.edu.sa/deepgo/api/create\"\n",
    "    batch_data = \"\\n\".join([str(seq.seq) for seq in batch_sequences])\n",
    "    payload = {\n",
    "        'version': '1.0.20',\n",
    "        'data_format': 'enter',\n",
    "        'data': batch_data,\n",
    "        'threshold': 0.0\n",
    "    }\n",
    "    # print(payload)\n",
    "    try:\n",
    "        # Make a POST request with SSL verification disabled (for debugging)\n",
    "        response = requests.post(url, json=payload, verify=False)\n",
    "        response.raise_for_status()  # Raise an exception for HTTP errors\n",
    "        #sleep 10-20 seconds\n",
    "        # sleep(np.random.randint(4, 12))\n",
    "        return response.json()\n",
    "    \n",
    "    except requests.exceptions.RequestException as e:\n",
    "        print(f\"An error occurred: {e}\")\n",
    "        return {\"predictions\": []}  # Handle the error gracefully\n"
   ]
  },
  {
   "cell_type": "markdown",
   "metadata": {},
   "source": [
    "# Test sequences"
   ]
  },
  {
   "cell_type": "code",
   "execution_count": null,
   "metadata": {},
   "outputs": [],
   "source": [
    "function_predictions = []\n",
    "for i in tqdm(range(0, len(test_MFO_sequences), 100), desc=\"Processing function sequences\"):\n",
    "    batch = test_MFO_sequences[i:i+100]\n",
    "    response_data = process_batch(batch)\n",
    "\n",
    "    # Reverse the predictions to match the order of sequences in the batch\n",
    "    predictions_reversed = response_data.get('predictions', [])[::-1]\n",
    "\n",
    "    for seq, prediction in zip(batch, predictions_reversed):\n",
    "        function_predictions.append({\n",
    "            \"sequence_id\": seq.id,\n",
    "            \"prediction\": prediction\n",
    "        })\n",
    "\n",
    "print(function_predictions)\n",
    "\n",
    "process_predictions = []\n",
    "for i in tqdm(range(0, len(test_BPO_sequences), 100), desc=\"Processing process sequences\"):\n",
    "    batch = test_BPO_sequences[i:i+100]\n",
    "    response_data = process_batch(batch)\n",
    "    predictions_reversed = response_data['predictions'][::-1]\n",
    "    \n",
    "    for seq, prediction in zip(batch, predictions_reversed):\n",
    "        process_predictions.append({\n",
    "            \"sequence_id\": seq.id,\n",
    "            \"prediction\": prediction\n",
    "        })\n",
    "assert len(process_predictions) == len(test_BPO_sequences)\n",
    "\n",
    "component_predictions = []\n",
    "for i in tqdm(range(0, len(test_CCO_sequences), 100), desc=\"Processing function sequences\"):\n",
    "    batch = test_CCO_sequences[i:i+100]\n",
    "    response_data = process_batch(batch)\n",
    "    predictions_reversed = response_data['predictions'][::-1]\n",
    "    \n",
    "    for seq, prediction in zip(batch, predictions_reversed):\n",
    "        component_predictions.append({\n",
    "            \"sequence_id\": seq.id,\n",
    "            \"prediction\": prediction\n",
    "        })\n",
    "assert len(component_predictions) == len(test_CCO_sequences)"
   ]
  },
  {
   "cell_type": "code",
   "execution_count": null,
   "metadata": {},
   "outputs": [],
   "source": [
    "function_results_filtered = {} \n",
    "\n",
    "for i in function_predictions:\n",
    "    function_results_filtered[i['sequence_id']] = i['prediction']['functions'][1]['functions']\n",
    "\n",
    "process_results_filtered = {}\n",
    "for i in process_predictions:\n",
    "    process_results_filtered[i['sequence_id']] = i['prediction']['functions'][2]['functions']\n",
    "\n",
    "component_results_filtered = {}\n",
    "for i in component_predictions:\n",
    "    component_results_filtered[i['sequence_id']] = i['prediction']['functions'][0]['functions']"
   ]
  },
  {
   "cell_type": "code",
   "execution_count": null,
   "metadata": {},
   "outputs": [],
   "source": [
    "with open(\"processed_data_90_30/deepgoplus_disorder_function_predictions.pkl\", \"wb\") as f:\n",
    "    pickle.dump(function_predictions, f)\n",
    "\n",
    "with open(\"processed_data_90_30/deepgoplus_disorder_process_predictions.pkl\", \"wb\") as f:\n",
    "    pickle.dump(process_predictions, f)\n",
    "\n",
    "with open(\"processed_data_90_30/deepgoplus_disorder_component_predictions.pkl\", \"wb\") as f:\n",
    "    pickle.dump(component_predictions, f)"
   ]
  },
  {
   "cell_type": "markdown",
   "metadata": {},
   "source": [
    "# Plasmodium"
   ]
  },
  {
   "cell_type": "code",
   "execution_count": null,
   "metadata": {},
   "outputs": [],
   "source": [
    "assert len(function_predictions) == len(test_MFO_sequences)"
   ]
  },
  {
   "cell_type": "code",
   "execution_count": null,
   "metadata": {},
   "outputs": [],
   "source": []
  },
  {
   "cell_type": "code",
   "execution_count": null,
   "metadata": {},
   "outputs": [],
   "source": []
  },
  {
   "cell_type": "code",
   "execution_count": null,
   "metadata": {},
   "outputs": [],
   "source": [
    "function_predictions = []\n",
    "for i in tqdm(range(0, len(plasmodium_MFO_sequences), 100), desc=\"Processing function sequences\"):\n",
    "    batch = plasmodium_MFO_sequences[i:i+100]\n",
    "    response_data = process_batch(batch)\n",
    "\n",
    "    # Reverse the predictions to match the order of sequences in the batch\n",
    "    predictions_reversed = response_data.get('predictions', [])[::-1]\n",
    "\n",
    "    for seq, prediction in zip(batch, predictions_reversed):\n",
    "        function_predictions.append({\n",
    "            \"sequence_id\": seq.id,\n",
    "            \"prediction\": prediction\n",
    "        })\n",
    "\n",
    "assert len(function_predictions) == len(plasmodium_MFO_sequences)\n",
    "\n",
    "process_predictions = []\n",
    "for i in tqdm(range(0, len(plasmodium_BPO_sequences), 100), desc=\"Processing process sequences\"):\n",
    "    batch = plasmodium_BPO_sequences[i:i+100]\n",
    "    response_data = process_batch(batch)\n",
    "    predictions_reversed = response_data['predictions'][::-1]\n",
    "    \n",
    "    for seq, prediction in zip(batch, predictions_reversed):\n",
    "        process_predictions.append({\n",
    "            \"sequence_id\": seq.id,\n",
    "            \"prediction\": prediction\n",
    "        })\n",
    "assert len(process_predictions) == len(plasmodium_BPO_sequences)\n",
    "\n",
    "component_predictions = []\n",
    "for i in tqdm(range(0, len(plasmodium_CCO_sequences), 100), desc=\"Processing function sequences\"):\n",
    "    batch = plasmodium_CCO_sequences[i:i+100]\n",
    "    response_data = process_batch(batch)\n",
    "    predictions_reversed = response_data['predictions'][::-1]\n",
    "    \n",
    "    for seq, prediction in zip(batch, predictions_reversed):\n",
    "        component_predictions.append({\n",
    "            \"sequence_id\": seq.id,\n",
    "            \"prediction\": prediction\n",
    "        })\n",
    "assert len(component_predictions) == len(plasmodium_CCO_sequences)\n",
    "\n"
   ]
  },
  {
   "cell_type": "code",
   "execution_count": null,
   "metadata": {},
   "outputs": [],
   "source": [
    "with open(\"DeepGOPlus_function_predictions_threshold0.pkl\", \"wb\") as output_handle:\n",
    "    pickle.dump(function_predictions, output_handle)\n",
    "\n",
    "with open(\"DeepGOPlus_process_predictions_threshold0.pkl\", \"wb\") as output_handle:\n",
    "    pickle.dump(process_predictions, output_handle)\n",
    "\n",
    "with open(\"DeepGOPlus_component_predictions_threshold0.pkl\", \"wb\") as output_handle:\n",
    "    pickle.dump(component_predictions, output_handle)"
   ]
  },
  {
   "cell_type": "code",
   "execution_count": null,
   "metadata": {},
   "outputs": [],
   "source": [
    "function_results_filtered = {} \n",
    "\n",
    "for i in function_predictions:\n",
    "    function_results_filtered[i['sequence_id']] = i['prediction']['functions'][1]['functions']\n",
    "\n",
    "process_results_filtered = {}\n",
    "for i in process_predictions:\n",
    "    process_results_filtered[i['sequence_id']] = i['prediction']['functions'][2]['functions']\n",
    "\n",
    "component_results_filtered = {}\n",
    "for i in component_predictions:\n",
    "    component_results_filtered[i['sequence_id']] = i['prediction']['functions'][0]['functions']"
   ]
  },
  {
   "cell_type": "markdown",
   "metadata": {},
   "source": [
    "# Evaluation"
   ]
  },
  {
   "cell_type": "code",
   "execution_count": null,
   "metadata": {},
   "outputs": [],
   "source": [
    "\n",
    "#read C:\\Users\\stava\\Dropbox\\Bridge\\IA_all.tsv \n",
    "ia_df = pd.read_csv(r'IA_all.tsv', sep='\\t', header=None)\n",
    "ia_df.columns = ['GO', 'IA']\n",
    "\n",
    "ic_dict = dict(zip(ia_df['GO'], ia_df['IA']))"
   ]
  },
  {
   "cell_type": "code",
   "execution_count": null,
   "metadata": {},
   "outputs": [],
   "source": [
    "def df_to_annotation_dict_with_scores(df):\n",
    "    \"\"\"\n",
    "    Converts a DataFrame with 'Entry', 'GO terms', and 'Score' into a dictionary\n",
    "    where each Entry maps to a dictionary of {GO term: score}.\n",
    "    \"\"\"\n",
    "    annot_dict = {}\n",
    "    for entry, group in df.groupby('Entry'):\n",
    "        annot_dict[entry] = {row['GO terms']: row['Score'] for _, row in group.iterrows()}\n",
    "    return annot_dict\n",
    "\n",
    "# Convert the ground truth DataFrames to dictionaries (no scores needed)\n",
    "function_ground_truth_dict = df_to_annotation_dict(FUNCTION_GROUND_TRUTH)\n",
    "process_ground_truth_dict = df_to_annotation_dict(PROCESS_GROUND_TRUTH)\n",
    "component_ground_truth_dict = df_to_annotation_dict(COMPONENT_GROUND_TRUTH)\n",
    "\n",
    "# Convert the prediction DataFrames to dictionaries (with scores)\n",
    "function_pred_dict = df_to_annotation_dict_with_scores(function_df_out)\n",
    "process_pred_dict = df_to_annotation_dict_with_scores(process_df_out)\n",
    "component_pred_dict = df_to_annotation_dict_with_scores(component_df_out)\n"
   ]
  },
  {
   "cell_type": "code",
   "execution_count": null,
   "metadata": {},
   "outputs": [],
   "source": [
    "from utils_corrected import evaluate_annotations, _calculate_metrics_at_threshold, threshold_performance_metrics"
   ]
  },
  {
   "cell_type": "code",
   "execution_count": null,
   "metadata": {},
   "outputs": [],
   "source": [
    "MFO_smin, MFO_fmax, MFO_best_threshold_s, MFO_best_threshold_f, MFO_s_at_fmax, MFO_results_df = threshold_performance_metrics(\n",
    "    ic_dict, function_ground_truth_dict, function_pred_dict, threshold_range=np.arange(0, 1.01, 0.01)\n",
    ")\n",
    "\n",
    "MFO_aupr_micro = calculate_aupr_micro(function_ground_truth_dict, function_pred_dict)\n",
    "print(f\"AUPR Micro: {MFO_aupr_micro}\")\n",
    "BPO_smin, BPO_fmax, BPO_best_threshold_s, BPO_best_threshold_f, BPO_s_at_fmax, BPO_results_df = threshold_performance_metrics(\n",
    "    ic_dict, process_ground_truth_dict, process_pred_dict, threshold_range=np.arange(0, 1.01, 0.01)\n",
    ")\n",
    "BPO_aupr_micro = calculate_aupr_micro(process_ground_truth_dict, process_pred_dict)\n",
    "print(f\"AUPR Micro: {BPO_aupr_micro}\")\n",
    "CCO_smin, CCO_fmax, CCO_best_threshold_s, CCO_best_threshold_f, CCO_s_at_fmax, CCO_results_df = threshold_performance_metrics(\n",
    "    ic_dict, component_ground_truth_dict, component_pred_dict, threshold_range=np.arange(0, 1.01, 0.01)\n",
    ")\n",
    "CCO_aupr_micro = calculate_aupr_micro(component_ground_truth_dict, component_pred_dict)\n",
    "print(f\"AUPR Micro: {CCO_aupr_micro}\")\n",
    "\n"
   ]
  },
  {
   "cell_type": "code",
   "execution_count": null,
   "metadata": {},
   "outputs": [],
   "source": [
    "MFO_results_df.to_csv(\"Plasmodium_DeepGO_Plus_MFO_results_df.csv\", index=False)\n",
    "BPO_results_df.to_csv(\"Plasmodium_DeepGO_Plus_BPO_results_df.csv\", index=False)\n",
    "CCO_results_df.to_csv(\"Plasmodium_DeepGO_Plus_CCO_results_df.csv\", index=False)"
   ]
  },
  {
   "cell_type": "code",
   "execution_count": null,
   "metadata": {},
   "outputs": [],
   "source": [
    "#print RU, MI at fmax best threshold \n",
    "print(f\"MFO: S-min @ F-max Threshold ({MFO_best_threshold_f}): {MFO_s_at_fmax}\")\n",
    "ru = MFO_results_df[MFO_results_df['n'] == MFO_best_threshold_f]['ru'].values[0]\n",
    "mi = MFO_results_df[MFO_results_df['n'] == MFO_best_threshold_f]['mi'].values[0]\n",
    "print(f\"MFO: ru @ F-max Threshold: {ru}\")\n",
    "print(f\"MFO: mi @ F-max Threshold: {mi}\")\n",
    "print(f\"BPO: S-min @ F-max Threshold ({BPO_best_threshold_f}): {BPO_s_at_fmax}\")\n",
    "ru = BPO_results_df[BPO_results_df['n'] == BPO_best_threshold_f]['ru'].values[0]\n",
    "mi = BPO_results_df[BPO_results_df['n'] == BPO_best_threshold_f]['mi'].values[0]\n",
    "print(f\"BPO: ru @ F-max Threshold: {ru}\")\n",
    "print(f\"BPO: mi @ F-max Threshold: {mi}\")\n",
    "print(f\"CCO: S-min @ F-max Threshold ({CCO_best_threshold_f}): {CCO_s_at_fmax}\")\n",
    "ru = CCO_results_df[CCO_results_df['n'] == CCO_best_threshold_f]['ru'].values[0]\n",
    "mi = CCO_results_df[CCO_results_df['n'] == CCO_best_threshold_f]['mi'].values[0]\n",
    "print(f\"CCO: ru @ F-max Threshold: {ru}\")\n",
    "print(f\"CCO: mi @ F-max Threshold: {mi}\")\n"
   ]
  }
 ],
 "metadata": {
  "kernelspec": {
   "display_name": "NLP",
   "language": "python",
   "name": "python3"
  },
  "language_info": {
   "codemirror_mode": {
    "name": "ipython",
    "version": 3
   },
   "file_extension": ".py",
   "mimetype": "text/x-python",
   "name": "python",
   "nbconvert_exporter": "python",
   "pygments_lexer": "ipython3",
   "version": "3.9.15"
  }
 },
 "nbformat": 4,
 "nbformat_minor": 2
}
